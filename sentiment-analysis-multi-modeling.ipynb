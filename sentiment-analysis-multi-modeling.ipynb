{
 "cells": [
  {
   "cell_type": "code",
   "execution_count": 1,
   "id": "b76a57ab-0352-4081-a4ff-fb0a269c8c04",
   "metadata": {},
   "outputs": [],
   "source": [
    "__author__ = \"Yasaman Emami\"\n",
    "__email__ = ['emami.yasamann@gmail.com','yasaman.emami@sjsu.edu']"
   ]
  },
  {
   "cell_type": "markdown",
   "id": "751b89aa-159f-49e2-bc5f-16fa61ae9e79",
   "metadata": {},
   "source": [
    "## Create Spark Session and read data into spark dataframe"
   ]
  },
  {
   "cell_type": "code",
   "execution_count": 1,
   "id": "564e816f-d19a-4d1c-981e-a8bf02b063b0",
   "metadata": {
    "tags": []
   },
   "outputs": [
    {
     "name": "stderr",
     "output_type": "stream",
     "text": [
      "21/12/25 20:07:07 WARN Utils: Your hostname, YasamanEms-MacBook-Pro.local resolves to a loopback address: 127.0.0.1; using 10.0.0.250 instead (on interface en0)\n",
      "21/12/25 20:07:08 WARN Utils: Set SPARK_LOCAL_IP if you need to bind to another address\n",
      "21/12/25 20:07:08 WARN NativeCodeLoader: Unable to load native-hadoop library for your platform... using builtin-java classes where applicable\n",
      "Using Spark's default log4j profile: org/apache/spark/log4j-defaults.properties\n",
      "Setting default log level to \"WARN\".\n",
      "To adjust logging level use sc.setLogLevel(newLevel). For SparkR, use setLogLevel(newLevel).\n",
      "[Stage 0:>                                                          (0 + 1) / 1]\r"
     ]
    },
    {
     "name": "stdout",
     "output_type": "stream",
     "text": [
      "+--------------+----------+-------------------+-------+----------------------------------------------------------------------+-------+-----------------------------+--------------+-----------+\n",
      "|    reviewerID|      asin|       reviewerName|helpful|                                                            reviewText|overall|                      summary|unixReviewTime| reviewTime|\n",
      "+--------------+----------+-------------------+-------+----------------------------------------------------------------------+-------+-----------------------------+--------------+-----------+\n",
      "|A240ORQ2LF9LUI|0077613252|         Michelle W|   null|The materials arrived early and were in excellent condition.  Howev...|    4.0|               Material Great|    1394496000|03 11, 2014|\n",
      "|A1YCCU0YRLS0FE|0077613252|Rosalind White Ames|   null|I am really enjoying this book with the worksheets that make you re...|    4.0|                       Health|    1393113600|02 23, 2014|\n",
      "|A1BJHRQDYVAY2J|0077613252|     Allan R. Baker|   null|IF YOU ARE TAKING THIS CLASS DON\"T WASTE YOUR MONEY ON THIS SO CALL...|    1.0|           ARE YOU KIDING ME?|    1392595200|02 17, 2014|\n",
      "| APRDVZ6QBIQXT|0077613252|               Lucy|   null|This book was missing pages!!! Important pages. I couldn't answer s...|    3.0|              missing pages!!|    1392595200|02 17, 2014|\n",
      "|A2JZTTBSLS1QXV|0077775473|          Albert V.|   null|I have used LearnSmart and can officially say that this is an amazi...|    5.0|Best study product out there!|    1381708800|10 14, 2013|\n",
      "+--------------+----------+-------------------+-------+----------------------------------------------------------------------+-------+-----------------------------+--------------+-----------+\n",
      "only showing top 5 rows\n",
      "\n"
     ]
    },
    {
     "name": "stderr",
     "output_type": "stream",
     "text": [
      "                                                                                \r"
     ]
    }
   ],
   "source": [
    "from pyspark.sql import SparkSession\n",
    "from pyspark.sql.types import StructType, StructField, StringType\n",
    "  \n",
    "spark = SparkSession.builder.getOrCreate()\n",
    "\n",
    "schema = StructType([\n",
    "      StructField(\"reviewerID\",StringType(),True),\n",
    "      StructField(\"asin\",StringType(),True),\n",
    "      StructField(\"reviewerName\",StringType(),True),\n",
    "      StructField(\"helpful\",StringType(),True),\n",
    "      StructField(\"reviewText\",StringType(),True),\n",
    "      StructField(\"overall\",StringType(),True),\n",
    "      StructField(\"summary\",StringType(),True),\n",
    "      StructField(\"unixReviewTime\",StringType(),True),\n",
    "      StructField(\"reviewTime\",StringType(),True)\n",
    "  ])\n",
    "\n",
    "df = spark.read.schema(schema).json('../data/Software.json')\n",
    "df.show(5,truncate=70)"
   ]
  },
  {
   "cell_type": "code",
   "execution_count": 2,
   "id": "0aa3fe02-571d-46a5-b90c-551be8298c28",
   "metadata": {
    "tags": []
   },
   "outputs": [
    {
     "name": "stdout",
     "output_type": "stream",
     "text": [
      "+--------------------+-------+\n",
      "|          reviewText|overall|\n",
      "+--------------------+-------+\n",
      "|The materials arr...|      4|\n",
      "|I am really enjoy...|      4|\n",
      "|IF YOU ARE TAKING...|      1|\n",
      "|This book was mis...|      3|\n",
      "|I have used Learn...|      5|\n",
      "|Strong backgroung...|      4|\n",
      "|If you live on Ma...|      3|\n",
      "|i got this book o...|      5|\n",
      "|I was very happy ...|      5|\n",
      "|Recieved in a tim...|      5|\n",
      "|Maybe it's just m...|      2|\n",
      "|This was the text...|      5|\n",
      "|Not worth the pri...|      2|\n",
      "|This book served ...|      3|\n",
      "|I love how this b...|      4|\n",
      "|Great on the deli...|      5|\n",
      "|The book was deli...|      5|\n",
      "|Required to buy t...|      2|\n",
      "|Didn't help me mu...|      1|\n",
      "|Disappointing tex...|      1|\n",
      "+--------------------+-------+\n",
      "only showing top 20 rows\n",
      "\n"
     ]
    }
   ],
   "source": [
    "from pyspark.sql.types import IntegerType\n",
    "from pyspark.sql.functions import rand \n",
    "\n",
    "df = df.selectExpr(\"cast(reviewText as string) reviewText\",\n",
    "                   \"cast(overall as int) overall\")\n",
    "df.show()"
   ]
  },
  {
   "cell_type": "markdown",
   "id": "810e91cf-6e10-474b-80f3-1daaab80f415",
   "metadata": {},
   "source": [
    "## Cleaning data"
   ]
  },
  {
   "cell_type": "code",
   "execution_count": 3,
   "id": "ea9fccac-5a39-4d91-afba-92c0b0b4dd0b",
   "metadata": {
    "tags": []
   },
   "outputs": [
    {
     "name": "stderr",
     "output_type": "stream",
     "text": [
      "                                                                                \r"
     ]
    },
    {
     "data": {
      "text/plain": [
       "459370"
      ]
     },
     "execution_count": 3,
     "metadata": {},
     "output_type": "execute_result"
    }
   ],
   "source": [
    "df = df.na.drop(\"any\")\n",
    "df.count()"
   ]
  },
  {
   "cell_type": "markdown",
   "id": "b8460d1f-e1b8-4e53-a5c5-7bdaa19263ee",
   "metadata": {},
   "source": [
    "## Create a table from data to work with sql"
   ]
  },
  {
   "cell_type": "code",
   "execution_count": 4,
   "id": "50b59675-3fbe-4256-96f1-bd1e3d3ed667",
   "metadata": {
    "tags": []
   },
   "outputs": [
    {
     "name": "stderr",
     "output_type": "stream",
     "text": [
      "                                                                                \r"
     ]
    },
    {
     "name": "stdout",
     "output_type": "stream",
     "text": [
      "+--------------+-------+\n",
      "|count(overall)|overall|\n",
      "+--------------+-------+\n",
      "|        102542|      1|\n",
      "|         39394|      3|\n",
      "|        212399|      5|\n",
      "|         73590|      4|\n",
      "|         31445|      2|\n",
      "+--------------+-------+\n",
      "\n"
     ]
    }
   ],
   "source": [
    "from pyspark.sql import SparkSession\n",
    "  \n",
    "# creating sparksession and giving app name\n",
    "spark = SparkSession.builder.appName('sparkdf').getOrCreate()\n",
    "\n",
    "# creating a temporary view of\n",
    "# Dataframe and storing it into df\n",
    "df.createOrReplaceTempView(\"df\")\n",
    "\n",
    "# using the SQL query to count all\n",
    "# distinct records and display the\n",
    "# count on the screen\n",
    "spark.sql(\"select count((overall)),overall from df group by overall\").show()"
   ]
  },
  {
   "cell_type": "code",
   "execution_count": 5,
   "id": "beaebf12-a23a-4112-b07a-b8f15ba973f4",
   "metadata": {
    "tags": []
   },
   "outputs": [
    {
     "name": "stderr",
     "output_type": "stream",
     "text": [
      "                                                                                \r"
     ]
    },
    {
     "data": {
      "text/plain": [
       "419976"
      ]
     },
     "execution_count": 5,
     "metadata": {},
     "output_type": "execute_result"
    }
   ],
   "source": [
    "# filtering against review scores more than 5 or less than 1\n",
    "df = df.filter(\"overall<6 and overall!=3\")\n",
    "df = df.filter(\"overall>0\")\n",
    "df.count()"
   ]
  },
  {
   "cell_type": "code",
   "execution_count": 6,
   "id": "1fd4f879-c2b0-403b-aef4-39fbf90fdeeb",
   "metadata": {
    "tags": []
   },
   "outputs": [
    {
     "name": "stdout",
     "output_type": "stream",
     "text": [
      "+--------------------+-------+-----+\n",
      "|          reviewText|overall|label|\n",
      "+--------------------+-------+-----+\n",
      "|The materials arr...|      4|  1.0|\n",
      "|I am really enjoy...|      4|  1.0|\n",
      "|IF YOU ARE TAKING...|      1|  0.0|\n",
      "|I have used Learn...|      5|  1.0|\n",
      "|Strong backgroung...|      4|  1.0|\n",
      "|i got this book o...|      5|  1.0|\n",
      "|I was very happy ...|      5|  1.0|\n",
      "|Recieved in a tim...|      5|  1.0|\n",
      "|Maybe it's just m...|      2|  0.0|\n",
      "|This was the text...|      5|  1.0|\n",
      "|Not worth the pri...|      2|  0.0|\n",
      "|I love how this b...|      4|  1.0|\n",
      "|Great on the deli...|      5|  1.0|\n",
      "|The book was deli...|      5|  1.0|\n",
      "|Required to buy t...|      2|  0.0|\n",
      "|Didn't help me mu...|      1|  0.0|\n",
      "|Disappointing tex...|      1|  0.0|\n",
      "|This book provide...|      4|  1.0|\n",
      "|I've been using D...|      4|  1.0|\n",
      "|The demo is done ...|      4|  1.0|\n",
      "+--------------------+-------+-----+\n",
      "only showing top 20 rows\n",
      "\n"
     ]
    }
   ],
   "source": [
    "from pyspark.ml.feature import Bucketizer\n",
    "# map review scores into two categories\n",
    "bucketizer = Bucketizer(splits=[ 1, 4, 5 ],inputCol=\"overall\", outputCol=\"label\")\n",
    "df = bucketizer.setHandleInvalid(\"keep\").transform(df)\n",
    "\n",
    "df.show()"
   ]
  },
  {
   "cell_type": "code",
   "execution_count": 7,
   "id": "43c32960-49be-422f-818a-eff7b8b6805d",
   "metadata": {
    "tags": []
   },
   "outputs": [
    {
     "name": "stderr",
     "output_type": "stream",
     "text": [
      "                                                                                \r"
     ]
    },
    {
     "name": "stdout",
     "output_type": "stream",
     "text": [
      "+--------------+-------+\n",
      "|count(overall)|overall|\n",
      "+--------------+-------+\n",
      "|        102542|      1|\n",
      "|        212399|      5|\n",
      "|         73590|      4|\n",
      "|         31445|      2|\n",
      "+--------------+-------+\n",
      "\n"
     ]
    }
   ],
   "source": [
    "from pyspark.sql import SparkSession\n",
    "  \n",
    "# creating sparksession and giving app name\n",
    "\n",
    "# creating a temporary view of\n",
    "# Dataframe and storing it into df\n",
    "df.createOrReplaceTempView(\"df\")\n",
    "\n",
    "# using the SQL query to count all\n",
    "# distinct records and display the\n",
    "# count on the screen\n",
    "spark.sql(\"select count((overall)),overall from df group by overall\").show()"
   ]
  },
  {
   "cell_type": "code",
   "execution_count": 8,
   "id": "8dfd8552-3e06-4b62-9622-adad139079ce",
   "metadata": {
    "tags": []
   },
   "outputs": [
    {
     "name": "stdout",
     "output_type": "stream",
     "text": [
      "+--------------------+-------+-----+\n",
      "|          reviewText|overall|label|\n",
      "+--------------------+-------+-----+\n",
      "|The materials arr...|      4|  1.0|\n",
      "|I am really enjoy...|      4|  1.0|\n",
      "|IF YOU ARE TAKING...|      1|  0.0|\n",
      "|I have used Learn...|      5|  1.0|\n",
      "|Strong backgroung...|      4|  1.0|\n",
      "|i got this book o...|      5|  1.0|\n",
      "|I was very happy ...|      5|  1.0|\n",
      "|Recieved in a tim...|      5|  1.0|\n",
      "|Maybe it's just m...|      2|  0.0|\n",
      "|This was the text...|      5|  1.0|\n",
      "|Not worth the pri...|      2|  0.0|\n",
      "|I love how this b...|      4|  1.0|\n",
      "|Great on the deli...|      5|  1.0|\n",
      "|The book was deli...|      5|  1.0|\n",
      "|Required to buy t...|      2|  0.0|\n",
      "|Didn't help me mu...|      1|  0.0|\n",
      "|Disappointing tex...|      1|  0.0|\n",
      "|This book provide...|      4|  1.0|\n",
      "|I've been using D...|      4|  1.0|\n",
      "|The demo is done ...|      4|  1.0|\n",
      "+--------------------+-------+-----+\n",
      "only showing top 20 rows\n",
      "\n"
     ]
    }
   ],
   "source": [
    "df.show()"
   ]
  },
  {
   "cell_type": "code",
   "execution_count": 9,
   "id": "addc19a5-0c8a-443b-a7ec-b4bf60876723",
   "metadata": {
    "tags": []
   },
   "outputs": [],
   "source": [
    "#keeping reviewText and label column\n",
    "df = df[\"reviewText\", \"label\"]"
   ]
  },
  {
   "cell_type": "code",
   "execution_count": 10,
   "id": "5b90d660-fa3b-44ea-8b0c-279509141d29",
   "metadata": {
    "tags": []
   },
   "outputs": [],
   "source": [
    "#shuffling rows in df\n",
    "df = df.orderBy(rand())"
   ]
  },
  {
   "cell_type": "code",
   "execution_count": 11,
   "id": "efc7d841-80cb-4c75-aee0-2d3cca08deab",
   "metadata": {
    "tags": []
   },
   "outputs": [
    {
     "name": "stderr",
     "output_type": "stream",
     "text": [
      "                                                                                \r"
     ]
    },
    {
     "name": "stdout",
     "output_type": "stream",
     "text": [
      "+------------+-----+\n",
      "|count(label)|label|\n",
      "+------------+-----+\n",
      "|      133987|  0.0|\n",
      "|      285989|  1.0|\n",
      "+------------+-----+\n",
      "\n"
     ]
    }
   ],
   "source": [
    "#check how data is spread among two categories\n",
    "df.createOrReplaceTempView(\"df\")\n",
    "\n",
    "# using the SQL query to count all\n",
    "# distinct records and display the\n",
    "# count on the screen\n",
    "spark.sql(\"select count((label)),label from df group by label\").show()"
   ]
  },
  {
   "cell_type": "code",
   "execution_count": 12,
   "id": "e078c672-cb70-49a2-a0ca-108513d8ac04",
   "metadata": {
    "tags": []
   },
   "outputs": [
    {
     "name": "stdout",
     "output_type": "stream",
     "text": [
      "+--------------------+-----+\n",
      "|          reviewText|label|\n",
      "+--------------------+-----+\n",
      "|One of my favorit...|  1.0|\n",
      "|We love this prod...|  1.0|\n",
      "|I've spent many m...|  1.0|\n",
      "|Description of pr...|  0.0|\n",
      "|I'm not a novice ...|  0.0|\n",
      "|I have used the s...|  0.0|\n",
      "|Happy with the pu...|  1.0|\n",
      "|                Okay|  1.0|\n",
      "|I bought YNAB Pro...|  1.0|\n",
      "|This is the ONE P...|  0.0|\n",
      "|I returned a prev...|  1.0|\n",
      "|I was a little le...|  1.0|\n",
      "|I can't get anyth...|  0.0|\n",
      "|Downloaded two we...|  0.0|\n",
      "|download was easy...|  1.0|\n",
      "|I've been using T...|  1.0|\n",
      "|Best security sof...|  1.0|\n",
      "|I always wondered...|  1.0|\n",
      "|        resource hog|  0.0|\n",
      "|Great product. Ma...|  1.0|\n",
      "+--------------------+-----+\n",
      "only showing top 20 rows\n",
      "\n"
     ]
    },
    {
     "name": "stderr",
     "output_type": "stream",
     "text": [
      "                                                                                \r"
     ]
    }
   ],
   "source": [
    "df.show()"
   ]
  },
  {
   "cell_type": "code",
   "execution_count": 13,
   "id": "8e0c37d0-ce87-45ae-a31a-23f08d70b6f1",
   "metadata": {
    "tags": []
   },
   "outputs": [
    {
     "name": "stdout",
     "output_type": "stream",
     "text": [
      "+--------------------+-----+--------------------+--------------------+--------------------+--------------------+--------------------+\n",
      "|          reviewText|label|          lower_text|        no_line_text|   removed_punc_text|  removed_xtra_space|           final_txt|\n",
      "+--------------------+-----+--------------------+--------------------+--------------------+--------------------+--------------------+\n",
      "|One of my favorit...|  1.0|one of my favorit...|one of my favorit...|one of my favorit...|one of my favorit...|one of my favorit...|\n",
      "|We love this prod...|  1.0|we love this prod...|we love this prod...|we love this prod...|we love this prod...|we love this prod...|\n",
      "|I've spent many m...|  1.0|i've spent many m...|i've spent many m...|i ve spent many m...|i ve spent many m...| ve spent many ma...|\n",
      "|Description of pr...|  0.0|description of pr...|description of pr...|description of pr...|description of pr...|description of pr...|\n",
      "|I'm not a novice ...|  0.0|i'm not a novice ...|i'm not a novice ...|i m not a novice ...|i m not a novice ...|  not  novice use...|\n",
      "|I have used the s...|  0.0|i have used the s...|i have used the s...|i have used the s...|i have used the s...| have used the so...|\n",
      "|Happy with the pu...|  1.0|happy with the pu...|happy with the pu...|happy with the pu...|happy with the pu...|happy with the pu...|\n",
      "|                Okay|  1.0|                okay|                okay|                okay|                okay|                okay|\n",
      "|I bought YNAB Pro...|  1.0|i bought ynab pro...|i bought ynab pro...|i bought ynab pro...|i bought ynab pro...| bought ynab pro ...|\n",
      "|This is the ONE P...|  0.0|this is the one p...|this is the one p...|this is the one p...|this is the one p...|this is the one p...|\n",
      "|I returned a prev...|  1.0|i returned a prev...|i returned a prev...|i returned a prev...|i returned a prev...| returned  previo...|\n",
      "|I was a little le...|  1.0|i was a little le...|i was a little le...|i was a little le...|i was a little le...| was  little lear...|\n",
      "|I can't get anyth...|  0.0|i can't get anyth...|i can't get anyth...|i can t get anyth...|i can t get anyth...| can  get anythin...|\n",
      "|Downloaded two we...|  0.0|downloaded two we...|downloaded two we...|downloaded two we...|downloaded two we...|downloaded two we...|\n",
      "|download was easy...|  1.0|download was easy...|download was easy...|download was easy...|download was easy...|download was easy...|\n",
      "|I've been using T...|  1.0|i've been using t...|i've been using t...|i ve been using t...|i ve been using t...| ve been using tu...|\n",
      "|Best security sof...|  1.0|best security sof...|best security sof...|best security sof...|best security sof...|best security sof...|\n",
      "|I always wondered...|  1.0|i always wondered...|i always wondered...|i always wondered...|i always wondered...| always wondered ...|\n",
      "|        resource hog|  0.0|        resource hog|        resource hog|        resource hog|        resource hog|        resource hog|\n",
      "|Great product. Ma...|  1.0|great product. ma...|great product. ma...|great product  ma...|great product mak...|great product mak...|\n",
      "+--------------------+-----+--------------------+--------------------+--------------------+--------------------+--------------------+\n",
      "only showing top 20 rows\n",
      "\n"
     ]
    },
    {
     "name": "stderr",
     "output_type": "stream",
     "text": [
      "                                                                                \r"
     ]
    }
   ],
   "source": [
    "import pyspark.sql.functions as sq\n",
    "from pyspark.sql.functions import lower, col\n",
    "#replace regex\n",
    "\n",
    "#convert txt to lower case\n",
    "df = df.select(\"*\", lower(col('reviewText')).alias(\"lower_text\"))\n",
    "#remove new lines\n",
    "df = df.withColumn(\"no_line_text\", sq.regexp_replace(\"lower_text\", r\"\\n\", \" \"))\n",
    "#only keep words contains a-z\n",
    "df = df.withColumn(\"removed_punc_text\", sq.regexp_replace(\"no_line_text\", r\"[^a-z]\", \" \"))\n",
    "#replace multi space with one \n",
    "df = df.withColumn(\"removed_xtra_space\", sq.regexp_replace(\"removed_punc_text\", r\" +\", ' '))\n",
    "#remove single character from string\n",
    "df = df.withColumn(\"final_txt\", sq.regexp_replace(\"removed_xtra_space\",r\"\\b[a-zA-Z]\\b\", \"\"))\n",
    "df.show()"
   ]
  },
  {
   "cell_type": "code",
   "execution_count": 14,
   "id": "249474f3-1a8a-4ef8-81f4-97befdbc72ab",
   "metadata": {
    "tags": []
   },
   "outputs": [],
   "source": [
    "#dropping duplicates\n",
    "df = df.dropDuplicates()\n",
    "#df.show()"
   ]
  },
  {
   "cell_type": "code",
   "execution_count": 15,
   "id": "2c12853f-7ac3-4aae-a477-0bca212f5755",
   "metadata": {},
   "outputs": [
    {
     "name": "stderr",
     "output_type": "stream",
     "text": [
      "                                                                                \r"
     ]
    },
    {
     "data": {
      "text/plain": [
       "384534"
      ]
     },
     "execution_count": 15,
     "metadata": {},
     "output_type": "execute_result"
    }
   ],
   "source": [
    "df.count()"
   ]
  },
  {
   "cell_type": "markdown",
   "id": "7b241ffe-89e1-4493-b952-d39c2c9261b3",
   "metadata": {},
   "source": [
    "## Creating Pipelines"
   ]
  },
  {
   "cell_type": "code",
   "execution_count": 16,
   "id": "ae04c4b9-cd77-4977-a83c-0173ef2874f0",
   "metadata": {},
   "outputs": [],
   "source": [
    "#from pyspark.ml.feature import RegexTokenizer, StopWordsRemover, CountVectorizer\n",
    "import pyspark.ml.feature as ft\n",
    "from pyspark.ml.classification import LogisticRegression\n",
    "\n",
    "# regular expression tokenizer\n",
    "regex_tokenizer = ft.RegexTokenizer(inputCol=\"final_txt\", outputCol=\"words\", pattern=\"\\\\W\")\n",
    "\n",
    "# stop words\n",
    "stopwords_remover = ft.StopWordsRemover(inputCol=\"words\", outputCol=\"filtered\")\n",
    "\n",
    "# word ngrams\n",
    "##ngram = ft.NGram(n=4, inputCol=\"filtered\", outputCol=\"nGrams\")\n",
    "\n",
    "# bag of words count\n",
    "count_vectors = ft.CountVectorizer(inputCol=\"filtered\", outputCol=\"features\", vocabSize=10000, minDF=5)\n",
    "\n",
    "word2vec = ft.Word2Vec(vectorSize=10, seed=42, inputCol=\"filtered\", outputCol=\"features\")"
   ]
  },
  {
   "cell_type": "markdown",
   "id": "b52d305f-7264-43b1-879b-962d06c38712",
   "metadata": {},
   "source": [
    "#### Create pipeline with word2vec as word representor"
   ]
  },
  {
   "cell_type": "code",
   "execution_count": 17,
   "id": "6b9771b9-4215-4676-ac71-efca4f579ac2",
   "metadata": {
    "tags": []
   },
   "outputs": [
    {
     "name": "stderr",
     "output_type": "stream",
     "text": [
      "21/12/25 20:08:41 WARN BLAS: Failed to load implementation from: com.github.fommil.netlib.NativeSystemBLAS\n",
      "21/12/25 20:08:41 WARN BLAS: Failed to load implementation from: com.github.fommil.netlib.NativeRefBLAS\n",
      "[Stage 55:=====================================================>(198 + 2) / 200]\r"
     ]
    },
    {
     "name": "stdout",
     "output_type": "stream",
     "text": [
      "+--------------------------------------------------+--------------------------------------------------+-----+\n",
      "|                                         final_txt|                                          features|label|\n",
      "+--------------------------------------------------+--------------------------------------------------+-----+\n",
      "| ve been using turbo tax basic for many years i...|[0.13613224560818213,-0.058240396341054955,-0.3...|  1.0|\n",
      "| was surprised at how simple it was to install ...|[0.03974814601242543,-0.17528762798756362,-0.10...|  1.0|\n",
      "|game would not play on any of my computers so  ...|[0.23392875492572784,-0.4474961130569378,-0.008...|  0.0|\n",
      "|this product was for my father in law he just w...|[0.09535474683109083,-0.04171163343677395,-0.25...|  0.0|\n",
      "|works well as always hey it  quickbooks what do...|[0.04957500086165965,-0.15980561831966045,-0.19...|  1.0|\n",
      "+--------------------------------------------------+--------------------------------------------------+-----+\n",
      "only showing top 5 rows\n",
      "\n"
     ]
    },
    {
     "name": "stderr",
     "output_type": "stream",
     "text": [
      "                                                                                \r"
     ]
    }
   ],
   "source": [
    "from pyspark.ml import Pipeline\n",
    "from pyspark.ml.feature import OneHotEncoder, StringIndexer, VectorAssembler\n",
    "\n",
    "# create pipeline using word2vec for word representation\n",
    "pipeline_w = Pipeline(stages=[regex_tokenizer, stopwords_remover, word2vec])\n",
    "# fit the pipeline to training documents.\n",
    "pipeline_fit_w = pipeline_w.fit(df)\n",
    "dataset_w = pipeline_fit_w.transform(df)\n",
    "dataset_w = dataset_w[\"final_txt\", \"features\", \"label\"]\n",
    "\n",
    "dataset_w.show(5, truncate=50)"
   ]
  },
  {
   "cell_type": "markdown",
   "id": "1b3cc38a-572d-4187-8f7b-cb455dfc90f7",
   "metadata": {},
   "source": [
    "#### Create pipeline with countVectorizer as word representor"
   ]
  },
  {
   "cell_type": "code",
   "execution_count": 18,
   "id": "4c553f7e-0a5c-4284-accd-183a69db8196",
   "metadata": {},
   "outputs": [
    {
     "name": "stderr",
     "output_type": "stream",
     "text": [
      "[Stage 68:====================================================> (196 + 4) / 200]\r"
     ]
    },
    {
     "name": "stdout",
     "output_type": "stream",
     "text": [
      "+--------------------------------------------------+--------------------------------------------------+-----+\n",
      "|                                         final_txt|                                          features|label|\n",
      "+--------------------------------------------------+--------------------------------------------------+-----+\n",
      "| ve been using turbo tax basic for many years i...|(10000,[14,15,22,28,29,33,41,57,89,118,132,157,...|  1.0|\n",
      "| was surprised at how simple it was to install ...|(10000,[5,31,39,77,102,130,133,153,155,201,254,...|  1.0|\n",
      "|game would not play on any of my computers so  ...|(10000,[7,27,82,174,210,938],[1.0,1.0,1.0,1.0,1...|  0.0|\n",
      "|this product was for my father in law he just w...|(10000,[0,1,3,4,13,26,67,123,133,148,172,192,62...|  0.0|\n",
      "|works well as always hey it  quickbooks what do...|(10000,[1,21,30,100,273,351,546,644,2354,4494],...|  1.0|\n",
      "+--------------------------------------------------+--------------------------------------------------+-----+\n",
      "only showing top 5 rows\n",
      "\n"
     ]
    },
    {
     "name": "stderr",
     "output_type": "stream",
     "text": [
      "                                                                                \r"
     ]
    }
   ],
   "source": [
    "# create pipeline using countVectorizer for word representation\n",
    "pipeline = Pipeline(stages=[regex_tokenizer, stopwords_remover, count_vectors])\n",
    "pipeline_fit = pipeline.fit(df)\n",
    "dataset = pipeline_fit.transform(df)\n",
    "dataset = dataset[\"final_txt\", \"features\", \"label\"]\n",
    "dataset.show(5, truncate=50)"
   ]
  },
  {
   "cell_type": "markdown",
   "id": "5b12a5c4-e5b6-498c-95ea-16e0235a11eb",
   "metadata": {},
   "source": [
    "### Create test/train data sets"
   ]
  },
  {
   "cell_type": "code",
   "execution_count": 19,
   "id": "67f92f62-7602-4fa1-81bd-5dd5104507be",
   "metadata": {},
   "outputs": [
    {
     "name": "stderr",
     "output_type": "stream",
     "text": [
      "                                                                                \r"
     ]
    },
    {
     "name": "stdout",
     "output_type": "stream",
     "text": [
      "Training Dataset Count: 269301\n"
     ]
    },
    {
     "name": "stderr",
     "output_type": "stream",
     "text": [
      "[Stage 78:=====================================================>(199 + 1) / 200]\r"
     ]
    },
    {
     "name": "stdout",
     "output_type": "stream",
     "text": [
      "Test Dataset Count: 115233\n"
     ]
    },
    {
     "name": "stderr",
     "output_type": "stream",
     "text": [
      "                                                                                \r"
     ]
    }
   ],
   "source": [
    "# set seed for reproducibility\n",
    "(train_data_w, test_data_w) = dataset_w.randomSplit([0.7, 0.3], seed = 100)\n",
    "(train_data, test_data) = dataset.randomSplit([0.7, 0.3], seed = 100)\n",
    "\n",
    "print(\"Training Dataset Count: \" + str(train_data.count()))\n",
    "print(\"Test Dataset Count: \" + str(test_data.count()))"
   ]
  },
  {
   "cell_type": "markdown",
   "id": "d308a50d-91b5-49dd-8934-09d96fbf23cf",
   "metadata": {},
   "source": [
    "## Logistic Regression model with word2vec"
   ]
  },
  {
   "cell_type": "code",
   "execution_count": 20,
   "id": "da7043f4-0ab1-4ef1-b554-5644dd38ab42",
   "metadata": {
    "tags": []
   },
   "outputs": [
    {
     "name": "stderr",
     "output_type": "stream",
     "text": [
      "[Stage 151:=================================================>   (188 + 8) / 200]\r"
     ]
    },
    {
     "name": "stdout",
     "output_type": "stream",
     "text": [
      "+------------------------------+------------------------------+-----+----------+\n",
      "|                     final_txt|                   probability|label|prediction|\n",
      "+------------------------------+------------------------------+-----+----------+\n",
      "|                          blah|[0.9939376021691604,0.00606...|  0.0|       0.0|\n",
      "|mac software was not used i...|[0.9351647240608097,0.06483...|  0.0|       0.0|\n",
      "|                       refund |[0.9212227348392006,0.07877...|  1.0|       0.0|\n",
      "|          tech support stinks |[0.9209642567895252,0.07903...|  0.0|       0.0|\n",
      "|                        cancel|[0.9130237982797599,0.08697...|  0.0|       0.0|\n",
      "|                 buyer beware |[0.9129220637322322,0.08707...|  0.0|       0.0|\n",
      "|               code is invalid|[0.9055228303740475,0.09447...|  0.0|       0.0|\n",
      "| returned it phone support ...|[0.9053859749214284,0.09461...|  0.0|       0.0|\n",
      "|   misinformed by tech support|[0.9051060201172153,0.09489...|  0.0|       0.0|\n",
      "|                     waste of |[0.9039768022903374,0.09602...|  0.0|       0.0|\n",
      "+------------------------------+------------------------------+-----+----------+\n",
      "only showing top 10 rows\n",
      "\n"
     ]
    },
    {
     "name": "stderr",
     "output_type": "stream",
     "text": [
      "                                                                                \r"
     ]
    }
   ],
   "source": [
    "from pyspark.ml.classification import LogisticRegression\n",
    "\n",
    "lr = LogisticRegression(maxIter=20, regParam=0.3, elasticNetParam=0)\n",
    "# create LR model \n",
    "lrModel = lr.fit(train_data_w)\n",
    "# test LR model \n",
    "lrw_predictions = lrModel.transform(test_data_w)\n",
    "# show predictions\n",
    "lrw_predictions.filter(lrw_predictions['prediction'] == 0) \\\n",
    "    .select(\"final_txt\",\"probability\",\"label\",\"prediction\") \\\n",
    "    .orderBy(\"probability\", ascending=False) \\\n",
    "    .show(n = 10, truncate = 30)"
   ]
  },
  {
   "cell_type": "code",
   "execution_count": 21,
   "id": "befd379e-fd42-4e9e-acea-8af46115f784",
   "metadata": {},
   "outputs": [
    {
     "name": "stderr",
     "output_type": "stream",
     "text": [
      "[Stage 155:===================================================> (194 + 6) / 200]\r"
     ]
    },
    {
     "name": "stdout",
     "output_type": "stream",
     "text": [
      "Logistic Regression Accuracy: \n",
      "0.7141590435834239\n"
     ]
    },
    {
     "name": "stderr",
     "output_type": "stream",
     "text": [
      "                                                                                \r"
     ]
    }
   ],
   "source": [
    "from pyspark.ml.evaluation import MulticlassClassificationEvaluator\n",
    "\n",
    "# LR model evaluation\n",
    "lrw_evaluator = MulticlassClassificationEvaluator(predictionCol=\"prediction\")\n",
    "lrw_ev = lrw_evaluator.evaluate(lrw_predictions)\n",
    "print(\"Logistic Regression Accuracy: \\n\" + str(lrw_ev))"
   ]
  },
  {
   "cell_type": "markdown",
   "id": "12f94387-3246-40cf-9bb6-4955cddcb048",
   "metadata": {},
   "source": [
    "#### Logistic Regression with word2vec percision and recall"
   ]
  },
  {
   "cell_type": "code",
   "execution_count": 22,
   "id": "3fbf7e7e-a64d-4552-b781-b994ef92f77b",
   "metadata": {},
   "outputs": [
    {
     "name": "stderr",
     "output_type": "stream",
     "text": [
      "                                                                                \r"
     ]
    },
    {
     "name": "stdout",
     "output_type": "stream",
     "text": [
      "Logistic Regression model with word2vec Recall score: 0.9764888848229805\n",
      "Logistic Regression model with word2ve Precision score: 0.7382982717903619\n"
     ]
    }
   ],
   "source": [
    "from sklearn.metrics import precision_score\n",
    "from sklearn.metrics import recall_score\n",
    "import numpy as np\n",
    "\n",
    "y_true = np.array(lrw_predictions.select(\"label\").collect())\n",
    "y_pred = np.array(lrw_predictions.select(\"prediction\").collect())\n",
    "\n",
    "print(\"Logistic Regression model with word2vec Recall score: {}\".format(recall_score(y_true,y_pred)))\n",
    "print(\"Logistic Regression model with word2ve Precision score: {}\".format(precision_score(y_true,y_pred)))"
   ]
  },
  {
   "cell_type": "markdown",
   "id": "6641c5f1-25a5-4134-89cb-411ef19977c6",
   "metadata": {},
   "source": [
    "## Logistic Regression model with countVectorizer"
   ]
  },
  {
   "cell_type": "code",
   "execution_count": 23,
   "id": "38b5502b-3aed-4a56-9fbd-066649c2e806",
   "metadata": {},
   "outputs": [
    {
     "name": "stderr",
     "output_type": "stream",
     "text": [
      "                                                                                \r"
     ]
    },
    {
     "name": "stdout",
     "output_type": "stream",
     "text": [
      "Logistic Regression Accuracy: \n",
      "0.8208813364340677\n"
     ]
    },
    {
     "name": "stderr",
     "output_type": "stream",
     "text": [
      "                                                                                \r"
     ]
    },
    {
     "name": "stdout",
     "output_type": "stream",
     "text": [
      "Logistic Regression model with countVectorizer Recall score: 0.9776781630225962\n",
      "Logistic Regression model with countVectorizer Precision score: 0.811351040638591\n"
     ]
    }
   ],
   "source": [
    "# create LR model \n",
    "lrModel = lr.fit(train_data)\n",
    "# test LR model \n",
    "lr_predictions = lrModel.transform(test_data)\n",
    "# LR model evaluation\n",
    "lr_evaluator = MulticlassClassificationEvaluator(predictionCol=\"prediction\")\n",
    "lr_ev = lr_evaluator.evaluate(lr_predictions)\n",
    "\n",
    "print(\"Logistic Regression Accuracy: \\n\" + str(lr_ev))\n",
    "\n",
    "# calculate recall and percision\n",
    "y_true = np.array(lr_predictions.select(\"label\").collect())\n",
    "y_pred = np.array(lr_predictions.select(\"prediction\").collect())\n",
    "\n",
    "print(\"Logistic Regression model with countVectorizer Recall score: {}\".format(recall_score(y_true,y_pred)))\n",
    "print(\"Logistic Regression model with countVectorizer Precision score: {}\".format(precision_score(y_true,y_pred)))"
   ]
  },
  {
   "cell_type": "markdown",
   "id": "3152f7e3-6b91-4d8b-98ba-02299b0ce157",
   "metadata": {
    "tags": []
   },
   "source": [
    "## Naive Bayes model with countVec"
   ]
  },
  {
   "cell_type": "code",
   "execution_count": 24,
   "id": "968a6419-60f3-49e6-b778-aa9db449b0a0",
   "metadata": {
    "tags": []
   },
   "outputs": [
    {
     "name": "stderr",
     "output_type": "stream",
     "text": [
      "[Stage 291:===================================================> (194 + 6) / 200]\r"
     ]
    },
    {
     "name": "stdout",
     "output_type": "stream",
     "text": [
      "+------------------------------+----------------------------+-----+----------+\n",
      "|                     final_txt|                 probability|label|prediction|\n",
      "+------------------------------+----------------------------+-----+----------+\n",
      "| have been  loyal quicken u...|[1.0,1.0898014663275989E-16]|  0.0|       0.0|\n",
      "|if  could avg zero stars as...|[1.0,1.0888935461683305E-16]|  0.0|       0.0|\n",
      "| thought this would be  goo...|[1.0,1.0851742224007874E-16]|  0.0|       0.0|\n",
      "|product update won  load he...|  [1.0,1.07942202561331E-16]|  0.0|       0.0|\n",
      "| paid my money and  took my...|[1.0,1.0699416463158971E-16]|  0.0|       0.0|\n",
      "| ve been  faithful customer...|[1.0,1.0674598409110685E-16]|  0.0|       0.0|\n",
      "| should have read the other...|[1.0,1.0551504607407336E-16]|  0.0|       0.0|\n",
      "| have worked with wp before...|[1.0,1.0535035743565268E-16]|  1.0|       0.0|\n",
      "|this company is more intere...|[1.0,1.0522193051645666E-16]|  0.0|       0.0|\n",
      "|buyer beware if you have is...|[1.0,1.0390488505407307E-16]|  0.0|       0.0|\n",
      "+------------------------------+----------------------------+-----+----------+\n",
      "only showing top 10 rows\n",
      "\n"
     ]
    },
    {
     "name": "stderr",
     "output_type": "stream",
     "text": [
      "                                                                                \r"
     ]
    }
   ],
   "source": [
    "from pyspark.ml.classification import NaiveBayes\n",
    "\n",
    "nb = NaiveBayes(smoothing=1)\n",
    "# build Naive Bayes model\n",
    "nb_model = nb.fit(train_data)\n",
    "# predict labels of test data\n",
    "nb_predictions = nb_model.transform(test_data)\n",
    "nb_predictions.filter(nb_predictions['prediction'] == 0) \\\n",
    "    .select(\"final_txt\",\"probability\",\"label\",\"prediction\") \\\n",
    "    .orderBy(\"probability\", ascending=False) \\\n",
    "    .show(n = 10, truncate = 30)"
   ]
  },
  {
   "cell_type": "code",
   "execution_count": 25,
   "id": "ac36399b-fda5-4d66-a6cf-5455c965641e",
   "metadata": {},
   "outputs": [
    {
     "name": "stderr",
     "output_type": "stream",
     "text": [
      "[Stage 295:===================================================> (193 + 7) / 200]\r"
     ]
    },
    {
     "name": "stdout",
     "output_type": "stream",
     "text": [
      "Naive Bayes model Accuracy: \n",
      "0.86355321646359\n"
     ]
    },
    {
     "name": "stderr",
     "output_type": "stream",
     "text": [
      "                                                                                \r"
     ]
    }
   ],
   "source": [
    "# evaluate nb model\n",
    "nb_evaluator = MulticlassClassificationEvaluator(predictionCol=\"prediction\")\n",
    "nb_ev = nb_evaluator.evaluate(nb_predictions)\n",
    "\n",
    "print(\"Naive Bayes model Accuracy: \\n\" + str(nb_ev))"
   ]
  },
  {
   "cell_type": "code",
   "execution_count": 26,
   "id": "335e5fe2-ea4b-4204-b09c-1c6dd0f473d7",
   "metadata": {},
   "outputs": [
    {
     "name": "stderr",
     "output_type": "stream",
     "text": [
      "                                                                                \r"
     ]
    },
    {
     "name": "stdout",
     "output_type": "stream",
     "text": [
      "Naive Bayes model with countVec Recall score: 0.8998523203993883\n",
      "Naive Bayes model with countVec Precision score: 0.895428831523506\n"
     ]
    }
   ],
   "source": [
    "# calculate precision and recall for Naive Bayes model\n",
    "y_true = np.array(nb_predictions.select(\"label\").collect())\n",
    "y_pred = np.array(nb_predictions.select(\"prediction\").collect())\n",
    "\n",
    "print(\"Naive Bayes model with countVec Recall score: {}\".format(recall_score(y_true,y_pred)))\n",
    "print(\"Naive Bayes model with countVec Precision score: {}\".format(precision_score(y_true,y_pred)))"
   ]
  },
  {
   "cell_type": "code",
   "execution_count": null,
   "id": "a9016127-545b-4837-b0ac-f1484640c71e",
   "metadata": {},
   "outputs": [],
   "source": []
  },
  {
   "cell_type": "code",
   "execution_count": null,
   "id": "208d6c0b-e3f0-4e93-a39c-f7270fc94801",
   "metadata": {},
   "outputs": [],
   "source": []
  },
  {
   "cell_type": "markdown",
   "id": "fba2712c-9602-4281-8236-8d767949088b",
   "metadata": {},
   "source": [
    "## Random Forest Classifier with word2vec"
   ]
  },
  {
   "cell_type": "code",
   "execution_count": 27,
   "id": "5ca73771-ffab-425f-8cfa-262a17525504",
   "metadata": {
    "tags": []
   },
   "outputs": [
    {
     "name": "stderr",
     "output_type": "stream",
     "text": [
      "[Stage 338:==================================================>  (192 + 8) / 200]\r"
     ]
    },
    {
     "name": "stdout",
     "output_type": "stream",
     "text": [
      "+------------------------------+------------------------------+-----+----------+\n",
      "|                     final_txt|                   probability|label|prediction|\n",
      "+------------------------------+------------------------------+-----+----------+\n",
      "|during the download of this...|[0.7569473221640844,0.24305...|  0.0|       0.0|\n",
      "|it won  download no matter ...|[0.7569473221640844,0.24305...|  0.0|       0.0|\n",
      "|erased all my data no one w...|[0.7569473221640844,0.24305...|  0.0|       0.0|\n",
      "|when  purchased it  was ver...|[0.7569473221640844,0.24305...|  0.0|       0.0|\n",
      "|beware this product appears...|[0.7569473221640844,0.24305...|  0.0|       0.0|\n",
      "|terrible it would not downl...|[0.7569473221640844,0.24305...|  0.0|       0.0|\n",
      "| have used email pdf daily ...|[0.7569473221640844,0.24305...|  0.0|       0.0|\n",
      "| have  mac and this softwar...|[0.7569473221640844,0.24305...|  0.0|       0.0|\n",
      "|finally had to upgrade from...|[0.7569473221640844,0.24305...|  0.0|       0.0|\n",
      "| purchased ftm about  month...|[0.7569473221640844,0.24305...|  0.0|       0.0|\n",
      "+------------------------------+------------------------------+-----+----------+\n",
      "only showing top 10 rows\n",
      "\n"
     ]
    },
    {
     "name": "stderr",
     "output_type": "stream",
     "text": [
      "                                                                                \r"
     ]
    }
   ],
   "source": [
    "from pyspark.ml.classification import RandomForestClassifier\n",
    "\n",
    "rf = RandomForestClassifier(labelCol=\"label\", \\\n",
    "                            featuresCol=\"features\", \\\n",
    "                            numTrees = 100, \\\n",
    "                            maxDepth = 4, \\\n",
    "                            maxBins = 32)\n",
    "\n",
    "# train Random Forest model with word2vec pipeline with Training Data\n",
    "rf_model_w = rf.fit(train_data_w)\n",
    "# predict test data by Random Forest model with word2vec pipeline\n",
    "rf_predictions_w = rf_model_w.transform(test_data_w)\n",
    "rf_predictions_w.filter(rf_predictions_w['prediction'] == 0) \\\n",
    "    .select(\"final_txt\",\"probability\",\"label\",\"prediction\") \\\n",
    "    .orderBy(\"probability\", ascending=False) \\\n",
    "    .show(n = 10, truncate = 30)"
   ]
  },
  {
   "cell_type": "code",
   "execution_count": 28,
   "id": "48110383-1e3d-431a-867a-b00acc9a5801",
   "metadata": {},
   "outputs": [
    {
     "name": "stderr",
     "output_type": "stream",
     "text": [
      "[Stage 342:==================================================>  (191 + 8) / 200]\r"
     ]
    },
    {
     "name": "stdout",
     "output_type": "stream",
     "text": [
      "Random Forest with word2vec model Accuracy: \n",
      "0.7702472368451992\n"
     ]
    },
    {
     "name": "stderr",
     "output_type": "stream",
     "text": [
      "                                                                                \r"
     ]
    }
   ],
   "source": [
    "# evaluate Random Forest model with word2vec\n",
    "evaluator = MulticlassClassificationEvaluator(predictionCol=\"prediction\")\n",
    "rf_ev_w = evaluator.evaluate(rf_predictions_w)\n",
    "print(\"Random Forest with word2vec model Accuracy: \\n\" + str(rf_ev_w))"
   ]
  },
  {
   "cell_type": "code",
   "execution_count": 29,
   "id": "bfb7a145-cd9c-4e0c-b578-d0fcdddf3ecf",
   "metadata": {},
   "outputs": [
    {
     "name": "stderr",
     "output_type": "stream",
     "text": [
      "                                                                                \r"
     ]
    },
    {
     "name": "stdout",
     "output_type": "stream",
     "text": [
      "Random Forest model with w2v Recall score: 0.9240430231190454\n",
      "Random Forest model with w2v Precision score: 0.787474801474601\n"
     ]
    }
   ],
   "source": [
    "# calculate recall and percision for Random Forest word2vec pipeline \n",
    "y_true = np.array(rf_predictions_w.select(\"label\").collect())\n",
    "y_pred = np.array(rf_predictions_w.select(\"prediction\").collect())\n",
    "\n",
    "print(\"Random Forest model with w2v Recall score: {}\".format(recall_score(y_true,y_pred)))\n",
    "print(\"Random Forest model with w2v Precision score: {}\".format(precision_score(y_true,y_pred)))"
   ]
  },
  {
   "cell_type": "markdown",
   "id": "623698d6-b768-408f-8a59-505dd5ef99fe",
   "metadata": {},
   "source": [
    "## Random Forest Classifier with countVec"
   ]
  },
  {
   "cell_type": "code",
   "execution_count": 30,
   "id": "fde73471-086d-49e2-a66b-63926190cf0a",
   "metadata": {
    "tags": []
   },
   "outputs": [
    {
     "name": "stderr",
     "output_type": "stream",
     "text": [
      "21/12/25 20:26:05 WARN MemoryStore: Not enough space to cache rdd_851_0 in memory! (computed 36.7 MiB so far)\n",
      "21/12/25 20:26:05 WARN MemoryStore: Not enough space to cache rdd_851_1 in memory! (computed 36.7 MiB so far)\n",
      "21/12/25 20:26:05 WARN MemoryStore: Not enough space to cache rdd_851_3 in memory! (computed 36.7 MiB so far)\n",
      "21/12/25 20:26:05 WARN MemoryStore: Not enough space to cache rdd_851_6 in memory! (computed 36.7 MiB so far)\n",
      "21/12/25 20:26:05 WARN MemoryStore: Not enough space to cache rdd_851_5 in memory! (computed 36.7 MiB so far)\n",
      "21/12/25 20:26:05 WARN BlockManager: Persisting block rdd_851_3 to disk instead.\n",
      "21/12/25 20:26:05 WARN BlockManager: Persisting block rdd_851_6 to disk instead.\n",
      "21/12/25 20:26:05 WARN BlockManager: Persisting block rdd_851_0 to disk instead.\n",
      "21/12/25 20:26:05 WARN BlockManager: Persisting block rdd_851_5 to disk instead.\n",
      "21/12/25 20:26:05 WARN BlockManager: Persisting block rdd_851_1 to disk instead.\n",
      "21/12/25 20:26:05 WARN MemoryStore: Not enough space to cache rdd_851_0 in memory! (computed 24.3 MiB so far)\n",
      "21/12/25 20:26:05 WARN MemoryStore: Not enough space to cache rdd_851_5 in memory! (computed 24.3 MiB so far)\n",
      "21/12/25 20:26:05 WARN MemoryStore: Not enough space to cache rdd_851_6 in memory! (computed 24.3 MiB so far)\n",
      "21/12/25 20:26:06 WARN MemoryStore: Not enough space to cache rdd_851_9 in memory! (computed 24.3 MiB so far)\n",
      "21/12/25 20:26:06 WARN BlockManager: Persisting block rdd_851_9 to disk instead.\n",
      "21/12/25 20:26:06 WARN MemoryStore: Not enough space to cache rdd_851_8 in memory! (computed 24.3 MiB so far)\n",
      "21/12/25 20:26:06 WARN BlockManager: Persisting block rdd_851_8 to disk instead.\n",
      "21/12/25 20:26:06 WARN MemoryStore: Not enough space to cache rdd_851_10 in memory! (computed 16.2 MiB so far)\n",
      "21/12/25 20:26:06 WARN BlockManager: Persisting block rdd_851_10 to disk instead.\n",
      "21/12/25 20:26:06 WARN MemoryStore: Not enough space to cache rdd_851_14 in memory! (computed 16.2 MiB so far)\n",
      "21/12/25 20:26:06 WARN BlockManager: Persisting block rdd_851_14 to disk instead.\n",
      "21/12/25 20:26:06 WARN MemoryStore: Not enough space to cache rdd_851_11 in memory! (computed 24.3 MiB so far)\n",
      "21/12/25 20:26:06 WARN BlockManager: Persisting block rdd_851_11 to disk instead.\n",
      "21/12/25 20:26:07 WARN MemoryStore: Not enough space to cache rdd_851_13 in memory! (computed 16.2 MiB so far)\n",
      "21/12/25 20:26:07 WARN MemoryStore: Not enough space to cache rdd_851_15 in memory! (computed 16.2 MiB so far)\n",
      "21/12/25 20:26:07 WARN BlockManager: Persisting block rdd_851_15 to disk instead.\n",
      "21/12/25 20:26:07 WARN BlockManager: Persisting block rdd_851_13 to disk instead.\n",
      "21/12/25 20:26:07 WARN MemoryStore: Not enough space to cache rdd_851_12 in memory! (computed 24.3 MiB so far)\n",
      "21/12/25 20:26:07 WARN BlockManager: Persisting block rdd_851_12 to disk instead.\n",
      "21/12/25 20:26:07 WARN MemoryStore: Not enough space to cache rdd_851_8 in memory! (computed 6.8 MiB so far)\n",
      "21/12/25 20:26:07 WARN MemoryStore: Not enough space to cache rdd_851_11 in memory! (computed 4.4 MiB so far)\n",
      "21/12/25 20:26:08 WARN MemoryStore: Not enough space to cache rdd_851_14 in memory! (computed 24.3 MiB so far)\n",
      "21/12/25 20:26:08 WARN MemoryStore: Not enough space to cache rdd_851_15 in memory! (computed 24.3 MiB so far)\n",
      "21/12/25 20:26:08 WARN MemoryStore: Not enough space to cache rdd_851_13 in memory! (computed 24.3 MiB so far)\n",
      "21/12/25 20:26:08 WARN MemoryStore: Not enough space to cache rdd_851_17 in memory! (computed 10.5 MiB so far)\n",
      "21/12/25 20:26:08 WARN BlockManager: Persisting block rdd_851_17 to disk instead.\n",
      "21/12/25 20:26:08 WARN MemoryStore: Not enough space to cache rdd_851_16 in memory! (computed 36.7 MiB so far)\n",
      "21/12/25 20:26:08 WARN BlockManager: Persisting block rdd_851_16 to disk instead.\n",
      "21/12/25 20:26:08 WARN MemoryStore: Not enough space to cache rdd_851_18 in memory! (computed 16.2 MiB so far)\n",
      "21/12/25 20:26:08 WARN BlockManager: Persisting block rdd_851_18 to disk instead.\n",
      "21/12/25 20:26:09 WARN MemoryStore: Not enough space to cache rdd_851_22 in memory! (computed 6.8 MiB so far)\n",
      "21/12/25 20:26:09 WARN BlockManager: Persisting block rdd_851_22 to disk instead.\n",
      "21/12/25 20:26:09 WARN MemoryStore: Not enough space to cache rdd_851_20 in memory! (computed 6.8 MiB so far)\n",
      "21/12/25 20:26:09 WARN BlockManager: Persisting block rdd_851_20 to disk instead.\n",
      "21/12/25 20:26:09 WARN MemoryStore: Not enough space to cache rdd_851_16 in memory! (computed 16.2 MiB so far)\n",
      "21/12/25 20:26:09 WARN MemoryStore: Not enough space to cache rdd_851_23 in memory! (computed 10.5 MiB so far)\n",
      "21/12/25 20:26:09 WARN BlockManager: Persisting block rdd_851_23 to disk instead.\n",
      "21/12/25 20:26:09 WARN MemoryStore: Not enough space to cache rdd_851_18 in memory! (computed 16.2 MiB so far)\n",
      "21/12/25 20:26:09 WARN MemoryStore: Not enough space to cache rdd_851_17 in memory! (computed 10.5 MiB so far)\n",
      "21/12/25 20:26:09 WARN MemoryStore: Not enough space to cache rdd_851_23 in memory! (computed 24.3 MiB so far)\n",
      "21/12/25 20:26:09 WARN MemoryStore: Not enough space to cache rdd_851_20 in memory! (computed 4.4 MiB so far)\n",
      "21/12/25 20:26:09 WARN MemoryStore: Not enough space to cache rdd_851_22 in memory! (computed 10.5 MiB so far)\n",
      "21/12/25 20:26:10 WARN MemoryStore: Not enough space to cache rdd_851_24 in memory! (computed 16.2 MiB so far)\n",
      "21/12/25 20:26:10 WARN BlockManager: Persisting block rdd_851_24 to disk instead.\n",
      "21/12/25 20:26:10 WARN MemoryStore: Not enough space to cache rdd_851_27 in memory! (computed 6.8 MiB so far)\n",
      "21/12/25 20:26:10 WARN BlockManager: Persisting block rdd_851_27 to disk instead.\n",
      "21/12/25 20:26:10 WARN MemoryStore: Failed to reserve initial memory threshold of 1024.0 KiB for computing block rdd_851_29 in memory.\n",
      "21/12/25 20:26:10 WARN MemoryStore: Not enough space to cache rdd_851_28 in memory! (computed 4.4 MiB so far)\n",
      "21/12/25 20:26:10 WARN BlockManager: Persisting block rdd_851_28 to disk instead.\n",
      "21/12/25 20:26:10 WARN MemoryStore: Not enough space to cache rdd_851_29 in memory! (computed 384.0 B so far)\n",
      "21/12/25 20:26:10 WARN BlockManager: Persisting block rdd_851_29 to disk instead.\n",
      "21/12/25 20:26:10 WARN MemoryStore: Not enough space to cache rdd_851_24 in memory! (computed 24.3 MiB so far)\n",
      "21/12/25 20:26:10 WARN MemoryStore: Not enough space to cache rdd_851_30 in memory! (computed 16.2 MiB so far)\n",
      "21/12/25 20:26:10 WARN BlockManager: Persisting block rdd_851_30 to disk instead.\n",
      "21/12/25 20:26:10 WARN MemoryStore: Not enough space to cache rdd_851_31 in memory! (computed 10.5 MiB so far)\n",
      "21/12/25 20:26:10 WARN BlockManager: Persisting block rdd_851_31 to disk instead.\n",
      "21/12/25 20:26:11 WARN MemoryStore: Not enough space to cache rdd_851_28 in memory! (computed 36.7 MiB so far)\n",
      "21/12/25 20:26:11 WARN MemoryStore: Not enough space to cache rdd_851_32 in memory! (computed 6.8 MiB so far)\n",
      "21/12/25 20:26:11 WARN BlockManager: Persisting block rdd_851_32 to disk instead.\n",
      "21/12/25 20:26:11 WARN MemoryStore: Not enough space to cache rdd_851_30 in memory! (computed 16.2 MiB so far)\n",
      "21/12/25 20:26:11 WARN MemoryStore: Not enough space to cache rdd_851_29 in memory! (computed 24.3 MiB so far)\n",
      "21/12/25 20:26:11 WARN MemoryStore: Not enough space to cache rdd_851_33 in memory! (computed 4.4 MiB so far)\n",
      "21/12/25 20:26:11 WARN BlockManager: Persisting block rdd_851_33 to disk instead.\n",
      "21/12/25 20:26:12 WARN MemoryStore: Not enough space to cache rdd_851_31 in memory! (computed 36.7 MiB so far)\n",
      "21/12/25 20:26:12 WARN MemoryStore: Not enough space to cache rdd_851_34 in memory! (computed 10.5 MiB so far)\n",
      "21/12/25 20:26:12 WARN BlockManager: Persisting block rdd_851_34 to disk instead.\n",
      "21/12/25 20:26:12 WARN MemoryStore: Not enough space to cache rdd_851_32 in memory! (computed 36.7 MiB so far)\n",
      "21/12/25 20:26:12 WARN MemoryStore: Not enough space to cache rdd_851_36 in memory! (computed 16.2 MiB so far)\n",
      "21/12/25 20:26:12 WARN BlockManager: Persisting block rdd_851_36 to disk instead.\n",
      "21/12/25 20:26:12 WARN MemoryStore: Not enough space to cache rdd_851_38 in memory! (computed 4.4 MiB so far)\n",
      "21/12/25 20:26:12 WARN BlockManager: Persisting block rdd_851_38 to disk instead.\n",
      "21/12/25 20:26:12 WARN MemoryStore: Not enough space to cache rdd_851_35 in memory! (computed 36.7 MiB so far)\n",
      "21/12/25 20:26:12 WARN BlockManager: Persisting block rdd_851_35 to disk instead.\n",
      "21/12/25 20:26:12 WARN MemoryStore: Not enough space to cache rdd_851_33 in memory! (computed 16.2 MiB so far)\n",
      "21/12/25 20:26:12 WARN MemoryStore: Not enough space to cache rdd_851_34 in memory! (computed 36.7 MiB so far)\n",
      "21/12/25 20:26:13 WARN MemoryStore: Not enough space to cache rdd_851_37 in memory! (computed 36.7 MiB so far)\n",
      "21/12/25 20:26:13 WARN BlockManager: Persisting block rdd_851_37 to disk instead.\n",
      "21/12/25 20:26:13 WARN MemoryStore: Not enough space to cache rdd_851_35 in memory! (computed 10.5 MiB so far)\n",
      "21/12/25 20:26:13 WARN MemoryStore: Not enough space to cache rdd_851_40 in memory! (computed 2.5 MiB so far)\n",
      "21/12/25 20:26:13 WARN BlockManager: Persisting block rdd_851_40 to disk instead.\n",
      "21/12/25 20:26:13 WARN MemoryStore: Not enough space to cache rdd_851_39 in memory! (computed 36.7 MiB so far)\n",
      "21/12/25 20:26:13 WARN BlockManager: Persisting block rdd_851_39 to disk instead.\n",
      "21/12/25 20:26:13 WARN MemoryStore: Not enough space to cache rdd_851_37 in memory! (computed 10.5 MiB so far)\n",
      "21/12/25 20:26:14 WARN MemoryStore: Not enough space to cache rdd_851_39 in memory! (computed 36.7 MiB so far)\n",
      "21/12/25 20:26:14 WARN MemoryStore: Not enough space to cache rdd_851_40 in memory! (computed 16.2 MiB so far)\n",
      "21/12/25 20:26:14 WARN MemoryStore: Not enough space to cache rdd_851_41 in memory! (computed 24.3 MiB so far)\n",
      "21/12/25 20:26:14 WARN BlockManager: Persisting block rdd_851_41 to disk instead.\n",
      "21/12/25 20:26:14 WARN MemoryStore: Not enough space to cache rdd_851_42 in memory! (computed 16.2 MiB so far)\n",
      "21/12/25 20:26:14 WARN BlockManager: Persisting block rdd_851_42 to disk instead.\n",
      "21/12/25 20:26:14 WARN MemoryStore: Not enough space to cache rdd_851_45 in memory! (computed 36.7 MiB so far)\n",
      "21/12/25 20:26:14 WARN BlockManager: Persisting block rdd_851_45 to disk instead.\n",
      "21/12/25 20:26:14 WARN MemoryStore: Not enough space to cache rdd_851_44 in memory! (computed 36.7 MiB so far)\n",
      "21/12/25 20:26:14 WARN BlockManager: Persisting block rdd_851_44 to disk instead.\n",
      "21/12/25 20:26:14 WARN MemoryStore: Not enough space to cache rdd_851_46 in memory! (computed 6.8 MiB so far)\n",
      "21/12/25 20:26:14 WARN BlockManager: Persisting block rdd_851_46 to disk instead.\n",
      "21/12/25 20:26:14 WARN MemoryStore: Not enough space to cache rdd_851_41 in memory! (computed 6.8 MiB so far)\n",
      "21/12/25 20:26:15 WARN MemoryStore: Not enough space to cache rdd_851_44 in memory! (computed 10.5 MiB so far)\n",
      "21/12/25 20:26:15 WARN MemoryStore: Not enough space to cache rdd_851_47 in memory! (computed 36.7 MiB so far)\n",
      "21/12/25 20:26:15 WARN BlockManager: Persisting block rdd_851_47 to disk instead.\n",
      "21/12/25 20:26:15 WARN MemoryStore: Not enough space to cache rdd_851_48 in memory! (computed 36.7 MiB so far)\n",
      "21/12/25 20:26:15 WARN BlockManager: Persisting block rdd_851_48 to disk instead.\n",
      "21/12/25 20:26:15 WARN MemoryStore: Not enough space to cache rdd_851_46 in memory! (computed 16.2 MiB so far)\n",
      "21/12/25 20:26:16 WARN MemoryStore: Not enough space to cache rdd_851_49 in memory! (computed 16.2 MiB so far)\n",
      "21/12/25 20:26:16 WARN BlockManager: Persisting block rdd_851_49 to disk instead.\n",
      "21/12/25 20:26:16 WARN MemoryStore: Not enough space to cache rdd_851_48 in memory! (computed 6.8 MiB so far)\n",
      "21/12/25 20:26:16 WARN MemoryStore: Not enough space to cache rdd_851_47 in memory! (computed 36.7 MiB so far)\n",
      "21/12/25 20:26:16 WARN MemoryStore: Not enough space to cache rdd_851_50 in memory! (computed 16.2 MiB so far)\n",
      "21/12/25 20:26:16 WARN BlockManager: Persisting block rdd_851_50 to disk instead.\n",
      "21/12/25 20:26:16 WARN MemoryStore: Not enough space to cache rdd_851_52 in memory! (computed 24.3 MiB so far)\n",
      "21/12/25 20:26:16 WARN BlockManager: Persisting block rdd_851_52 to disk instead.\n",
      "21/12/25 20:26:17 WARN MemoryStore: Not enough space to cache rdd_851_49 in memory! (computed 16.2 MiB so far)\n",
      "21/12/25 20:26:17 WARN MemoryStore: Not enough space to cache rdd_851_50 in memory! (computed 4.4 MiB so far)\n",
      "21/12/25 20:26:17 WARN MemoryStore: Not enough space to cache rdd_851_52 in memory! (computed 10.5 MiB so far)\n",
      "21/12/25 20:26:17 WARN MemoryStore: Not enough space to cache rdd_851_56 in memory! (computed 16.2 MiB so far)\n",
      "21/12/25 20:26:17 WARN BlockManager: Persisting block rdd_851_56 to disk instead.\n",
      "21/12/25 20:26:18 WARN MemoryStore: Not enough space to cache rdd_851_57 in memory! (computed 36.7 MiB so far)\n",
      "21/12/25 20:26:18 WARN BlockManager: Persisting block rdd_851_57 to disk instead.\n",
      "21/12/25 20:26:18 WARN MemoryStore: Not enough space to cache rdd_851_58 in memory! (computed 10.5 MiB so far)\n",
      "21/12/25 20:26:18 WARN BlockManager: Persisting block rdd_851_58 to disk instead.\n",
      "21/12/25 20:26:18 WARN MemoryStore: Not enough space to cache rdd_851_56 in memory! (computed 36.7 MiB so far)\n",
      "21/12/25 20:26:18 WARN MemoryStore: Not enough space to cache rdd_851_59 in memory! (computed 10.5 MiB so far)\n",
      "21/12/25 20:26:18 WARN BlockManager: Persisting block rdd_851_59 to disk instead.\n",
      "21/12/25 20:26:18 WARN MemoryStore: Not enough space to cache rdd_851_57 in memory! (computed 10.5 MiB so far)\n",
      "21/12/25 20:26:18 WARN MemoryStore: Not enough space to cache rdd_851_61 in memory! (computed 24.3 MiB so far)\n",
      "21/12/25 20:26:18 WARN BlockManager: Persisting block rdd_851_61 to disk instead.\n",
      "21/12/25 20:26:18 WARN MemoryStore: Not enough space to cache rdd_851_62 in memory! (computed 24.3 MiB so far)\n",
      "21/12/25 20:26:18 WARN BlockManager: Persisting block rdd_851_62 to disk instead.\n",
      "21/12/25 20:26:18 WARN MemoryStore: Not enough space to cache rdd_851_60 in memory! (computed 36.7 MiB so far)\n",
      "21/12/25 20:26:18 WARN BlockManager: Persisting block rdd_851_60 to disk instead.\n",
      "21/12/25 20:26:19 WARN MemoryStore: Not enough space to cache rdd_851_59 in memory! (computed 16.2 MiB so far)\n",
      "21/12/25 20:26:19 WARN MemoryStore: Not enough space to cache rdd_851_63 in memory! (computed 24.3 MiB so far)\n",
      "21/12/25 20:26:19 WARN BlockManager: Persisting block rdd_851_63 to disk instead.\n",
      "21/12/25 20:26:19 WARN MemoryStore: Not enough space to cache rdd_851_64 in memory! (computed 10.5 MiB so far)\n",
      "21/12/25 20:26:19 WARN BlockManager: Persisting block rdd_851_64 to disk instead.\n",
      "21/12/25 20:26:19 WARN MemoryStore: Not enough space to cache rdd_851_60 in memory! (computed 24.3 MiB so far)\n",
      "21/12/25 20:26:19 WARN MemoryStore: Not enough space to cache rdd_851_62 in memory! (computed 10.5 MiB so far)\n",
      "21/12/25 20:26:19 WARN MemoryStore: Not enough space to cache rdd_851_61 in memory! (computed 24.3 MiB so far)\n",
      "21/12/25 20:26:20 WARN MemoryStore: Not enough space to cache rdd_851_65 in memory! (computed 16.2 MiB so far)\n",
      "21/12/25 20:26:20 WARN BlockManager: Persisting block rdd_851_65 to disk instead.\n",
      "21/12/25 20:26:20 WARN MemoryStore: Not enough space to cache rdd_851_63 in memory! (computed 24.3 MiB so far)\n",
      "21/12/25 20:26:20 WARN MemoryStore: Not enough space to cache rdd_851_66 in memory! (computed 16.2 MiB so far)\n",
      "21/12/25 20:26:20 WARN BlockManager: Persisting block rdd_851_66 to disk instead.\n",
      "21/12/25 20:26:20 WARN MemoryStore: Not enough space to cache rdd_851_67 in memory! (computed 24.3 MiB so far)\n",
      "21/12/25 20:26:20 WARN BlockManager: Persisting block rdd_851_67 to disk instead.\n",
      "21/12/25 20:26:20 WARN MemoryStore: Not enough space to cache rdd_851_68 in memory! (computed 6.8 MiB so far)\n",
      "21/12/25 20:26:20 WARN BlockManager: Persisting block rdd_851_68 to disk instead.\n",
      "21/12/25 20:26:20 WARN MemoryStore: Not enough space to cache rdd_851_69 in memory! (computed 2.5 MiB so far)\n",
      "21/12/25 20:26:20 WARN BlockManager: Persisting block rdd_851_69 to disk instead.\n",
      "21/12/25 20:26:20 WARN MemoryStore: Not enough space to cache rdd_851_65 in memory! (computed 16.2 MiB so far)\n",
      "21/12/25 20:26:20 WARN MemoryStore: Not enough space to cache rdd_851_70 in memory! (computed 24.3 MiB so far)\n",
      "21/12/25 20:26:20 WARN BlockManager: Persisting block rdd_851_70 to disk instead.\n",
      "21/12/25 20:26:21 WARN MemoryStore: Not enough space to cache rdd_851_66 in memory! (computed 2.5 MiB so far)\n",
      "21/12/25 20:26:21 WARN MemoryStore: Not enough space to cache rdd_851_67 in memory! (computed 36.7 MiB so far)\n",
      "21/12/25 20:26:21 WARN MemoryStore: Not enough space to cache rdd_851_71 in memory! (computed 16.2 MiB so far)\n",
      "21/12/25 20:26:21 WARN BlockManager: Persisting block rdd_851_71 to disk instead.\n",
      "21/12/25 20:26:21 WARN MemoryStore: Not enough space to cache rdd_851_72 in memory! (computed 4.4 MiB so far)\n",
      "21/12/25 20:26:21 WARN BlockManager: Persisting block rdd_851_72 to disk instead.\n",
      "21/12/25 20:26:21 WARN MemoryStore: Not enough space to cache rdd_851_69 in memory! (computed 16.2 MiB so far)\n",
      "21/12/25 20:26:21 WARN MemoryStore: Not enough space to cache rdd_851_70 in memory! (computed 10.5 MiB so far)\n",
      "21/12/25 20:26:21 WARN MemoryStore: Not enough space to cache rdd_851_68 in memory! (computed 24.3 MiB so far)\n",
      "21/12/25 20:26:21 WARN MemoryStore: Not enough space to cache rdd_851_71 in memory! (computed 24.3 MiB so far)\n",
      "21/12/25 20:26:22 WARN MemoryStore: Not enough space to cache rdd_851_75 in memory! (computed 2.5 MiB so far)\n",
      "21/12/25 20:26:22 WARN BlockManager: Persisting block rdd_851_75 to disk instead.\n",
      "21/12/25 20:26:22 WARN MemoryStore: Not enough space to cache rdd_851_72 in memory! (computed 36.7 MiB so far)\n",
      "21/12/25 20:26:22 WARN MemoryStore: Not enough space to cache rdd_851_74 in memory! (computed 10.5 MiB so far)\n",
      "21/12/25 20:26:22 WARN BlockManager: Persisting block rdd_851_74 to disk instead.\n",
      "21/12/25 20:26:22 WARN MemoryStore: Failed to reserve initial memory threshold of 1024.0 KiB for computing block rdd_851_79 in memory.\n",
      "21/12/25 20:26:22 WARN MemoryStore: Not enough space to cache rdd_851_78 in memory! (computed 24.3 MiB so far)\n",
      "21/12/25 20:26:22 WARN BlockManager: Persisting block rdd_851_78 to disk instead.\n",
      "21/12/25 20:26:22 WARN MemoryStore: Not enough space to cache rdd_851_74 in memory! (computed 10.5 MiB so far)\n",
      "21/12/25 20:26:22 WARN MemoryStore: Not enough space to cache rdd_851_76 in memory! (computed 24.3 MiB so far)\n",
      "21/12/25 20:26:22 WARN BlockManager: Persisting block rdd_851_76 to disk instead.\n",
      "21/12/25 20:26:22 WARN MemoryStore: Not enough space to cache rdd_851_77 in memory! (computed 24.3 MiB so far)\n",
      "21/12/25 20:26:22 WARN BlockManager: Persisting block rdd_851_77 to disk instead.\n",
      "21/12/25 20:26:22 WARN MemoryStore: Not enough space to cache rdd_851_75 in memory! (computed 4.4 MiB so far)\n",
      "21/12/25 20:26:23 WARN MemoryStore: Not enough space to cache rdd_851_79 in memory! (computed 384.0 B so far)\n",
      "21/12/25 20:26:23 WARN BlockManager: Persisting block rdd_851_79 to disk instead.\n",
      "21/12/25 20:26:23 WARN MemoryStore: Not enough space to cache rdd_851_78 in memory! (computed 24.3 MiB so far)\n",
      "21/12/25 20:26:23 WARN MemoryStore: Not enough space to cache rdd_851_81 in memory! (computed 16.2 MiB so far)\n",
      "21/12/25 20:26:23 WARN BlockManager: Persisting block rdd_851_81 to disk instead.\n",
      "21/12/25 20:26:23 WARN MemoryStore: Not enough space to cache rdd_851_76 in memory! (computed 16.2 MiB so far)\n",
      "21/12/25 20:26:23 WARN MemoryStore: Not enough space to cache rdd_851_80 in memory! (computed 24.3 MiB so far)\n",
      "21/12/25 20:26:23 WARN BlockManager: Persisting block rdd_851_80 to disk instead.\n",
      "21/12/25 20:26:23 WARN MemoryStore: Not enough space to cache rdd_851_77 in memory! (computed 10.5 MiB so far)\n",
      "21/12/25 20:26:23 WARN MemoryStore: Not enough space to cache rdd_851_82 in memory! (computed 16.2 MiB so far)\n",
      "21/12/25 20:26:23 WARN BlockManager: Persisting block rdd_851_82 to disk instead.\n",
      "21/12/25 20:26:24 WARN MemoryStore: Not enough space to cache rdd_851_80 in memory! (computed 24.3 MiB so far)\n",
      "21/12/25 20:26:25 WARN MemoryStore: Not enough space to cache rdd_851_82 in memory! (computed 24.3 MiB so far)\n",
      "21/12/25 20:26:25 WARN MemoryStore: Not enough space to cache rdd_851_85 in memory! (computed 10.5 MiB so far)\n",
      "21/12/25 20:26:25 WARN BlockManager: Persisting block rdd_851_85 to disk instead.\n",
      "21/12/25 20:26:25 WARN MemoryStore: Not enough space to cache rdd_851_84 in memory! (computed 10.5 MiB so far)\n",
      "21/12/25 20:26:25 WARN BlockManager: Persisting block rdd_851_84 to disk instead.\n",
      "21/12/25 20:26:25 WARN MemoryStore: Not enough space to cache rdd_851_86 in memory! (computed 36.7 MiB so far)\n",
      "21/12/25 20:26:25 WARN BlockManager: Persisting block rdd_851_86 to disk instead.\n",
      "21/12/25 20:26:25 WARN MemoryStore: Not enough space to cache rdd_851_85 in memory! (computed 4.4 MiB so far)\n",
      "21/12/25 20:26:25 WARN MemoryStore: Not enough space to cache rdd_851_90 in memory! (computed 2.5 MiB so far)\n",
      "21/12/25 20:26:25 WARN BlockManager: Persisting block rdd_851_90 to disk instead.\n",
      "21/12/25 20:26:25 WARN MemoryStore: Not enough space to cache rdd_851_84 in memory! (computed 4.4 MiB so far)\n",
      "21/12/25 20:26:25 WARN MemoryStore: Not enough space to cache rdd_851_88 in memory! (computed 24.3 MiB so far)\n",
      "21/12/25 20:26:25 WARN BlockManager: Persisting block rdd_851_88 to disk instead.\n",
      "21/12/25 20:26:25 WARN MemoryStore: Not enough space to cache rdd_851_86 in memory! (computed 4.4 MiB so far)\n",
      "21/12/25 20:26:25 WARN MemoryStore: Not enough space to cache rdd_851_91 in memory! (computed 4.4 MiB so far)\n",
      "21/12/25 20:26:25 WARN BlockManager: Persisting block rdd_851_91 to disk instead.\n",
      "21/12/25 20:26:26 WARN MemoryStore: Not enough space to cache rdd_851_88 in memory! (computed 24.3 MiB so far)\n",
      "21/12/25 20:26:26 WARN MemoryStore: Not enough space to cache rdd_851_90 in memory! (computed 24.3 MiB so far)\n",
      "21/12/25 20:26:27 WARN MemoryStore: Not enough space to cache rdd_851_95 in memory! (computed 2.5 MiB so far)\n",
      "21/12/25 20:26:27 WARN BlockManager: Persisting block rdd_851_95 to disk instead.\n",
      "21/12/25 20:26:27 WARN MemoryStore: Not enough space to cache rdd_851_93 in memory! (computed 16.2 MiB so far)\n",
      "21/12/25 20:26:27 WARN BlockManager: Persisting block rdd_851_93 to disk instead.\n",
      "21/12/25 20:26:27 WARN MemoryStore: Not enough space to cache rdd_851_92 in memory! (computed 24.3 MiB so far)\n",
      "21/12/25 20:26:27 WARN BlockManager: Persisting block rdd_851_92 to disk instead.\n",
      "21/12/25 20:26:27 WARN MemoryStore: Not enough space to cache rdd_851_91 in memory! (computed 36.7 MiB so far)\n",
      "21/12/25 20:26:27 WARN MemoryStore: Not enough space to cache rdd_851_94 in memory! (computed 10.5 MiB so far)\n",
      "21/12/25 20:26:27 WARN BlockManager: Persisting block rdd_851_94 to disk instead.\n",
      "21/12/25 20:26:27 WARN MemoryStore: Not enough space to cache rdd_851_93 in memory! (computed 6.8 MiB so far)\n",
      "21/12/25 20:26:27 WARN MemoryStore: Not enough space to cache rdd_851_98 in memory! (computed 4.4 MiB so far)\n",
      "21/12/25 20:26:27 WARN BlockManager: Persisting block rdd_851_98 to disk instead.\n",
      "21/12/25 20:26:27 WARN MemoryStore: Not enough space to cache rdd_851_92 in memory! (computed 24.3 MiB so far)\n",
      "21/12/25 20:26:27 WARN MemoryStore: Not enough space to cache rdd_851_96 in memory! (computed 36.7 MiB so far)\n",
      "21/12/25 20:26:27 WARN BlockManager: Persisting block rdd_851_96 to disk instead.\n",
      "21/12/25 20:26:27 WARN MemoryStore: Not enough space to cache rdd_851_94 in memory! (computed 2.5 MiB so far)\n",
      "21/12/25 20:26:27 WARN MemoryStore: Not enough space to cache rdd_851_97 in memory! (computed 36.7 MiB so far)\n",
      "21/12/25 20:26:27 WARN BlockManager: Persisting block rdd_851_97 to disk instead.\n",
      "21/12/25 20:26:28 WARN MemoryStore: Not enough space to cache rdd_851_99 in memory! (computed 10.5 MiB so far)\n",
      "21/12/25 20:26:28 WARN BlockManager: Persisting block rdd_851_99 to disk instead.\n",
      "21/12/25 20:26:28 WARN MemoryStore: Not enough space to cache rdd_851_98 in memory! (computed 24.3 MiB so far)\n",
      "21/12/25 20:26:28 WARN MemoryStore: Not enough space to cache rdd_851_102 in memory! (computed 4.4 MiB so far)\n",
      "21/12/25 20:26:28 WARN BlockManager: Persisting block rdd_851_102 to disk instead.\n",
      "21/12/25 20:26:29 WARN MemoryStore: Not enough space to cache rdd_851_100 in memory! (computed 24.3 MiB so far)\n",
      "21/12/25 20:26:29 WARN BlockManager: Persisting block rdd_851_100 to disk instead.\n",
      "21/12/25 20:26:29 WARN MemoryStore: Not enough space to cache rdd_851_103 in memory! (computed 6.8 MiB so far)\n",
      "21/12/25 20:26:29 WARN BlockManager: Persisting block rdd_851_103 to disk instead.\n",
      "21/12/25 20:26:29 WARN MemoryStore: Not enough space to cache rdd_851_99 in memory! (computed 36.7 MiB so far)\n",
      "21/12/25 20:26:29 WARN MemoryStore: Not enough space to cache rdd_851_101 in memory! (computed 24.3 MiB so far)\n",
      "21/12/25 20:26:29 WARN BlockManager: Persisting block rdd_851_101 to disk instead.\n",
      "21/12/25 20:26:29 WARN MemoryStore: Not enough space to cache rdd_851_105 in memory! (computed 16.2 MiB so far)\n",
      "21/12/25 20:26:29 WARN BlockManager: Persisting block rdd_851_105 to disk instead.\n",
      "21/12/25 20:26:29 WARN MemoryStore: Not enough space to cache rdd_851_101 in memory! (computed 10.5 MiB so far)\n",
      "21/12/25 20:26:29 WARN MemoryStore: Not enough space to cache rdd_851_102 in memory! (computed 10.5 MiB so far)\n",
      "21/12/25 20:26:29 WARN MemoryStore: Not enough space to cache rdd_851_100 in memory! (computed 24.3 MiB so far)\n",
      "21/12/25 20:26:30 WARN MemoryStore: Not enough space to cache rdd_851_103 in memory! (computed 24.3 MiB so far)\n",
      "21/12/25 20:26:30 WARN MemoryStore: Not enough space to cache rdd_851_106 in memory! (computed 24.3 MiB so far)\n",
      "21/12/25 20:26:30 WARN BlockManager: Persisting block rdd_851_106 to disk instead.\n",
      "21/12/25 20:26:30 WARN MemoryStore: Not enough space to cache rdd_851_107 in memory! (computed 10.5 MiB so far)\n",
      "21/12/25 20:26:30 WARN BlockManager: Persisting block rdd_851_107 to disk instead.\n",
      "21/12/25 20:26:30 WARN MemoryStore: Not enough space to cache rdd_851_108 in memory! (computed 6.8 MiB so far)\n",
      "21/12/25 20:26:30 WARN BlockManager: Persisting block rdd_851_108 to disk instead.\n",
      "21/12/25 20:26:30 WARN MemoryStore: Not enough space to cache rdd_851_110 in memory! (computed 4.4 MiB so far)\n",
      "21/12/25 20:26:30 WARN BlockManager: Persisting block rdd_851_110 to disk instead.\n",
      "21/12/25 20:26:30 WARN MemoryStore: Not enough space to cache rdd_851_111 in memory! (computed 6.8 MiB so far)\n",
      "21/12/25 20:26:30 WARN BlockManager: Persisting block rdd_851_111 to disk instead.\n",
      "21/12/25 20:26:30 WARN MemoryStore: Not enough space to cache rdd_851_106 in memory! (computed 24.3 MiB so far)\n",
      "21/12/25 20:26:30 WARN MemoryStore: Not enough space to cache rdd_851_109 in memory! (computed 16.2 MiB so far)\n",
      "21/12/25 20:26:30 WARN BlockManager: Persisting block rdd_851_109 to disk instead.\n",
      "21/12/25 20:26:31 WARN MemoryStore: Not enough space to cache rdd_851_107 in memory! (computed 36.7 MiB so far)\n",
      "21/12/25 20:26:31 WARN MemoryStore: Not enough space to cache rdd_851_112 in memory! (computed 10.5 MiB so far)\n",
      "21/12/25 20:26:31 WARN BlockManager: Persisting block rdd_851_112 to disk instead.\n",
      "21/12/25 20:26:31 WARN MemoryStore: Not enough space to cache rdd_851_111 in memory! (computed 6.8 MiB so far)\n",
      "21/12/25 20:26:31 WARN MemoryStore: Not enough space to cache rdd_851_109 in memory! (computed 10.5 MiB so far)\n",
      "21/12/25 20:26:31 WARN MemoryStore: Not enough space to cache rdd_851_110 in memory! (computed 2.5 MiB so far)\n",
      "21/12/25 20:26:31 WARN MemoryStore: Not enough space to cache rdd_851_113 in memory! (computed 24.3 MiB so far)\n",
      "21/12/25 20:26:31 WARN BlockManager: Persisting block rdd_851_113 to disk instead.\n",
      "21/12/25 20:26:31 WARN MemoryStore: Not enough space to cache rdd_851_108 in memory! (computed 24.3 MiB so far)\n",
      "21/12/25 20:26:31 WARN MemoryStore: Not enough space to cache rdd_851_112 in memory! (computed 24.3 MiB so far)\n",
      "21/12/25 20:26:32 WARN MemoryStore: Not enough space to cache rdd_851_114 in memory! (computed 24.3 MiB so far)\n",
      "21/12/25 20:26:32 WARN BlockManager: Persisting block rdd_851_114 to disk instead.\n",
      "21/12/25 20:26:32 WARN MemoryStore: Not enough space to cache rdd_851_115 in memory! (computed 10.5 MiB so far)\n",
      "21/12/25 20:26:32 WARN BlockManager: Persisting block rdd_851_115 to disk instead.\n",
      "21/12/25 20:26:32 WARN MemoryStore: Not enough space to cache rdd_851_119 in memory! (computed 1305.5 KiB so far)\n",
      "21/12/25 20:26:32 WARN BlockManager: Persisting block rdd_851_119 to disk instead.\n",
      "21/12/25 20:26:32 WARN MemoryStore: Not enough space to cache rdd_851_116 in memory! (computed 6.8 MiB so far)\n",
      "21/12/25 20:26:32 WARN BlockManager: Persisting block rdd_851_116 to disk instead.\n",
      "21/12/25 20:26:32 WARN MemoryStore: Not enough space to cache rdd_851_114 in memory! (computed 24.3 MiB so far)\n",
      "21/12/25 20:26:32 WARN MemoryStore: Not enough space to cache rdd_851_118 in memory! (computed 10.5 MiB so far)\n",
      "21/12/25 20:26:32 WARN BlockManager: Persisting block rdd_851_118 to disk instead.\n",
      "21/12/25 20:26:32 WARN MemoryStore: Not enough space to cache rdd_851_117 in memory! (computed 36.7 MiB so far)\n",
      "21/12/25 20:26:32 WARN BlockManager: Persisting block rdd_851_117 to disk instead.\n",
      "21/12/25 20:26:33 WARN MemoryStore: Not enough space to cache rdd_851_117 in memory! (computed 10.5 MiB so far)\n",
      "21/12/25 20:26:33 WARN MemoryStore: Not enough space to cache rdd_851_118 in memory! (computed 6.8 MiB so far)\n",
      "21/12/25 20:26:33 WARN MemoryStore: Not enough space to cache rdd_851_116 in memory! (computed 2.5 MiB so far)\n",
      "21/12/25 20:26:33 WARN MemoryStore: Not enough space to cache rdd_851_121 in memory! (computed 24.3 MiB so far)\n",
      "21/12/25 20:26:33 WARN BlockManager: Persisting block rdd_851_121 to disk instead.\n",
      "21/12/25 20:26:33 WARN MemoryStore: Not enough space to cache rdd_851_119 in memory! (computed 36.7 MiB so far)\n",
      "21/12/25 20:26:33 WARN MemoryStore: Not enough space to cache rdd_851_123 in memory! (computed 2.5 MiB so far)\n",
      "21/12/25 20:26:33 WARN BlockManager: Persisting block rdd_851_123 to disk instead.\n",
      "21/12/25 20:26:34 WARN MemoryStore: Failed to reserve initial memory threshold of 1024.0 KiB for computing block rdd_851_127 in memory.\n",
      "21/12/25 20:26:34 WARN MemoryStore: Not enough space to cache rdd_851_121 in memory! (computed 16.2 MiB so far)\n",
      "21/12/25 20:26:34 WARN MemoryStore: Not enough space to cache rdd_851_127 in memory! (computed 384.0 B so far)\n",
      "21/12/25 20:26:34 WARN BlockManager: Persisting block rdd_851_127 to disk instead.\n",
      "21/12/25 20:26:34 WARN MemoryStore: Not enough space to cache rdd_851_125 in memory! (computed 10.5 MiB so far)\n",
      "21/12/25 20:26:34 WARN BlockManager: Persisting block rdd_851_125 to disk instead.\n",
      "21/12/25 20:26:34 WARN MemoryStore: Not enough space to cache rdd_851_123 in memory! (computed 16.2 MiB so far)\n",
      "21/12/25 20:26:34 WARN MemoryStore: Not enough space to cache rdd_851_128 in memory! (computed 10.5 MiB so far)\n",
      "21/12/25 20:26:34 WARN BlockManager: Persisting block rdd_851_128 to disk instead.\n",
      "21/12/25 20:26:35 WARN MemoryStore: Not enough space to cache rdd_851_129 in memory! (computed 24.3 MiB so far)\n",
      "21/12/25 20:26:35 WARN BlockManager: Persisting block rdd_851_129 to disk instead.\n",
      "21/12/25 20:26:35 WARN MemoryStore: Not enough space to cache rdd_851_127 in memory! (computed 24.3 MiB so far)\n",
      "21/12/25 20:26:35 WARN MemoryStore: Not enough space to cache rdd_851_125 in memory! (computed 16.2 MiB so far)\n",
      "21/12/25 20:26:35 WARN MemoryStore: Not enough space to cache rdd_851_130 in memory! (computed 24.3 MiB so far)\n",
      "21/12/25 20:26:35 WARN BlockManager: Persisting block rdd_851_130 to disk instead.\n",
      "21/12/25 20:26:36 WARN MemoryStore: Not enough space to cache rdd_851_133 in memory! (computed 4.4 MiB so far)\n",
      "21/12/25 20:26:36 WARN BlockManager: Persisting block rdd_851_133 to disk instead.\n",
      "21/12/25 20:26:36 WARN MemoryStore: Not enough space to cache rdd_851_132 in memory! (computed 16.2 MiB so far)\n",
      "21/12/25 20:26:36 WARN BlockManager: Persisting block rdd_851_132 to disk instead.\n",
      "21/12/25 20:26:36 WARN MemoryStore: Not enough space to cache rdd_851_131 in memory! (computed 24.3 MiB so far)\n",
      "21/12/25 20:26:36 WARN BlockManager: Persisting block rdd_851_131 to disk instead.\n",
      "21/12/25 20:26:36 WARN MemoryStore: Not enough space to cache rdd_851_129 in memory! (computed 2.5 MiB so far)\n",
      "21/12/25 20:26:36 WARN MemoryStore: Not enough space to cache rdd_851_130 in memory! (computed 36.7 MiB so far)\n",
      "21/12/25 20:26:36 WARN MemoryStore: Not enough space to cache rdd_851_131 in memory! (computed 6.8 MiB so far)\n",
      "21/12/25 20:26:36 WARN MemoryStore: Not enough space to cache rdd_851_136 in memory! (computed 2.5 MiB so far)\n",
      "21/12/25 20:26:36 WARN BlockManager: Persisting block rdd_851_136 to disk instead.\n",
      "21/12/25 20:26:36 WARN MemoryStore: Not enough space to cache rdd_851_135 in memory! (computed 16.2 MiB so far)\n",
      "21/12/25 20:26:36 WARN BlockManager: Persisting block rdd_851_135 to disk instead.\n",
      "21/12/25 20:26:36 WARN MemoryStore: Not enough space to cache rdd_851_134 in memory! (computed 24.3 MiB so far)\n",
      "21/12/25 20:26:36 WARN BlockManager: Persisting block rdd_851_134 to disk instead.\n",
      "21/12/25 20:26:37 WARN MemoryStore: Not enough space to cache rdd_851_132 in memory! (computed 16.2 MiB so far)\n",
      "21/12/25 20:26:37 WARN MemoryStore: Not enough space to cache rdd_851_133 in memory! (computed 36.7 MiB so far)\n",
      "21/12/25 20:26:37 WARN MemoryStore: Not enough space to cache rdd_851_134 in memory! (computed 24.3 MiB so far)\n",
      "21/12/25 20:26:37 WARN MemoryStore: Not enough space to cache rdd_851_136 in memory! (computed 16.2 MiB so far)\n",
      "21/12/25 20:26:37 WARN MemoryStore: Not enough space to cache rdd_851_135 in memory! (computed 24.3 MiB so far)\n",
      "21/12/25 20:26:37 WARN MemoryStore: Not enough space to cache rdd_851_138 in memory! (computed 36.7 MiB so far)\n",
      "21/12/25 20:26:37 WARN BlockManager: Persisting block rdd_851_138 to disk instead.\n",
      "21/12/25 20:26:38 WARN MemoryStore: Not enough space to cache rdd_851_138 in memory! (computed 16.2 MiB so far)\n",
      "21/12/25 20:26:38 WARN MemoryStore: Not enough space to cache rdd_851_140 in memory! (computed 36.7 MiB so far)\n",
      "21/12/25 20:26:38 WARN BlockManager: Persisting block rdd_851_140 to disk instead.\n",
      "21/12/25 20:26:38 WARN MemoryStore: Not enough space to cache rdd_851_142 in memory! (computed 16.2 MiB so far)\n",
      "21/12/25 20:26:38 WARN BlockManager: Persisting block rdd_851_142 to disk instead.\n",
      "21/12/25 20:26:38 WARN MemoryStore: Not enough space to cache rdd_851_140 in memory! (computed 2.5 MiB so far)\n",
      "21/12/25 20:26:39 WARN MemoryStore: Not enough space to cache rdd_851_145 in memory! (computed 24.3 MiB so far)\n",
      "21/12/25 20:26:39 WARN BlockManager: Persisting block rdd_851_145 to disk instead.\n",
      "21/12/25 20:26:39 WARN MemoryStore: Not enough space to cache rdd_851_144 in memory! (computed 24.3 MiB so far)\n",
      "21/12/25 20:26:39 WARN BlockManager: Persisting block rdd_851_144 to disk instead.\n",
      "21/12/25 20:26:39 WARN MemoryStore: Not enough space to cache rdd_851_142 in memory! (computed 4.4 MiB so far)\n",
      "21/12/25 20:26:39 WARN MemoryStore: Not enough space to cache rdd_851_143 in memory! (computed 36.7 MiB so far)\n",
      "21/12/25 20:26:39 WARN BlockManager: Persisting block rdd_851_143 to disk instead.\n",
      "21/12/25 20:26:39 WARN MemoryStore: Not enough space to cache rdd_851_143 in memory! (computed 10.5 MiB so far)\n",
      "21/12/25 20:26:39 WARN MemoryStore: Not enough space to cache rdd_851_144 in memory! (computed 2.5 MiB so far)\n",
      "21/12/25 20:26:39 WARN MemoryStore: Not enough space to cache rdd_851_145 in memory! (computed 6.8 MiB so far)\n",
      "21/12/25 20:26:39 WARN MemoryStore: Not enough space to cache rdd_851_146 in memory! (computed 36.7 MiB so far)\n",
      "21/12/25 20:26:39 WARN BlockManager: Persisting block rdd_851_146 to disk instead.\n",
      "21/12/25 20:26:39 WARN MemoryStore: Not enough space to cache rdd_851_147 in memory! (computed 24.3 MiB so far)\n",
      "21/12/25 20:26:39 WARN BlockManager: Persisting block rdd_851_147 to disk instead.\n",
      "21/12/25 20:26:40 WARN MemoryStore: Not enough space to cache rdd_851_147 in memory! (computed 6.8 MiB so far)\n",
      "21/12/25 20:26:40 WARN MemoryStore: Not enough space to cache rdd_851_146 in memory! (computed 24.3 MiB so far)\n",
      "21/12/25 20:26:40 WARN MemoryStore: Not enough space to cache rdd_851_150 in memory! (computed 16.2 MiB so far)\n",
      "21/12/25 20:26:40 WARN BlockManager: Persisting block rdd_851_150 to disk instead.\n",
      "21/12/25 20:26:40 WARN MemoryStore: Not enough space to cache rdd_851_149 in memory! (computed 36.7 MiB so far)\n",
      "21/12/25 20:26:40 WARN BlockManager: Persisting block rdd_851_149 to disk instead.\n",
      "21/12/25 20:26:41 WARN MemoryStore: Not enough space to cache rdd_851_153 in memory! (computed 16.2 MiB so far)\n",
      "21/12/25 20:26:41 WARN BlockManager: Persisting block rdd_851_153 to disk instead.\n",
      "21/12/25 20:26:41 WARN MemoryStore: Not enough space to cache rdd_851_149 in memory! (computed 16.2 MiB so far)\n",
      "21/12/25 20:26:41 WARN MemoryStore: Not enough space to cache rdd_851_150 in memory! (computed 4.4 MiB so far)\n",
      "21/12/25 20:26:41 WARN MemoryStore: Not enough space to cache rdd_851_152 in memory! (computed 24.3 MiB so far)\n",
      "21/12/25 20:26:41 WARN BlockManager: Persisting block rdd_851_152 to disk instead.\n",
      "21/12/25 20:26:41 WARN MemoryStore: Not enough space to cache rdd_851_154 in memory! (computed 16.2 MiB so far)\n",
      "21/12/25 20:26:41 WARN BlockManager: Persisting block rdd_851_154 to disk instead.\n",
      "21/12/25 20:26:41 WARN MemoryStore: Not enough space to cache rdd_851_153 in memory! (computed 10.5 MiB so far)\n",
      "21/12/25 20:26:42 WARN MemoryStore: Not enough space to cache rdd_851_152 in memory! (computed 6.8 MiB so far)\n",
      "21/12/25 20:26:42 WARN MemoryStore: Not enough space to cache rdd_851_155 in memory! (computed 36.7 MiB so far)\n",
      "21/12/25 20:26:42 WARN BlockManager: Persisting block rdd_851_155 to disk instead.\n",
      "21/12/25 20:26:42 WARN MemoryStore: Not enough space to cache rdd_851_156 in memory! (computed 36.7 MiB so far)\n",
      "21/12/25 20:26:42 WARN BlockManager: Persisting block rdd_851_156 to disk instead.\n",
      "21/12/25 20:26:42 WARN MemoryStore: Not enough space to cache rdd_851_154 in memory! (computed 10.5 MiB so far)\n",
      "21/12/25 20:26:42 WARN MemoryStore: Not enough space to cache rdd_851_157 in memory! (computed 24.3 MiB so far)\n",
      "21/12/25 20:26:42 WARN BlockManager: Persisting block rdd_851_157 to disk instead.\n",
      "21/12/25 20:26:42 WARN MemoryStore: Not enough space to cache rdd_851_156 in memory! (computed 16.2 MiB so far)\n",
      "21/12/25 20:26:42 WARN MemoryStore: Not enough space to cache rdd_851_155 in memory! (computed 16.2 MiB so far)\n",
      "21/12/25 20:26:42 WARN MemoryStore: Failed to reserve initial memory threshold of 1024.0 KiB for computing block rdd_851_162 in memory.\n",
      "21/12/25 20:26:43 WARN MemoryStore: Not enough space to cache rdd_851_162 in memory! (computed 384.0 B so far)\n",
      "21/12/25 20:26:43 WARN BlockManager: Persisting block rdd_851_162 to disk instead.\n",
      "21/12/25 20:26:43 WARN MemoryStore: Not enough space to cache rdd_851_160 in memory! (computed 24.3 MiB so far)\n",
      "21/12/25 20:26:43 WARN BlockManager: Persisting block rdd_851_160 to disk instead.\n",
      "21/12/25 20:26:43 WARN MemoryStore: Not enough space to cache rdd_851_157 in memory! (computed 24.3 MiB so far)\n",
      "21/12/25 20:26:44 WARN MemoryStore: Not enough space to cache rdd_851_160 in memory! (computed 10.5 MiB so far)\n",
      "21/12/25 20:26:44 WARN MemoryStore: Not enough space to cache rdd_851_162 in memory! (computed 10.5 MiB so far)\n",
      "21/12/25 20:26:44 WARN MemoryStore: Not enough space to cache rdd_851_164 in memory! (computed 36.7 MiB so far)\n",
      "21/12/25 20:26:44 WARN BlockManager: Persisting block rdd_851_164 to disk instead.\n",
      "21/12/25 20:26:44 WARN MemoryStore: Not enough space to cache rdd_851_163 in memory! (computed 24.3 MiB so far)\n",
      "21/12/25 20:26:44 WARN BlockManager: Persisting block rdd_851_163 to disk instead.\n",
      "21/12/25 20:26:44 WARN MemoryStore: Not enough space to cache rdd_851_165 in memory! (computed 16.2 MiB so far)\n",
      "21/12/25 20:26:44 WARN BlockManager: Persisting block rdd_851_165 to disk instead.\n",
      "21/12/25 20:26:44 WARN MemoryStore: Not enough space to cache rdd_851_166 in memory! (computed 10.5 MiB so far)\n",
      "21/12/25 20:26:44 WARN BlockManager: Persisting block rdd_851_166 to disk instead.\n",
      "21/12/25 20:26:44 WARN MemoryStore: Not enough space to cache rdd_851_164 in memory! (computed 36.7 MiB so far)\n",
      "21/12/25 20:26:44 WARN MemoryStore: Not enough space to cache rdd_851_168 in memory! (computed 10.5 MiB so far)\n",
      "21/12/25 20:26:44 WARN BlockManager: Persisting block rdd_851_168 to disk instead.\n",
      "21/12/25 20:26:44 WARN MemoryStore: Not enough space to cache rdd_851_167 in memory! (computed 36.7 MiB so far)\n",
      "21/12/25 20:26:44 WARN BlockManager: Persisting block rdd_851_167 to disk instead.\n",
      "21/12/25 20:26:44 WARN MemoryStore: Not enough space to cache rdd_851_163 in memory! (computed 16.2 MiB so far)\n",
      "21/12/25 20:26:44 WARN MemoryStore: Not enough space to cache rdd_851_165 in memory! (computed 4.4 MiB so far)\n",
      "21/12/25 20:26:45 WARN MemoryStore: Not enough space to cache rdd_851_170 in memory! (computed 16.2 MiB so far)\n",
      "21/12/25 20:26:45 WARN BlockManager: Persisting block rdd_851_170 to disk instead.\n",
      "21/12/25 20:26:45 WARN MemoryStore: Not enough space to cache rdd_851_167 in memory! (computed 6.8 MiB so far)\n",
      "21/12/25 20:26:45 WARN MemoryStore: Not enough space to cache rdd_851_170 in memory! (computed 16.2 MiB so far)\n",
      "21/12/25 20:26:45 WARN MemoryStore: Not enough space to cache rdd_851_171 in memory! (computed 10.5 MiB so far)\n",
      "21/12/25 20:26:45 WARN BlockManager: Persisting block rdd_851_171 to disk instead.\n",
      "21/12/25 20:26:45 WARN MemoryStore: Not enough space to cache rdd_851_172 in memory! (computed 6.8 MiB so far)\n",
      "21/12/25 20:26:45 WARN BlockManager: Persisting block rdd_851_172 to disk instead.\n",
      "21/12/25 20:26:46 WARN MemoryStore: Not enough space to cache rdd_851_175 in memory! (computed 4.4 MiB so far)\n",
      "21/12/25 20:26:46 WARN BlockManager: Persisting block rdd_851_175 to disk instead.\n",
      "21/12/25 20:26:46 WARN MemoryStore: Not enough space to cache rdd_851_173 in memory! (computed 24.3 MiB so far)\n",
      "21/12/25 20:26:46 WARN BlockManager: Persisting block rdd_851_173 to disk instead.\n",
      "21/12/25 20:26:46 WARN MemoryStore: Not enough space to cache rdd_851_174 in memory! (computed 10.5 MiB so far)\n",
      "21/12/25 20:26:46 WARN BlockManager: Persisting block rdd_851_174 to disk instead.\n",
      "21/12/25 20:26:46 WARN MemoryStore: Not enough space to cache rdd_851_171 in memory! (computed 24.3 MiB so far)\n",
      "21/12/25 20:26:46 WARN MemoryStore: Not enough space to cache rdd_851_172 in memory! (computed 10.5 MiB so far)\n",
      "21/12/25 20:26:46 WARN MemoryStore: Not enough space to cache rdd_851_176 in memory! (computed 6.8 MiB so far)\n",
      "21/12/25 20:26:46 WARN BlockManager: Persisting block rdd_851_176 to disk instead.\n",
      "21/12/25 20:26:46 WARN MemoryStore: Not enough space to cache rdd_851_177 in memory! (computed 6.8 MiB so far)\n",
      "21/12/25 20:26:46 WARN BlockManager: Persisting block rdd_851_177 to disk instead.\n",
      "21/12/25 20:26:47 WARN MemoryStore: Not enough space to cache rdd_851_173 in memory! (computed 36.7 MiB so far)\n",
      "21/12/25 20:26:47 WARN MemoryStore: Not enough space to cache rdd_851_175 in memory! (computed 4.4 MiB so far)\n",
      "21/12/25 20:26:47 WARN MemoryStore: Not enough space to cache rdd_851_174 in memory! (computed 2.5 MiB so far)\n",
      "21/12/25 20:26:47 WARN MemoryStore: Not enough space to cache rdd_851_178 in memory! (computed 16.2 MiB so far)\n",
      "21/12/25 20:26:47 WARN BlockManager: Persisting block rdd_851_178 to disk instead.\n",
      "21/12/25 20:26:47 WARN MemoryStore: Not enough space to cache rdd_851_176 in memory! (computed 36.7 MiB so far)\n",
      "21/12/25 20:26:47 WARN MemoryStore: Not enough space to cache rdd_851_177 in memory! (computed 36.7 MiB so far)\n",
      "21/12/25 20:26:48 WARN MemoryStore: Not enough space to cache rdd_851_181 in memory! (computed 10.5 MiB so far)\n",
      "21/12/25 20:26:48 WARN BlockManager: Persisting block rdd_851_181 to disk instead.\n",
      "21/12/25 20:26:48 WARN MemoryStore: Not enough space to cache rdd_851_182 in memory! (computed 16.2 MiB so far)\n",
      "21/12/25 20:26:48 WARN BlockManager: Persisting block rdd_851_182 to disk instead.\n",
      "21/12/25 20:26:48 WARN MemoryStore: Not enough space to cache rdd_851_180 in memory! (computed 24.3 MiB so far)\n",
      "21/12/25 20:26:48 WARN BlockManager: Persisting block rdd_851_180 to disk instead.\n",
      "21/12/25 20:26:48 WARN MemoryStore: Not enough space to cache rdd_851_183 in memory! (computed 24.3 MiB so far)\n",
      "21/12/25 20:26:48 WARN BlockManager: Persisting block rdd_851_183 to disk instead.\n",
      "21/12/25 20:26:48 WARN MemoryStore: Not enough space to cache rdd_851_184 in memory! (computed 10.5 MiB so far)\n",
      "21/12/25 20:26:48 WARN BlockManager: Persisting block rdd_851_184 to disk instead.\n",
      "21/12/25 20:26:48 WARN MemoryStore: Not enough space to cache rdd_851_185 in memory! (computed 10.5 MiB so far)\n",
      "21/12/25 20:26:48 WARN BlockManager: Persisting block rdd_851_185 to disk instead.\n",
      "21/12/25 20:26:49 WARN MemoryStore: Not enough space to cache rdd_851_182 in memory! (computed 16.2 MiB so far)\n",
      "21/12/25 20:26:49 WARN MemoryStore: Not enough space to cache rdd_851_180 in memory! (computed 24.3 MiB so far)\n",
      "21/12/25 20:26:49 WARN MemoryStore: Not enough space to cache rdd_851_181 in memory! (computed 36.7 MiB so far)\n",
      "21/12/25 20:26:49 WARN MemoryStore: Not enough space to cache rdd_851_183 in memory! (computed 36.7 MiB so far)\n",
      "21/12/25 20:26:49 WARN MemoryStore: Not enough space to cache rdd_851_186 in memory! (computed 24.3 MiB so far)\n",
      "21/12/25 20:26:49 WARN BlockManager: Persisting block rdd_851_186 to disk instead.\n",
      "21/12/25 20:26:49 WARN MemoryStore: Not enough space to cache rdd_851_185 in memory! (computed 2.5 MiB so far)\n",
      "21/12/25 20:26:49 WARN MemoryStore: Not enough space to cache rdd_851_184 in memory! (computed 10.5 MiB so far)\n",
      "21/12/25 20:26:50 WARN MemoryStore: Not enough space to cache rdd_851_188 in memory! (computed 4.4 MiB so far)\n",
      "21/12/25 20:26:50 WARN BlockManager: Persisting block rdd_851_188 to disk instead.\n",
      "21/12/25 20:26:50 WARN MemoryStore: Not enough space to cache rdd_851_186 in memory! (computed 36.7 MiB so far)\n",
      "21/12/25 20:26:50 WARN MemoryStore: Not enough space to cache rdd_851_187 in memory! (computed 36.7 MiB so far)\n",
      "21/12/25 20:26:50 WARN BlockManager: Persisting block rdd_851_187 to disk instead.\n",
      "21/12/25 20:26:50 WARN MemoryStore: Not enough space to cache rdd_851_189 in memory! (computed 6.8 MiB so far)\n",
      "21/12/25 20:26:50 WARN BlockManager: Persisting block rdd_851_189 to disk instead.\n",
      "21/12/25 20:26:50 WARN MemoryStore: Not enough space to cache rdd_851_187 in memory! (computed 10.5 MiB so far)\n",
      "21/12/25 20:26:50 WARN MemoryStore: Not enough space to cache rdd_851_190 in memory! (computed 24.3 MiB so far)\n",
      "21/12/25 20:26:50 WARN BlockManager: Persisting block rdd_851_190 to disk instead.\n",
      "21/12/25 20:26:50 WARN MemoryStore: Not enough space to cache rdd_851_192 in memory! (computed 16.2 MiB so far)\n",
      "21/12/25 20:26:50 WARN BlockManager: Persisting block rdd_851_192 to disk instead.\n",
      "21/12/25 20:26:50 WARN MemoryStore: Not enough space to cache rdd_851_193 in memory! (computed 10.5 MiB so far)\n",
      "21/12/25 20:26:50 WARN BlockManager: Persisting block rdd_851_193 to disk instead.\n",
      "21/12/25 20:26:50 WARN MemoryStore: Not enough space to cache rdd_851_189 in memory! (computed 16.2 MiB so far)\n",
      "21/12/25 20:26:51 WARN MemoryStore: Not enough space to cache rdd_851_188 in memory! (computed 36.7 MiB so far)\n",
      "21/12/25 20:26:51 WARN MemoryStore: Not enough space to cache rdd_851_192 in memory! (computed 10.5 MiB so far)\n",
      "21/12/25 20:26:51 WARN MemoryStore: Not enough space to cache rdd_851_194 in memory! (computed 36.7 MiB so far)\n",
      "21/12/25 20:26:51 WARN BlockManager: Persisting block rdd_851_194 to disk instead.\n",
      "21/12/25 20:26:51 WARN MemoryStore: Not enough space to cache rdd_851_193 in memory! (computed 16.2 MiB so far)\n",
      "21/12/25 20:26:51 WARN MemoryStore: Not enough space to cache rdd_851_195 in memory! (computed 4.4 MiB so far)\n",
      "21/12/25 20:26:51 WARN BlockManager: Persisting block rdd_851_195 to disk instead.\n",
      "21/12/25 20:26:51 WARN MemoryStore: Failed to reserve initial memory threshold of 1024.0 KiB for computing block rdd_851_198 in memory.\n",
      "21/12/25 20:26:52 WARN MemoryStore: Not enough space to cache rdd_851_198 in memory! (computed 384.0 B so far)\n",
      "21/12/25 20:26:52 WARN BlockManager: Persisting block rdd_851_198 to disk instead.\n",
      "21/12/25 20:26:52 WARN MemoryStore: Not enough space to cache rdd_851_196 in memory! (computed 36.7 MiB so far)\n",
      "21/12/25 20:26:52 WARN BlockManager: Persisting block rdd_851_196 to disk instead.\n",
      "21/12/25 20:26:52 WARN MemoryStore: Not enough space to cache rdd_851_197 in memory! (computed 16.2 MiB so far)\n",
      "21/12/25 20:26:52 WARN BlockManager: Persisting block rdd_851_197 to disk instead.\n",
      "21/12/25 20:26:52 WARN MemoryStore: Not enough space to cache rdd_851_199 in memory! (computed 6.8 MiB so far)\n",
      "21/12/25 20:26:52 WARN BlockManager: Persisting block rdd_851_199 to disk instead.\n",
      "21/12/25 20:26:52 WARN MemoryStore: Not enough space to cache rdd_851_196 in memory! (computed 16.2 MiB so far)\n",
      "21/12/25 20:26:52 WARN MemoryStore: Not enough space to cache rdd_851_197 in memory! (computed 10.5 MiB so far)\n",
      "21/12/25 20:26:52 WARN MemoryStore: Not enough space to cache rdd_851_198 in memory! (computed 6.8 MiB so far)\n",
      "21/12/25 20:26:52 WARN MemoryStore: Not enough space to cache rdd_851_199 in memory! (computed 16.2 MiB so far)\n",
      "21/12/25 20:26:54 WARN MemoryStore: Not enough space to cache rdd_851_4 in memory! (computed 4.4 MiB so far)\n",
      "21/12/25 20:26:54 WARN MemoryStore: Not enough space to cache rdd_851_6 in memory! (computed 4.4 MiB so far)\n",
      "21/12/25 20:26:54 WARN MemoryStore: Not enough space to cache rdd_851_7 in memory! (computed 4.4 MiB so far)\n",
      "21/12/25 20:26:54 WARN MemoryStore: Not enough space to cache rdd_851_2 in memory! (computed 1305.5 KiB so far)\n",
      "21/12/25 20:26:54 WARN MemoryStore: Not enough space to cache rdd_851_1 in memory! (computed 2.5 MiB so far)\n",
      "21/12/25 20:26:54 WARN MemoryStore: Not enough space to cache rdd_851_0 in memory! (computed 2.5 MiB so far)\n",
      "21/12/25 20:26:54 WARN MemoryStore: Not enough space to cache rdd_851_5 in memory! (computed 2.5 MiB so far)\n",
      "21/12/25 20:26:55 WARN MemoryStore: Failed to reserve initial memory threshold of 1024.0 KiB for computing block rdd_851_10 in memory.\n",
      "21/12/25 20:26:55 WARN MemoryStore: Not enough space to cache rdd_851_10 in memory! (computed 384.0 B so far)\n",
      "21/12/25 20:26:55 WARN MemoryStore: Failed to reserve initial memory threshold of 1024.0 KiB for computing block rdd_851_11 in memory.\n",
      "21/12/25 20:26:55 WARN MemoryStore: Not enough space to cache rdd_851_11 in memory! (computed 384.0 B so far)\n",
      "21/12/25 20:26:55 WARN MemoryStore: Failed to reserve initial memory threshold of 1024.0 KiB for computing block rdd_851_12 in memory.\n",
      "21/12/25 20:26:55 WARN MemoryStore: Not enough space to cache rdd_851_12 in memory! (computed 384.0 B so far)\n",
      "21/12/25 20:26:55 WARN MemoryStore: Not enough space to cache rdd_851_9 in memory! (computed 10.5 MiB so far)\n",
      "21/12/25 20:26:55 WARN MemoryStore: Not enough space to cache rdd_851_8 in memory! (computed 16.2 MiB so far)\n",
      "21/12/25 20:26:55 WARN MemoryStore: Failed to reserve initial memory threshold of 1024.0 KiB for computing block rdd_851_13 in memory.\n",
      "21/12/25 20:26:55 WARN MemoryStore: Failed to reserve initial memory threshold of 1024.0 KiB for computing block rdd_851_14 in memory.\n",
      "21/12/25 20:26:55 WARN MemoryStore: Not enough space to cache rdd_851_13 in memory! (computed 384.0 B so far)\n",
      "21/12/25 20:26:55 WARN MemoryStore: Not enough space to cache rdd_851_14 in memory! (computed 384.0 B so far)\n",
      "21/12/25 20:26:55 WARN MemoryStore: Failed to reserve initial memory threshold of 1024.0 KiB for computing block rdd_851_15 in memory.\n",
      "21/12/25 20:26:55 WARN MemoryStore: Not enough space to cache rdd_851_15 in memory! (computed 384.0 B so far)\n",
      "21/12/25 20:26:55 WARN MemoryStore: Not enough space to cache rdd_851_19 in memory! (computed 2.5 MiB so far)\n",
      "21/12/25 20:26:55 WARN MemoryStore: Not enough space to cache rdd_851_18 in memory! (computed 6.8 MiB so far)\n",
      "21/12/25 20:26:55 WARN MemoryStore: Not enough space to cache rdd_851_16 in memory! (computed 6.8 MiB so far)\n",
      "21/12/25 20:26:55 WARN MemoryStore: Not enough space to cache rdd_851_20 in memory! (computed 2.5 MiB so far)\n",
      "21/12/25 20:26:55 WARN MemoryStore: Not enough space to cache rdd_851_23 in memory! (computed 1305.5 KiB so far)\n",
      "21/12/25 20:26:55 WARN MemoryStore: Failed to reserve initial memory threshold of 1024.0 KiB for computing block rdd_851_21 in memory.\n",
      "21/12/25 20:26:55 WARN MemoryStore: Not enough space to cache rdd_851_21 in memory! (computed 384.0 B so far)\n",
      "21/12/25 20:26:55 WARN MemoryStore: Not enough space to cache rdd_851_17 in memory! (computed 10.5 MiB so far)\n",
      "21/12/25 20:26:55 WARN MemoryStore: Not enough space to cache rdd_851_22 in memory! (computed 2.5 MiB so far)\n",
      "21/12/25 20:26:56 WARN MemoryStore: Not enough space to cache rdd_851_24 in memory! (computed 24.3 MiB so far)\n",
      "21/12/25 20:26:56 WARN MemoryStore: Failed to reserve initial memory threshold of 1024.0 KiB for computing block rdd_851_26 in memory.\n",
      "21/12/25 20:26:56 WARN MemoryStore: Not enough space to cache rdd_851_26 in memory! (computed 384.0 B so far)\n",
      "21/12/25 20:26:56 WARN MemoryStore: Not enough space to cache rdd_851_25 in memory! (computed 2.5 MiB so far)\n",
      "21/12/25 20:26:56 WARN MemoryStore: Failed to reserve initial memory threshold of 1024.0 KiB for computing block rdd_851_27 in memory.\n",
      "21/12/25 20:26:56 WARN MemoryStore: Not enough space to cache rdd_851_27 in memory! (computed 384.0 B so far)\n",
      "21/12/25 20:26:56 WARN MemoryStore: Not enough space to cache rdd_851_28 in memory! (computed 2.5 MiB so far)\n",
      "21/12/25 20:26:56 WARN MemoryStore: Failed to reserve initial memory threshold of 1024.0 KiB for computing block rdd_851_29 in memory.\n",
      "21/12/25 20:26:56 WARN MemoryStore: Not enough space to cache rdd_851_29 in memory! (computed 384.0 B so far)\n",
      "21/12/25 20:26:56 WARN MemoryStore: Not enough space to cache rdd_851_30 in memory! (computed 2.5 MiB so far)\n",
      "21/12/25 20:26:56 WARN MemoryStore: Failed to reserve initial memory threshold of 1024.0 KiB for computing block rdd_851_31 in memory.\n",
      "21/12/25 20:26:56 WARN MemoryStore: Not enough space to cache rdd_851_31 in memory! (computed 384.0 B so far)\n",
      "21/12/25 20:26:57 WARN MemoryStore: Not enough space to cache rdd_851_32 in memory! (computed 16.2 MiB so far)\n",
      "21/12/25 20:26:57 WARN MemoryStore: Not enough space to cache rdd_851_33 in memory! (computed 10.5 MiB so far)\n",
      "21/12/25 20:26:57 WARN MemoryStore: Failed to reserve initial memory threshold of 1024.0 KiB for computing block rdd_851_34 in memory.\n",
      "21/12/25 20:26:57 WARN MemoryStore: Not enough space to cache rdd_851_34 in memory! (computed 384.0 B so far)\n",
      "21/12/25 20:26:57 WARN MemoryStore: Failed to reserve initial memory threshold of 1024.0 KiB for computing block rdd_851_35 in memory.\n",
      "21/12/25 20:26:57 WARN MemoryStore: Not enough space to cache rdd_851_35 in memory! (computed 384.0 B so far)\n",
      "21/12/25 20:26:57 WARN MemoryStore: Failed to reserve initial memory threshold of 1024.0 KiB for computing block rdd_851_36 in memory.\n",
      "21/12/25 20:26:57 WARN MemoryStore: Not enough space to cache rdd_851_36 in memory! (computed 384.0 B so far)\n",
      "21/12/25 20:26:57 WARN MemoryStore: Failed to reserve initial memory threshold of 1024.0 KiB for computing block rdd_851_37 in memory.\n",
      "21/12/25 20:26:57 WARN MemoryStore: Not enough space to cache rdd_851_37 in memory! (computed 384.0 B so far)\n",
      "21/12/25 20:26:57 WARN MemoryStore: Failed to reserve initial memory threshold of 1024.0 KiB for computing block rdd_851_38 in memory.\n",
      "21/12/25 20:26:57 WARN MemoryStore: Not enough space to cache rdd_851_38 in memory! (computed 384.0 B so far)\n",
      "21/12/25 20:26:57 WARN MemoryStore: Not enough space to cache rdd_851_39 in memory! (computed 24.3 MiB so far)\n",
      "21/12/25 20:26:57 WARN MemoryStore: Not enough space to cache rdd_851_41 in memory! (computed 10.5 MiB so far)\n",
      "21/12/25 20:26:57 WARN MemoryStore: Not enough space to cache rdd_851_40 in memory! (computed 16.2 MiB so far)\n",
      "21/12/25 20:26:57 WARN MemoryStore: Failed to reserve initial memory threshold of 1024.0 KiB for computing block rdd_851_42 in memory.\n",
      "21/12/25 20:26:57 WARN MemoryStore: Not enough space to cache rdd_851_42 in memory! (computed 384.0 B so far)\n",
      "21/12/25 20:26:57 WARN MemoryStore: Not enough space to cache rdd_851_45 in memory! (computed 2.5 MiB so far)\n",
      "21/12/25 20:26:57 WARN MemoryStore: Not enough space to cache rdd_851_44 in memory! (computed 2.5 MiB so far)\n",
      "21/12/25 20:26:57 WARN MemoryStore: Not enough space to cache rdd_851_43 in memory! (computed 6.8 MiB so far)\n",
      "21/12/25 20:26:57 WARN MemoryStore: Not enough space to cache rdd_851_46 in memory! (computed 16.2 MiB so far)\n",
      "21/12/25 20:26:57 WARN MemoryStore: Not enough space to cache rdd_851_47 in memory! (computed 10.5 MiB so far)\n",
      "21/12/25 20:26:58 WARN MemoryStore: Not enough space to cache rdd_851_48 in memory! (computed 16.2 MiB so far)\n",
      "21/12/25 20:26:58 WARN MemoryStore: Not enough space to cache rdd_851_49 in memory! (computed 10.5 MiB so far)\n",
      "21/12/25 20:26:58 WARN MemoryStore: Failed to reserve initial memory threshold of 1024.0 KiB for computing block rdd_851_50 in memory.\n",
      "21/12/25 20:26:58 WARN MemoryStore: Not enough space to cache rdd_851_50 in memory! (computed 384.0 B so far)\n",
      "21/12/25 20:26:58 WARN MemoryStore: Failed to reserve initial memory threshold of 1024.0 KiB for computing block rdd_851_51 in memory.\n",
      "21/12/25 20:26:58 WARN MemoryStore: Not enough space to cache rdd_851_51 in memory! (computed 384.0 B so far)\n",
      "21/12/25 20:26:58 WARN MemoryStore: Failed to reserve initial memory threshold of 1024.0 KiB for computing block rdd_851_52 in memory.\n",
      "21/12/25 20:26:58 WARN MemoryStore: Not enough space to cache rdd_851_52 in memory! (computed 384.0 B so far)\n",
      "21/12/25 20:26:58 WARN MemoryStore: Not enough space to cache rdd_851_54 in memory! (computed 4.4 MiB so far)\n",
      "21/12/25 20:26:58 WARN MemoryStore: Not enough space to cache rdd_851_55 in memory! (computed 6.8 MiB so far)\n",
      "21/12/25 20:26:58 WARN MemoryStore: Not enough space to cache rdd_851_53 in memory! (computed 16.2 MiB so far)\n",
      "21/12/25 20:26:58 WARN MemoryStore: Not enough space to cache rdd_851_57 in memory! (computed 10.5 MiB so far)\n",
      "21/12/25 20:26:58 WARN MemoryStore: Not enough space to cache rdd_851_56 in memory! (computed 16.2 MiB so far)\n",
      "21/12/25 20:26:58 WARN MemoryStore: Failed to reserve initial memory threshold of 1024.0 KiB for computing block rdd_851_58 in memory.\n",
      "21/12/25 20:26:58 WARN MemoryStore: Not enough space to cache rdd_851_58 in memory! (computed 384.0 B so far)\n",
      "21/12/25 20:26:58 WARN MemoryStore: Failed to reserve initial memory threshold of 1024.0 KiB for computing block rdd_851_59 in memory.\n",
      "21/12/25 20:26:58 WARN MemoryStore: Not enough space to cache rdd_851_59 in memory! (computed 384.0 B so far)\n",
      "21/12/25 20:26:58 WARN MemoryStore: Failed to reserve initial memory threshold of 1024.0 KiB for computing block rdd_851_60 in memory.\n",
      "21/12/25 20:26:58 WARN MemoryStore: Not enough space to cache rdd_851_60 in memory! (computed 384.0 B so far)\n",
      "21/12/25 20:26:58 WARN MemoryStore: Failed to reserve initial memory threshold of 1024.0 KiB for computing block rdd_851_61 in memory.\n",
      "21/12/25 20:26:58 WARN MemoryStore: Not enough space to cache rdd_851_61 in memory! (computed 384.0 B so far)\n",
      "21/12/25 20:26:58 WARN MemoryStore: Not enough space to cache rdd_851_62 in memory! (computed 16.2 MiB so far)\n",
      "21/12/25 20:26:59 WARN MemoryStore: Not enough space to cache rdd_851_63 in memory! (computed 10.5 MiB so far)\n",
      "21/12/25 20:26:59 WARN MemoryStore: Not enough space to cache rdd_851_64 in memory! (computed 10.5 MiB so far)\n",
      "21/12/25 20:26:59 WARN MemoryStore: Failed to reserve initial memory threshold of 1024.0 KiB for computing block rdd_851_68 in memory.\n",
      "21/12/25 20:26:59 WARN MemoryStore: Not enough space to cache rdd_851_68 in memory! (computed 384.0 B so far)\n",
      "21/12/25 20:26:59 WARN MemoryStore: Not enough space to cache rdd_851_65 in memory! (computed 10.5 MiB so far)\n",
      "21/12/25 20:26:59 WARN MemoryStore: Not enough space to cache rdd_851_66 in memory! (computed 4.4 MiB so far)\n",
      "21/12/25 20:26:59 WARN MemoryStore: Not enough space to cache rdd_851_67 in memory! (computed 2.5 MiB so far)\n",
      "21/12/25 20:26:59 WARN MemoryStore: Not enough space to cache rdd_851_69 in memory! (computed 2.5 MiB so far)\n",
      "21/12/25 20:26:59 WARN MemoryStore: Not enough space to cache rdd_851_70 in memory! (computed 10.5 MiB so far)\n",
      "21/12/25 20:26:59 WARN MemoryStore: Not enough space to cache rdd_851_71 in memory! (computed 4.4 MiB so far)\n",
      "21/12/25 20:27:00 WARN MemoryStore: Not enough space to cache rdd_851_72 in memory! (computed 16.2 MiB so far)\n",
      "21/12/25 20:27:00 WARN MemoryStore: Failed to reserve initial memory threshold of 1024.0 KiB for computing block rdd_851_74 in memory.\n",
      "21/12/25 20:27:00 WARN MemoryStore: Not enough space to cache rdd_851_74 in memory! (computed 384.0 B so far)\n",
      "21/12/25 20:27:00 WARN MemoryStore: Not enough space to cache rdd_851_73 in memory! (computed 10.5 MiB so far)\n",
      "21/12/25 20:27:00 WARN MemoryStore: Failed to reserve initial memory threshold of 1024.0 KiB for computing block rdd_851_75 in memory.\n",
      "21/12/25 20:27:00 WARN MemoryStore: Not enough space to cache rdd_851_75 in memory! (computed 384.0 B so far)\n",
      "21/12/25 20:27:00 WARN MemoryStore: Failed to reserve initial memory threshold of 1024.0 KiB for computing block rdd_851_76 in memory.\n",
      "21/12/25 20:27:00 WARN MemoryStore: Not enough space to cache rdd_851_76 in memory! (computed 384.0 B so far)\n",
      "21/12/25 20:27:00 WARN MemoryStore: Not enough space to cache rdd_851_79 in memory! (computed 6.8 MiB so far)\n",
      "21/12/25 20:27:00 WARN MemoryStore: Not enough space to cache rdd_851_78 in memory! (computed 6.8 MiB so far)\n",
      "21/12/25 20:27:00 WARN MemoryStore: Not enough space to cache rdd_851_77 in memory! (computed 10.5 MiB so far)\n",
      "21/12/25 20:27:00 WARN MemoryStore: Failed to reserve initial memory threshold of 1024.0 KiB for computing block rdd_851_82 in memory.\n",
      "21/12/25 20:27:00 WARN MemoryStore: Not enough space to cache rdd_851_80 in memory! (computed 16.2 MiB so far)\n",
      "21/12/25 20:27:00 WARN MemoryStore: Not enough space to cache rdd_851_82 in memory! (computed 384.0 B so far)\n",
      "21/12/25 20:27:00 WARN MemoryStore: Failed to reserve initial memory threshold of 1024.0 KiB for computing block rdd_851_83 in memory.\n",
      "21/12/25 20:27:00 WARN MemoryStore: Not enough space to cache rdd_851_83 in memory! (computed 384.0 B so far)\n",
      "21/12/25 20:27:00 WARN MemoryStore: Failed to reserve initial memory threshold of 1024.0 KiB for computing block rdd_851_84 in memory.\n",
      "21/12/25 20:27:00 WARN MemoryStore: Not enough space to cache rdd_851_84 in memory! (computed 384.0 B so far)\n",
      "21/12/25 20:27:00 WARN MemoryStore: Not enough space to cache rdd_851_81 in memory! (computed 10.5 MiB so far)\n",
      "21/12/25 20:27:00 WARN MemoryStore: Not enough space to cache rdd_851_86 in memory! (computed 6.8 MiB so far)\n",
      "21/12/25 20:27:00 WARN MemoryStore: Not enough space to cache rdd_851_87 in memory! (computed 6.8 MiB so far)\n",
      "21/12/25 20:27:00 WARN MemoryStore: Not enough space to cache rdd_851_85 in memory! (computed 10.5 MiB so far)\n",
      "21/12/25 20:27:01 WARN MemoryStore: Not enough space to cache rdd_851_89 in memory! (computed 4.4 MiB so far)\n",
      "21/12/25 20:27:01 WARN MemoryStore: Not enough space to cache rdd_851_91 in memory! (computed 4.4 MiB so far)\n",
      "21/12/25 20:27:01 WARN MemoryStore: Not enough space to cache rdd_851_88 in memory! (computed 10.5 MiB so far)\n",
      "21/12/25 20:27:01 WARN MemoryStore: Not enough space to cache rdd_851_90 in memory! (computed 6.8 MiB so far)\n",
      "21/12/25 20:27:01 WARN MemoryStore: Not enough space to cache rdd_851_92 in memory! (computed 2.5 MiB so far)\n",
      "21/12/25 20:27:01 WARN MemoryStore: Not enough space to cache rdd_851_93 in memory! (computed 6.8 MiB so far)\n",
      "21/12/25 20:27:01 WARN MemoryStore: Not enough space to cache rdd_851_94 in memory! (computed 10.5 MiB so far)\n",
      "21/12/25 20:27:01 WARN MemoryStore: Not enough space to cache rdd_851_95 in memory! (computed 6.8 MiB so far)\n",
      "21/12/25 20:27:01 WARN MemoryStore: Not enough space to cache rdd_851_96 in memory! (computed 16.2 MiB so far)\n",
      "21/12/25 20:27:01 WARN MemoryStore: Failed to reserve initial memory threshold of 1024.0 KiB for computing block rdd_851_98 in memory.\n",
      "21/12/25 20:27:01 WARN MemoryStore: Not enough space to cache rdd_851_98 in memory! (computed 384.0 B so far)\n",
      "21/12/25 20:27:01 WARN MemoryStore: Not enough space to cache rdd_851_97 in memory! (computed 10.5 MiB so far)\n",
      "21/12/25 20:27:01 WARN MemoryStore: Failed to reserve initial memory threshold of 1024.0 KiB for computing block rdd_851_99 in memory.\n",
      "21/12/25 20:27:01 WARN MemoryStore: Failed to reserve initial memory threshold of 1024.0 KiB for computing block rdd_851_100 in memory.\n",
      "21/12/25 20:27:01 WARN MemoryStore: Not enough space to cache rdd_851_99 in memory! (computed 384.0 B so far)\n",
      "21/12/25 20:27:01 WARN MemoryStore: Not enough space to cache rdd_851_100 in memory! (computed 384.0 B so far)\n",
      "21/12/25 20:27:01 WARN MemoryStore: Not enough space to cache rdd_851_101 in memory! (computed 10.5 MiB so far)\n",
      "21/12/25 20:27:01 WARN MemoryStore: Not enough space to cache rdd_851_103 in memory! (computed 4.4 MiB so far)\n",
      "21/12/25 20:27:01 WARN MemoryStore: Not enough space to cache rdd_851_102 in memory! (computed 10.5 MiB so far)\n",
      "21/12/25 20:27:02 WARN MemoryStore: Not enough space to cache rdd_851_104 in memory! (computed 16.2 MiB so far)\n",
      "21/12/25 20:27:02 WARN MemoryStore: Not enough space to cache rdd_851_106 in memory! (computed 2.5 MiB so far)\n",
      "21/12/25 20:27:02 WARN MemoryStore: Not enough space to cache rdd_851_105 in memory! (computed 6.8 MiB so far)\n",
      "21/12/25 20:27:02 WARN MemoryStore: Not enough space to cache rdd_851_107 in memory! (computed 2.5 MiB so far)\n",
      "21/12/25 20:27:02 WARN MemoryStore: Failed to reserve initial memory threshold of 1024.0 KiB for computing block rdd_851_108 in memory.\n",
      "21/12/25 20:27:02 WARN MemoryStore: Not enough space to cache rdd_851_108 in memory! (computed 384.0 B so far)\n",
      "21/12/25 20:27:02 WARN MemoryStore: Not enough space to cache rdd_851_109 in memory! (computed 16.2 MiB so far)\n",
      "21/12/25 20:27:02 WARN MemoryStore: Failed to reserve initial memory threshold of 1024.0 KiB for computing block rdd_851_111 in memory.\n",
      "21/12/25 20:27:02 WARN MemoryStore: Not enough space to cache rdd_851_111 in memory! (computed 384.0 B so far)\n",
      "21/12/25 20:27:02 WARN MemoryStore: Not enough space to cache rdd_851_110 in memory! (computed 10.5 MiB so far)\n",
      "21/12/25 20:27:03 WARN MemoryStore: Not enough space to cache rdd_851_113 in memory! (computed 10.5 MiB so far)\n",
      "21/12/25 20:27:03 WARN MemoryStore: Not enough space to cache rdd_851_115 in memory! (computed 1305.5 KiB so far)\n",
      "21/12/25 20:27:03 WARN MemoryStore: Not enough space to cache rdd_851_116 in memory! (computed 1305.5 KiB so far)\n",
      "21/12/25 20:27:03 WARN MemoryStore: Not enough space to cache rdd_851_114 in memory! (computed 4.4 MiB so far)\n",
      "21/12/25 20:27:03 WARN MemoryStore: Not enough space to cache rdd_851_112 in memory! (computed 10.5 MiB so far)\n",
      "21/12/25 20:27:03 WARN MemoryStore: Not enough space to cache rdd_851_117 in memory! (computed 2.5 MiB so far)\n",
      "21/12/25 20:27:03 WARN MemoryStore: Not enough space to cache rdd_851_118 in memory! (computed 16.2 MiB so far)\n",
      "21/12/25 20:27:03 WARN MemoryStore: Not enough space to cache rdd_851_119 in memory! (computed 10.5 MiB so far)\n",
      "21/12/25 20:27:03 WARN MemoryStore: Not enough space to cache rdd_851_120 in memory! (computed 16.2 MiB so far)\n",
      "21/12/25 20:27:03 WARN MemoryStore: Not enough space to cache rdd_851_122 in memory! (computed 2.5 MiB so far)\n",
      "21/12/25 20:27:03 WARN MemoryStore: Not enough space to cache rdd_851_123 in memory! (computed 2.5 MiB so far)\n",
      "21/12/25 20:27:03 WARN MemoryStore: Not enough space to cache rdd_851_121 in memory! (computed 6.8 MiB so far)\n",
      "21/12/25 20:27:03 WARN MemoryStore: Failed to reserve initial memory threshold of 1024.0 KiB for computing block rdd_851_125 in memory.\n",
      "21/12/25 20:27:03 WARN MemoryStore: Not enough space to cache rdd_851_125 in memory! (computed 384.0 B so far)\n",
      "21/12/25 20:27:03 WARN MemoryStore: Not enough space to cache rdd_851_124 in memory! (computed 4.4 MiB so far)\n",
      "21/12/25 20:27:03 WARN MemoryStore: Not enough space to cache rdd_851_126 in memory! (computed 16.2 MiB so far)\n",
      "21/12/25 20:27:03 WARN MemoryStore: Not enough space to cache rdd_851_127 in memory! (computed 10.5 MiB so far)\n",
      "21/12/25 20:27:04 WARN MemoryStore: Not enough space to cache rdd_851_130 in memory! (computed 4.4 MiB so far)\n",
      "21/12/25 20:27:04 WARN MemoryStore: Not enough space to cache rdd_851_129 in memory! (computed 6.8 MiB so far)\n",
      "21/12/25 20:27:04 WARN MemoryStore: Not enough space to cache rdd_851_131 in memory! (computed 4.4 MiB so far)\n",
      "21/12/25 20:27:04 WARN MemoryStore: Not enough space to cache rdd_851_128 in memory! (computed 10.5 MiB so far)\n",
      "21/12/25 20:27:04 WARN MemoryStore: Not enough space to cache rdd_851_133 in memory! (computed 2.5 MiB so far)\n",
      "21/12/25 20:27:04 WARN MemoryStore: Failed to reserve initial memory threshold of 1024.0 KiB for computing block rdd_851_134 in memory.\n",
      "21/12/25 20:27:04 WARN MemoryStore: Not enough space to cache rdd_851_134 in memory! (computed 384.0 B so far)\n",
      "21/12/25 20:27:04 WARN MemoryStore: Not enough space to cache rdd_851_132 in memory! (computed 24.3 MiB so far)\n",
      "21/12/25 20:27:04 WARN MemoryStore: Not enough space to cache rdd_851_135 in memory! (computed 2.5 MiB so far)\n",
      "21/12/25 20:27:04 WARN MemoryStore: Not enough space to cache rdd_851_136 in memory! (computed 6.8 MiB so far)\n",
      "21/12/25 20:27:04 WARN MemoryStore: Not enough space to cache rdd_851_137 in memory! (computed 6.8 MiB so far)\n",
      "21/12/25 20:27:04 WARN MemoryStore: Not enough space to cache rdd_851_138 in memory! (computed 6.8 MiB so far)\n",
      "21/12/25 20:27:04 WARN MemoryStore: Not enough space to cache rdd_851_139 in memory! (computed 6.8 MiB so far)\n",
      "21/12/25 20:27:04 WARN MemoryStore: Failed to reserve initial memory threshold of 1024.0 KiB for computing block rdd_851_142 in memory.\n",
      "21/12/25 20:27:04 WARN MemoryStore: Not enough space to cache rdd_851_142 in memory! (computed 384.0 B so far)\n",
      "21/12/25 20:27:04 WARN MemoryStore: Not enough space to cache rdd_851_140 in memory! (computed 16.2 MiB so far)\n",
      "21/12/25 20:27:04 WARN MemoryStore: Not enough space to cache rdd_851_141 in memory! (computed 10.5 MiB so far)\n",
      "21/12/25 20:27:04 WARN MemoryStore: Failed to reserve initial memory threshold of 1024.0 KiB for computing block rdd_851_143 in memory.\n",
      "21/12/25 20:27:04 WARN MemoryStore: Not enough space to cache rdd_851_143 in memory! (computed 384.0 B so far)\n",
      "21/12/25 20:27:05 WARN MemoryStore: Not enough space to cache rdd_851_145 in memory! (computed 10.5 MiB so far)\n",
      "21/12/25 20:27:05 WARN MemoryStore: Not enough space to cache rdd_851_146 in memory! (computed 4.4 MiB so far)\n",
      "21/12/25 20:27:05 WARN MemoryStore: Not enough space to cache rdd_851_144 in memory! (computed 10.5 MiB so far)\n",
      "21/12/25 20:27:05 WARN MemoryStore: Not enough space to cache rdd_851_147 in memory! (computed 2.5 MiB so far)\n",
      "21/12/25 20:27:05 WARN MemoryStore: Not enough space to cache rdd_851_148 in memory! (computed 16.2 MiB so far)\n",
      "21/12/25 20:27:05 WARN MemoryStore: Not enough space to cache rdd_851_149 in memory! (computed 6.8 MiB so far)\n",
      "21/12/25 20:27:05 WARN MemoryStore: Not enough space to cache rdd_851_150 in memory! (computed 4.4 MiB so far)\n",
      "21/12/25 20:27:05 WARN MemoryStore: Not enough space to cache rdd_851_151 in memory! (computed 24.3 MiB so far)\n",
      "21/12/25 20:27:05 WARN MemoryStore: Not enough space to cache rdd_851_152 in memory! (computed 10.5 MiB so far)\n",
      "21/12/25 20:27:05 WARN MemoryStore: Not enough space to cache rdd_851_153 in memory! (computed 10.5 MiB so far)\n",
      "21/12/25 20:27:05 WARN MemoryStore: Not enough space to cache rdd_851_155 in memory! (computed 1305.5 KiB so far)\n",
      "21/12/25 20:27:05 WARN MemoryStore: Not enough space to cache rdd_851_156 in memory! (computed 1305.5 KiB so far)\n",
      "21/12/25 20:27:05 WARN MemoryStore: Not enough space to cache rdd_851_154 in memory! (computed 4.4 MiB so far)\n",
      "21/12/25 20:27:06 WARN MemoryStore: Not enough space to cache rdd_851_157 in memory! (computed 16.2 MiB so far)\n",
      "21/12/25 20:27:06 WARN MemoryStore: Not enough space to cache rdd_851_158 in memory! (computed 10.5 MiB so far)\n",
      "21/12/25 20:27:06 WARN MemoryStore: Not enough space to cache rdd_851_159 in memory! (computed 24.3 MiB so far)\n",
      "21/12/25 20:27:06 WARN MemoryStore: Not enough space to cache rdd_851_162 in memory! (computed 10.5 MiB so far)\n",
      "21/12/25 20:27:06 WARN MemoryStore: Not enough space to cache rdd_851_161 in memory! (computed 6.8 MiB so far)\n",
      "21/12/25 20:27:06 WARN MemoryStore: Not enough space to cache rdd_851_160 in memory! (computed 6.8 MiB so far)\n",
      "21/12/25 20:27:06 WARN MemoryStore: Not enough space to cache rdd_851_163 in memory! (computed 2.5 MiB so far)\n",
      "21/12/25 20:27:06 WARN MemoryStore: Not enough space to cache rdd_851_164 in memory! (computed 1305.5 KiB so far)\n",
      "21/12/25 20:27:06 WARN MemoryStore: Not enough space to cache rdd_851_166 in memory! (computed 10.5 MiB so far)\n",
      "21/12/25 20:27:06 WARN MemoryStore: Not enough space to cache rdd_851_165 in memory! (computed 16.2 MiB so far)\n",
      "21/12/25 20:27:06 WARN MemoryStore: Failed to reserve initial memory threshold of 1024.0 KiB for computing block rdd_851_167 in memory.\n",
      "21/12/25 20:27:06 WARN MemoryStore: Not enough space to cache rdd_851_167 in memory! (computed 384.0 B so far)\n",
      "21/12/25 20:27:07 WARN MemoryStore: Not enough space to cache rdd_851_168 in memory! (computed 24.3 MiB so far)\n",
      "21/12/25 20:27:07 WARN MemoryStore: Not enough space to cache rdd_851_169 in memory! (computed 2.5 MiB so far)\n",
      "21/12/25 20:27:07 WARN MemoryStore: Failed to reserve initial memory threshold of 1024.0 KiB for computing block rdd_851_170 in memory.\n",
      "21/12/25 20:27:07 WARN MemoryStore: Not enough space to cache rdd_851_170 in memory! (computed 384.0 B so far)\n",
      "21/12/25 20:27:07 WARN MemoryStore: Not enough space to cache rdd_851_171 in memory! (computed 2.5 MiB so far)\n",
      "21/12/25 20:27:07 WARN MemoryStore: Failed to reserve initial memory threshold of 1024.0 KiB for computing block rdd_851_172 in memory.\n",
      "21/12/25 20:27:07 WARN MemoryStore: Not enough space to cache rdd_851_172 in memory! (computed 384.0 B so far)\n",
      "21/12/25 20:27:07 WARN MemoryStore: Not enough space to cache rdd_851_173 in memory! (computed 2.5 MiB so far)\n",
      "21/12/25 20:27:07 WARN MemoryStore: Not enough space to cache rdd_851_175 in memory! (computed 2.5 MiB so far)\n",
      "21/12/25 20:27:07 WARN MemoryStore: Not enough space to cache rdd_851_174 in memory! (computed 24.3 MiB so far)\n",
      "21/12/25 20:27:07 WARN MemoryStore: Not enough space to cache rdd_851_177 in memory! (computed 2.5 MiB so far)\n",
      "21/12/25 20:27:07 WARN MemoryStore: Not enough space to cache rdd_851_176 in memory! (computed 24.3 MiB so far)\n",
      "21/12/25 20:27:07 WARN MemoryStore: Not enough space to cache rdd_851_180 in memory! (computed 2.5 MiB so far)\n",
      "21/12/25 20:27:07 WARN MemoryStore: Failed to reserve initial memory threshold of 1024.0 KiB for computing block rdd_851_181 in memory.\n",
      "21/12/25 20:27:07 WARN MemoryStore: Not enough space to cache rdd_851_181 in memory! (computed 384.0 B so far)\n",
      "21/12/25 20:27:07 WARN MemoryStore: Not enough space to cache rdd_851_182 in memory! (computed 16.2 MiB so far)\n",
      "21/12/25 20:27:07 WARN MemoryStore: Not enough space to cache rdd_851_183 in memory! (computed 10.5 MiB so far)\n",
      "21/12/25 20:27:08 WARN MemoryStore: Failed to reserve initial memory threshold of 1024.0 KiB for computing block rdd_851_186 in memory.\n",
      "21/12/25 20:27:08 WARN MemoryStore: Not enough space to cache rdd_851_186 in memory! (computed 384.0 B so far)\n",
      "21/12/25 20:27:08 WARN MemoryStore: Not enough space to cache rdd_851_185 in memory! (computed 10.5 MiB so far)\n",
      "21/12/25 20:27:08 WARN MemoryStore: Not enough space to cache rdd_851_184 in memory! (computed 16.2 MiB so far)\n",
      "21/12/25 20:27:08 WARN MemoryStore: Not enough space to cache rdd_851_187 in memory! (computed 6.8 MiB so far)\n",
      "21/12/25 20:27:08 WARN MemoryStore: Not enough space to cache rdd_851_189 in memory! (computed 6.8 MiB so far)\n",
      "21/12/25 20:27:08 WARN MemoryStore: Not enough space to cache rdd_851_188 in memory! (computed 16.2 MiB so far)\n",
      "21/12/25 20:27:08 WARN MemoryStore: Not enough space to cache rdd_851_193 in memory! (computed 10.5 MiB so far)\n",
      "21/12/25 20:27:08 WARN MemoryStore: Not enough space to cache rdd_851_192 in memory! (computed 16.2 MiB so far)\n",
      "21/12/25 20:27:08 WARN MemoryStore: Failed to reserve initial memory threshold of 1024.0 KiB for computing block rdd_851_196 in memory.\n",
      "21/12/25 20:27:08 WARN MemoryStore: Not enough space to cache rdd_851_196 in memory! (computed 384.0 B so far)\n",
      "21/12/25 20:27:08 WARN MemoryStore: Failed to reserve initial memory threshold of 1024.0 KiB for computing block rdd_851_197 in memory.\n",
      "21/12/25 20:27:08 WARN MemoryStore: Not enough space to cache rdd_851_197 in memory! (computed 384.0 B so far)\n",
      "21/12/25 20:27:08 WARN MemoryStore: Not enough space to cache rdd_851_199 in memory! (computed 2.5 MiB so far)\n",
      "21/12/25 20:27:08 WARN MemoryStore: Not enough space to cache rdd_851_198 in memory! (computed 24.3 MiB so far)\n",
      "21/12/25 20:27:12 WARN MemoryStore: Not enough space to cache rdd_851_1 in memory! (computed 4.4 MiB so far)\n",
      "21/12/25 20:27:12 WARN MemoryStore: Not enough space to cache rdd_851_7 in memory! (computed 4.4 MiB so far)\n",
      "21/12/25 20:27:12 WARN MemoryStore: Not enough space to cache rdd_851_5 in memory! (computed 4.4 MiB so far)\n",
      "21/12/25 20:27:12 WARN MemoryStore: Not enough space to cache rdd_851_2 in memory! (computed 4.4 MiB so far)\n",
      "21/12/25 20:27:12 WARN MemoryStore: Not enough space to cache rdd_851_0 in memory! (computed 2.5 MiB so far)\n",
      "21/12/25 20:27:12 WARN MemoryStore: Not enough space to cache rdd_851_4 in memory! (computed 4.4 MiB so far)\n",
      "21/12/25 20:27:12 WARN MemoryStore: Not enough space to cache rdd_851_6 in memory! (computed 4.4 MiB so far)\n",
      "21/12/25 20:27:13 WARN MemoryStore: Not enough space to cache rdd_851_8 in memory! (computed 24.3 MiB so far)\n",
      "21/12/25 20:27:13 WARN MemoryStore: Not enough space to cache rdd_851_9 in memory! (computed 2.5 MiB so far)\n",
      "21/12/25 20:27:13 WARN MemoryStore: Failed to reserve initial memory threshold of 1024.0 KiB for computing block rdd_851_11 in memory.\n",
      "21/12/25 20:27:13 WARN MemoryStore: Not enough space to cache rdd_851_11 in memory! (computed 384.0 B so far)\n",
      "21/12/25 20:27:13 WARN MemoryStore: Not enough space to cache rdd_851_10 in memory! (computed 2.5 MiB so far)\n",
      "21/12/25 20:27:13 WARN MemoryStore: Failed to reserve initial memory threshold of 1024.0 KiB for computing block rdd_851_12 in memory.\n",
      "21/12/25 20:27:13 WARN MemoryStore: Not enough space to cache rdd_851_12 in memory! (computed 384.0 B so far)\n",
      "21/12/25 20:27:13 WARN MemoryStore: Failed to reserve initial memory threshold of 1024.0 KiB for computing block rdd_851_13 in memory.\n",
      "21/12/25 20:27:13 WARN MemoryStore: Not enough space to cache rdd_851_13 in memory! (computed 384.0 B so far)\n",
      "21/12/25 20:27:13 WARN MemoryStore: Not enough space to cache rdd_851_14 in memory! (computed 2.5 MiB so far)\n",
      "21/12/25 20:27:13 WARN MemoryStore: Failed to reserve initial memory threshold of 1024.0 KiB for computing block rdd_851_15 in memory.\n",
      "21/12/25 20:27:13 WARN MemoryStore: Not enough space to cache rdd_851_15 in memory! (computed 384.0 B so far)\n",
      "21/12/25 20:27:14 WARN MemoryStore: Failed to reserve initial memory threshold of 1024.0 KiB for computing block rdd_851_19 in memory.\n",
      "21/12/25 20:27:14 WARN MemoryStore: Not enough space to cache rdd_851_19 in memory! (computed 384.0 B so far)\n",
      "21/12/25 20:27:14 WARN MemoryStore: Not enough space to cache rdd_851_18 in memory! (computed 2.5 MiB so far)\n",
      "21/12/25 20:27:14 WARN MemoryStore: Failed to reserve initial memory threshold of 1024.0 KiB for computing block rdd_851_17 in memory.\n",
      "21/12/25 20:27:14 WARN MemoryStore: Not enough space to cache rdd_851_17 in memory! (computed 384.0 B so far)\n",
      "21/12/25 20:27:14 WARN MemoryStore: Not enough space to cache rdd_851_16 in memory! (computed 24.3 MiB so far)\n",
      "21/12/25 20:27:14 WARN MemoryStore: Not enough space to cache rdd_851_20 in memory! (computed 2.5 MiB so far)\n",
      "21/12/25 20:27:14 WARN MemoryStore: Failed to reserve initial memory threshold of 1024.0 KiB for computing block rdd_851_21 in memory.\n",
      "21/12/25 20:27:14 WARN MemoryStore: Not enough space to cache rdd_851_21 in memory! (computed 384.0 B so far)\n",
      "21/12/25 20:27:14 WARN MemoryStore: Not enough space to cache rdd_851_22 in memory! (computed 2.5 MiB so far)\n",
      "21/12/25 20:27:14 WARN MemoryStore: Failed to reserve initial memory threshold of 1024.0 KiB for computing block rdd_851_23 in memory.\n",
      "21/12/25 20:27:14 WARN MemoryStore: Not enough space to cache rdd_851_23 in memory! (computed 384.0 B so far)\n",
      "21/12/25 20:27:14 WARN MemoryStore: Not enough space to cache rdd_851_24 in memory! (computed 16.2 MiB so far)\n",
      "21/12/25 20:27:14 WARN MemoryStore: Failed to reserve initial memory threshold of 1024.0 KiB for computing block rdd_851_26 in memory.\n",
      "21/12/25 20:27:14 WARN MemoryStore: Not enough space to cache rdd_851_26 in memory! (computed 384.0 B so far)\n",
      "21/12/25 20:27:14 WARN MemoryStore: Not enough space to cache rdd_851_25 in memory! (computed 10.5 MiB so far)\n",
      "21/12/25 20:27:14 WARN MemoryStore: Failed to reserve initial memory threshold of 1024.0 KiB for computing block rdd_851_27 in memory.\n",
      "21/12/25 20:27:14 WARN MemoryStore: Not enough space to cache rdd_851_27 in memory! (computed 384.0 B so far)\n",
      "21/12/25 20:27:14 WARN MemoryStore: Not enough space to cache rdd_851_31 in memory! (computed 2.5 MiB so far)\n",
      "21/12/25 20:27:14 WARN MemoryStore: Not enough space to cache rdd_851_29 in memory! (computed 6.8 MiB so far)\n",
      "21/12/25 20:27:14 WARN MemoryStore: Not enough space to cache rdd_851_30 in memory! (computed 6.8 MiB so far)\n",
      "21/12/25 20:27:14 WARN MemoryStore: Not enough space to cache rdd_851_28 in memory! (computed 10.5 MiB so far)\n",
      "21/12/25 20:27:15 WARN MemoryStore: Not enough space to cache rdd_851_32 in memory! (computed 24.3 MiB so far)\n",
      "21/12/25 20:27:15 WARN MemoryStore: Failed to reserve initial memory threshold of 1024.0 KiB for computing block rdd_851_33 in memory.\n",
      "21/12/25 20:27:15 WARN MemoryStore: Not enough space to cache rdd_851_33 in memory! (computed 384.0 B so far)\n",
      "21/12/25 20:27:15 WARN MemoryStore: Not enough space to cache rdd_851_34 in memory! (computed 2.5 MiB so far)\n",
      "21/12/25 20:27:15 WARN MemoryStore: Failed to reserve initial memory threshold of 1024.0 KiB for computing block rdd_851_35 in memory.\n",
      "21/12/25 20:27:15 WARN MemoryStore: Not enough space to cache rdd_851_35 in memory! (computed 384.0 B so far)\n",
      "21/12/25 20:27:15 WARN MemoryStore: Failed to reserve initial memory threshold of 1024.0 KiB for computing block rdd_851_37 in memory.\n",
      "21/12/25 20:27:15 WARN MemoryStore: Not enough space to cache rdd_851_37 in memory! (computed 384.0 B so far)\n",
      "21/12/25 20:27:15 WARN MemoryStore: Not enough space to cache rdd_851_36 in memory! (computed 2.5 MiB so far)\n",
      "21/12/25 20:27:15 WARN MemoryStore: Failed to reserve initial memory threshold of 1024.0 KiB for computing block rdd_851_38 in memory.\n",
      "21/12/25 20:27:15 WARN MemoryStore: Not enough space to cache rdd_851_38 in memory! (computed 384.0 B so far)\n",
      "21/12/25 20:27:15 WARN MemoryStore: Failed to reserve initial memory threshold of 1024.0 KiB for computing block rdd_851_39 in memory.\n",
      "21/12/25 20:27:15 WARN MemoryStore: Not enough space to cache rdd_851_39 in memory! (computed 384.0 B so far)\n",
      "21/12/25 20:27:16 WARN MemoryStore: Not enough space to cache rdd_851_41 in memory! (computed 1305.5 KiB so far)\n",
      "21/12/25 20:27:16 WARN MemoryStore: Failed to reserve initial memory threshold of 1024.0 KiB for computing block rdd_851_43 in memory.\n",
      "21/12/25 20:27:16 WARN MemoryStore: Not enough space to cache rdd_851_43 in memory! (computed 384.0 B so far)\n",
      "21/12/25 20:27:16 WARN MemoryStore: Not enough space to cache rdd_851_42 in memory! (computed 2.5 MiB so far)\n",
      "21/12/25 20:27:16 WARN MemoryStore: Not enough space to cache rdd_851_40 in memory! (computed 24.3 MiB so far)\n",
      "21/12/25 20:27:16 WARN MemoryStore: Failed to reserve initial memory threshold of 1024.0 KiB for computing block rdd_851_44 in memory.\n",
      "21/12/25 20:27:16 WARN MemoryStore: Not enough space to cache rdd_851_44 in memory! (computed 384.0 B so far)\n",
      "21/12/25 20:27:16 WARN MemoryStore: Failed to reserve initial memory threshold of 1024.0 KiB for computing block rdd_851_46 in memory.\n",
      "21/12/25 20:27:16 WARN MemoryStore: Not enough space to cache rdd_851_46 in memory! (computed 384.0 B so far)\n",
      "21/12/25 20:27:16 WARN MemoryStore: Not enough space to cache rdd_851_45 in memory! (computed 2.5 MiB so far)\n",
      "21/12/25 20:27:16 WARN MemoryStore: Failed to reserve initial memory threshold of 1024.0 KiB for computing block rdd_851_47 in memory.\n",
      "21/12/25 20:27:16 WARN MemoryStore: Not enough space to cache rdd_851_47 in memory! (computed 384.0 B so far)\n",
      "21/12/25 20:27:16 WARN MemoryStore: Failed to reserve initial memory threshold of 1024.0 KiB for computing block rdd_851_50 in memory.\n",
      "21/12/25 20:27:16 WARN MemoryStore: Not enough space to cache rdd_851_50 in memory! (computed 384.0 B so far)\n",
      "21/12/25 20:27:16 WARN MemoryStore: Not enough space to cache rdd_851_48 in memory! (computed 10.5 MiB so far)\n",
      "21/12/25 20:27:16 WARN MemoryStore: Not enough space to cache rdd_851_49 in memory! (computed 16.2 MiB so far)\n",
      "21/12/25 20:27:16 WARN MemoryStore: Failed to reserve initial memory threshold of 1024.0 KiB for computing block rdd_851_51 in memory.\n",
      "21/12/25 20:27:16 WARN MemoryStore: Not enough space to cache rdd_851_51 in memory! (computed 384.0 B so far)\n",
      "21/12/25 20:27:16 WARN MemoryStore: Failed to reserve initial memory threshold of 1024.0 KiB for computing block rdd_851_52 in memory.\n",
      "21/12/25 20:27:16 WARN MemoryStore: Not enough space to cache rdd_851_52 in memory! (computed 384.0 B so far)\n",
      "21/12/25 20:27:16 WARN MemoryStore: Not enough space to cache rdd_851_54 in memory! (computed 1305.5 KiB so far)\n",
      "21/12/25 20:27:16 WARN MemoryStore: Not enough space to cache rdd_851_55 in memory! (computed 1305.5 KiB so far)\n",
      "21/12/25 20:27:16 WARN MemoryStore: Not enough space to cache rdd_851_53 in memory! (computed 24.3 MiB so far)\n",
      "21/12/25 20:27:17 WARN MemoryStore: Not enough space to cache rdd_851_56 in memory! (computed 10.5 MiB so far)\n",
      "21/12/25 20:27:17 WARN MemoryStore: Not enough space to cache rdd_851_57 in memory! (computed 10.5 MiB so far)\n",
      "21/12/25 20:27:17 WARN MemoryStore: Not enough space to cache rdd_851_58 in memory! (computed 4.4 MiB so far)\n",
      "21/12/25 20:27:17 WARN MemoryStore: Not enough space to cache rdd_851_59 in memory! (computed 2.5 MiB so far)\n",
      "21/12/25 20:27:17 WARN MemoryStore: Failed to reserve initial memory threshold of 1024.0 KiB for computing block rdd_851_60 in memory.\n",
      "21/12/25 20:27:17 WARN MemoryStore: Not enough space to cache rdd_851_60 in memory! (computed 384.0 B so far)\n",
      "21/12/25 20:27:17 WARN MemoryStore: Not enough space to cache rdd_851_62 in memory! (computed 2.5 MiB so far)\n",
      "21/12/25 20:27:17 WARN MemoryStore: Failed to reserve initial memory threshold of 1024.0 KiB for computing block rdd_851_63 in memory.\n",
      "21/12/25 20:27:17 WARN MemoryStore: Not enough space to cache rdd_851_63 in memory! (computed 384.0 B so far)\n",
      "21/12/25 20:27:17 WARN MemoryStore: Not enough space to cache rdd_851_61 in memory! (computed 24.3 MiB so far)\n",
      "21/12/25 20:27:18 WARN MemoryStore: Not enough space to cache rdd_851_64 in memory! (computed 24.3 MiB so far)\n",
      "21/12/25 20:27:18 WARN MemoryStore: Not enough space to cache rdd_851_65 in memory! (computed 2.5 MiB so far)\n",
      "21/12/25 20:27:18 WARN MemoryStore: Failed to reserve initial memory threshold of 1024.0 KiB for computing block rdd_851_66 in memory.\n",
      "21/12/25 20:27:18 WARN MemoryStore: Not enough space to cache rdd_851_66 in memory! (computed 384.0 B so far)\n",
      "21/12/25 20:27:18 WARN MemoryStore: Failed to reserve initial memory threshold of 1024.0 KiB for computing block rdd_851_68 in memory.\n",
      "21/12/25 20:27:18 WARN MemoryStore: Not enough space to cache rdd_851_67 in memory! (computed 2.5 MiB so far)\n",
      "21/12/25 20:27:18 WARN MemoryStore: Not enough space to cache rdd_851_68 in memory! (computed 384.0 B so far)\n",
      "21/12/25 20:27:18 WARN MemoryStore: Not enough space to cache rdd_851_69 in memory! (computed 2.5 MiB so far)\n",
      "21/12/25 20:27:18 WARN MemoryStore: Not enough space to cache rdd_851_71 in memory! (computed 10.5 MiB so far)\n",
      "21/12/25 20:27:18 WARN MemoryStore: Not enough space to cache rdd_851_70 in memory! (computed 16.2 MiB so far)\n",
      "21/12/25 20:27:18 WARN MemoryStore: Not enough space to cache rdd_851_72 in memory! (computed 16.2 MiB so far)\n",
      "21/12/25 20:27:18 WARN MemoryStore: Not enough space to cache rdd_851_73 in memory! (computed 10.5 MiB so far)\n",
      "21/12/25 20:27:18 WARN MemoryStore: Failed to reserve initial memory threshold of 1024.0 KiB for computing block rdd_851_74 in memory.\n",
      "21/12/25 20:27:18 WARN MemoryStore: Not enough space to cache rdd_851_74 in memory! (computed 384.0 B so far)\n",
      "21/12/25 20:27:18 WARN MemoryStore: Failed to reserve initial memory threshold of 1024.0 KiB for computing block rdd_851_75 in memory.\n",
      "21/12/25 20:27:18 WARN MemoryStore: Not enough space to cache rdd_851_75 in memory! (computed 384.0 B so far)\n",
      "21/12/25 20:27:18 WARN MemoryStore: Failed to reserve initial memory threshold of 1024.0 KiB for computing block rdd_851_76 in memory.\n",
      "21/12/25 20:27:18 WARN MemoryStore: Not enough space to cache rdd_851_76 in memory! (computed 384.0 B so far)\n",
      "21/12/25 20:27:18 WARN MemoryStore: Not enough space to cache rdd_851_77 in memory! (computed 10.5 MiB so far)\n",
      "21/12/25 20:27:18 WARN MemoryStore: Not enough space to cache rdd_851_78 in memory! (computed 6.8 MiB so far)\n",
      "21/12/25 20:27:18 WARN MemoryStore: Not enough space to cache rdd_851_79 in memory! (computed 6.8 MiB so far)\n",
      "21/12/25 20:27:19 WARN MemoryStore: Not enough space to cache rdd_851_80 in memory! (computed 16.2 MiB so far)\n",
      "21/12/25 20:27:19 WARN MemoryStore: Failed to reserve initial memory threshold of 1024.0 KiB for computing block rdd_851_82 in memory.\n",
      "21/12/25 20:27:19 WARN MemoryStore: Not enough space to cache rdd_851_82 in memory! (computed 384.0 B so far)\n",
      "21/12/25 20:27:19 WARN MemoryStore: Not enough space to cache rdd_851_81 in memory! (computed 10.5 MiB so far)\n",
      "21/12/25 20:27:19 WARN MemoryStore: Failed to reserve initial memory threshold of 1024.0 KiB for computing block rdd_851_83 in memory.\n",
      "21/12/25 20:27:19 WARN MemoryStore: Not enough space to cache rdd_851_83 in memory! (computed 384.0 B so far)\n",
      "21/12/25 20:27:19 WARN MemoryStore: Failed to reserve initial memory threshold of 1024.0 KiB for computing block rdd_851_84 in memory.\n",
      "21/12/25 20:27:19 WARN MemoryStore: Not enough space to cache rdd_851_84 in memory! (computed 384.0 B so far)\n",
      "21/12/25 20:27:19 WARN MemoryStore: Not enough space to cache rdd_851_87 in memory! (computed 4.4 MiB so far)\n",
      "21/12/25 20:27:19 WARN MemoryStore: Not enough space to cache rdd_851_86 in memory! (computed 10.5 MiB so far)\n",
      "21/12/25 20:27:19 WARN MemoryStore: Not enough space to cache rdd_851_85 in memory! (computed 10.5 MiB so far)\n",
      "21/12/25 20:27:20 WARN MemoryStore: Not enough space to cache rdd_851_88 in memory! (computed 16.2 MiB so far)\n",
      "21/12/25 20:27:20 WARN MemoryStore: Not enough space to cache rdd_851_90 in memory! (computed 4.4 MiB so far)\n",
      "21/12/25 20:27:20 WARN MemoryStore: Failed to reserve initial memory threshold of 1024.0 KiB for computing block rdd_851_91 in memory.\n",
      "21/12/25 20:27:20 WARN MemoryStore: Not enough space to cache rdd_851_91 in memory! (computed 384.0 B so far)\n",
      "21/12/25 20:27:20 WARN MemoryStore: Not enough space to cache rdd_851_89 in memory! (computed 6.8 MiB so far)\n",
      "21/12/25 20:27:20 WARN MemoryStore: Not enough space to cache rdd_851_92 in memory! (computed 4.4 MiB so far)\n",
      "21/12/25 20:27:20 WARN MemoryStore: Not enough space to cache rdd_851_95 in memory! (computed 4.4 MiB so far)\n",
      "21/12/25 20:27:20 WARN MemoryStore: Not enough space to cache rdd_851_93 in memory! (computed 10.5 MiB so far)\n",
      "21/12/25 20:27:20 WARN MemoryStore: Not enough space to cache rdd_851_94 in memory! (computed 10.5 MiB so far)\n",
      "21/12/25 20:27:20 WARN MemoryStore: Not enough space to cache rdd_851_98 in memory! (computed 4.4 MiB so far)\n",
      "21/12/25 20:27:20 WARN MemoryStore: Not enough space to cache rdd_851_97 in memory! (computed 4.4 MiB so far)\n",
      "21/12/25 20:27:20 WARN MemoryStore: Not enough space to cache rdd_851_99 in memory! (computed 2.5 MiB so far)\n",
      "21/12/25 20:27:20 WARN MemoryStore: Not enough space to cache rdd_851_96 in memory! (computed 16.2 MiB so far)\n",
      "21/12/25 20:27:20 WARN MemoryStore: Not enough space to cache rdd_851_100 in memory! (computed 1305.5 KiB so far)\n",
      "21/12/25 20:27:20 WARN MemoryStore: Not enough space to cache rdd_851_103 in memory! (computed 4.4 MiB so far)\n",
      "21/12/25 20:27:20 WARN MemoryStore: Not enough space to cache rdd_851_102 in memory! (computed 10.5 MiB so far)\n",
      "21/12/25 20:27:20 WARN MemoryStore: Not enough space to cache rdd_851_101 in memory! (computed 10.5 MiB so far)\n",
      "21/12/25 20:27:21 WARN MemoryStore: Not enough space to cache rdd_851_107 in memory! (computed 2.5 MiB so far)\n",
      "21/12/25 20:27:21 WARN MemoryStore: Not enough space to cache rdd_851_106 in memory! (computed 4.4 MiB so far)\n",
      "21/12/25 20:27:21 WARN MemoryStore: Not enough space to cache rdd_851_105 in memory! (computed 10.5 MiB so far)\n",
      "21/12/25 20:27:21 WARN MemoryStore: Not enough space to cache rdd_851_104 in memory! (computed 10.5 MiB so far)\n",
      "21/12/25 20:27:21 WARN MemoryStore: Failed to reserve initial memory threshold of 1024.0 KiB for computing block rdd_851_108 in memory.\n",
      "21/12/25 20:27:21 WARN MemoryStore: Not enough space to cache rdd_851_108 in memory! (computed 384.0 B so far)\n",
      "21/12/25 20:27:21 WARN MemoryStore: Failed to reserve initial memory threshold of 1024.0 KiB for computing block rdd_851_109 in memory.\n",
      "21/12/25 20:27:21 WARN MemoryStore: Not enough space to cache rdd_851_109 in memory! (computed 384.0 B so far)\n",
      "21/12/25 20:27:21 WARN MemoryStore: Not enough space to cache rdd_851_110 in memory! (computed 16.2 MiB so far)\n",
      "21/12/25 20:27:21 WARN MemoryStore: Not enough space to cache rdd_851_111 in memory! (computed 10.5 MiB so far)\n",
      "21/12/25 20:27:22 WARN MemoryStore: Not enough space to cache rdd_851_113 in memory! (computed 2.5 MiB so far)\n",
      "21/12/25 20:27:22 WARN MemoryStore: Failed to reserve initial memory threshold of 1024.0 KiB for computing block rdd_851_114 in memory.\n",
      "21/12/25 20:27:22 WARN MemoryStore: Not enough space to cache rdd_851_114 in memory! (computed 384.0 B so far)\n",
      "21/12/25 20:27:22 WARN MemoryStore: Not enough space to cache rdd_851_112 in memory! (computed 24.3 MiB so far)\n",
      "21/12/25 20:27:22 WARN MemoryStore: Failed to reserve initial memory threshold of 1024.0 KiB for computing block rdd_851_115 in memory.\n",
      "21/12/25 20:27:22 WARN MemoryStore: Not enough space to cache rdd_851_115 in memory! (computed 384.0 B so far)\n",
      "21/12/25 20:27:22 WARN MemoryStore: Failed to reserve initial memory threshold of 1024.0 KiB for computing block rdd_851_116 in memory.\n",
      "21/12/25 20:27:22 WARN MemoryStore: Not enough space to cache rdd_851_116 in memory! (computed 384.0 B so far)\n",
      "21/12/25 20:27:22 WARN MemoryStore: Not enough space to cache rdd_851_117 in memory! (computed 2.5 MiB so far)\n",
      "21/12/25 20:27:22 WARN MemoryStore: Not enough space to cache rdd_851_118 in memory! (computed 2.5 MiB so far)\n",
      "21/12/25 20:27:22 WARN MemoryStore: Not enough space to cache rdd_851_119 in memory! (computed 2.5 MiB so far)\n",
      "21/12/25 20:27:22 WARN MemoryStore: Not enough space to cache rdd_851_120 in memory! (computed 16.2 MiB so far)\n",
      "21/12/25 20:27:22 WARN MemoryStore: Failed to reserve initial memory threshold of 1024.0 KiB for computing block rdd_851_123 in memory.\n",
      "21/12/25 20:27:22 WARN MemoryStore: Not enough space to cache rdd_851_123 in memory! (computed 384.0 B so far)\n",
      "21/12/25 20:27:22 WARN MemoryStore: Failed to reserve initial memory threshold of 1024.0 KiB for computing block rdd_851_124 in memory.\n",
      "21/12/25 20:27:22 WARN MemoryStore: Not enough space to cache rdd_851_124 in memory! (computed 384.0 B so far)\n",
      "21/12/25 20:27:22 WARN MemoryStore: Not enough space to cache rdd_851_122 in memory! (computed 4.4 MiB so far)\n",
      "21/12/25 20:27:22 WARN MemoryStore: Not enough space to cache rdd_851_121 in memory! (computed 6.8 MiB so far)\n",
      "21/12/25 20:27:22 WARN MemoryStore: Failed to reserve initial memory threshold of 1024.0 KiB for computing block rdd_851_125 in memory.\n",
      "21/12/25 20:27:22 WARN MemoryStore: Not enough space to cache rdd_851_125 in memory! (computed 384.0 B so far)\n",
      "21/12/25 20:27:22 WARN MemoryStore: Failed to reserve initial memory threshold of 1024.0 KiB for computing block rdd_851_126 in memory.\n",
      "21/12/25 20:27:22 WARN MemoryStore: Not enough space to cache rdd_851_126 in memory! (computed 384.0 B so far)\n",
      "21/12/25 20:27:22 WARN MemoryStore: Not enough space to cache rdd_851_127 in memory! (computed 24.3 MiB so far)\n",
      "21/12/25 20:27:23 WARN MemoryStore: Not enough space to cache rdd_851_128 in memory! (computed 10.5 MiB so far)\n",
      "21/12/25 20:27:23 WARN MemoryStore: Not enough space to cache rdd_851_132 in memory! (computed 1305.5 KiB so far)\n",
      "21/12/25 20:27:23 WARN MemoryStore: Not enough space to cache rdd_851_131 in memory! (computed 1305.5 KiB so far)\n",
      "21/12/25 20:27:23 WARN MemoryStore: Not enough space to cache rdd_851_130 in memory! (computed 4.4 MiB so far)\n",
      "21/12/25 20:27:23 WARN MemoryStore: Not enough space to cache rdd_851_134 in memory! (computed 1305.5 KiB so far)\n",
      "21/12/25 20:27:23 WARN MemoryStore: Not enough space to cache rdd_851_129 in memory! (computed 10.5 MiB so far)\n",
      "21/12/25 20:27:23 WARN MemoryStore: Not enough space to cache rdd_851_133 in memory! (computed 1305.5 KiB so far)\n",
      "21/12/25 20:27:23 WARN MemoryStore: Not enough space to cache rdd_851_135 in memory! (computed 24.3 MiB so far)\n",
      "21/12/25 20:27:24 WARN MemoryStore: Not enough space to cache rdd_851_136 in memory! (computed 10.5 MiB so far)\n",
      "21/12/25 20:27:24 WARN MemoryStore: Not enough space to cache rdd_851_138 in memory! (computed 4.4 MiB so far)\n",
      "21/12/25 20:27:24 WARN MemoryStore: Not enough space to cache rdd_851_139 in memory! (computed 1305.5 KiB so far)\n",
      "21/12/25 20:27:24 WARN MemoryStore: Not enough space to cache rdd_851_140 in memory! (computed 1305.5 KiB so far)\n",
      "21/12/25 20:27:24 WARN MemoryStore: Not enough space to cache rdd_851_137 in memory! (computed 10.5 MiB so far)\n",
      "21/12/25 20:27:24 WARN MemoryStore: Failed to reserve initial memory threshold of 1024.0 KiB for computing block rdd_851_143 in memory.\n",
      "21/12/25 20:27:24 WARN MemoryStore: Not enough space to cache rdd_851_141 in memory! (computed 4.4 MiB so far)\n",
      "21/12/25 20:27:24 WARN MemoryStore: Not enough space to cache rdd_851_143 in memory! (computed 384.0 B so far)\n",
      "21/12/25 20:27:24 WARN MemoryStore: Not enough space to cache rdd_851_142 in memory! (computed 2.5 MiB so far)\n",
      "21/12/25 20:27:24 WARN MemoryStore: Not enough space to cache rdd_851_145 in memory! (computed 6.8 MiB so far)\n",
      "21/12/25 20:27:24 WARN MemoryStore: Not enough space to cache rdd_851_146 in memory! (computed 6.8 MiB so far)\n",
      "21/12/25 20:27:24 WARN MemoryStore: Not enough space to cache rdd_851_147 in memory! (computed 2.5 MiB so far)\n",
      "21/12/25 20:27:24 WARN MemoryStore: Not enough space to cache rdd_851_144 in memory! (computed 10.5 MiB so far)\n",
      "21/12/25 20:27:24 WARN MemoryStore: Failed to reserve initial memory threshold of 1024.0 KiB for computing block rdd_851_149 in memory.\n",
      "21/12/25 20:27:24 WARN MemoryStore: Not enough space to cache rdd_851_149 in memory! (computed 384.0 B so far)\n",
      "21/12/25 20:27:24 WARN MemoryStore: Not enough space to cache rdd_851_148 in memory! (computed 1305.5 KiB so far)\n",
      "21/12/25 20:27:24 WARN MemoryStore: Failed to reserve initial memory threshold of 1024.0 KiB for computing block rdd_851_150 in memory.\n",
      "21/12/25 20:27:24 WARN MemoryStore: Not enough space to cache rdd_851_150 in memory! (computed 384.0 B so far)\n",
      "21/12/25 20:27:24 WARN MemoryStore: Not enough space to cache rdd_851_151 in memory! (computed 2.5 MiB so far)\n",
      "21/12/25 20:27:25 WARN MemoryStore: Not enough space to cache rdd_851_153 in memory! (computed 6.8 MiB so far)\n",
      "21/12/25 20:27:25 WARN MemoryStore: Not enough space to cache rdd_851_155 in memory! (computed 2.5 MiB so far)\n",
      "21/12/25 20:27:25 WARN MemoryStore: Not enough space to cache rdd_851_154 in memory! (computed 6.8 MiB so far)\n",
      "21/12/25 20:27:25 WARN MemoryStore: Not enough space to cache rdd_851_152 in memory! (computed 10.5 MiB so far)\n",
      "21/12/25 20:27:25 WARN MemoryStore: Not enough space to cache rdd_851_156 in memory! (computed 2.5 MiB so far)\n",
      "21/12/25 20:27:25 WARN MemoryStore: Failed to reserve initial memory threshold of 1024.0 KiB for computing block rdd_851_158 in memory.\n",
      "21/12/25 20:27:25 WARN MemoryStore: Not enough space to cache rdd_851_158 in memory! (computed 384.0 B so far)\n",
      "21/12/25 20:27:25 WARN MemoryStore: Not enough space to cache rdd_851_157 in memory! (computed 1305.5 KiB so far)\n",
      "21/12/25 20:27:25 WARN MemoryStore: Not enough space to cache rdd_851_159 in memory! (computed 24.3 MiB so far)\n",
      "21/12/25 20:27:26 WARN MemoryStore: Not enough space to cache rdd_851_160 in memory! (computed 10.5 MiB so far)\n",
      "21/12/25 20:27:26 WARN MemoryStore: Not enough space to cache rdd_851_162 in memory! (computed 4.4 MiB so far)\n",
      "21/12/25 20:27:26 WARN MemoryStore: Not enough space to cache rdd_851_161 in memory! (computed 10.5 MiB so far)\n",
      "21/12/25 20:27:26 WARN MemoryStore: Not enough space to cache rdd_851_164 in memory! (computed 1305.5 KiB so far)\n",
      "21/12/25 20:27:26 WARN MemoryStore: Not enough space to cache rdd_851_163 in memory! (computed 1305.5 KiB so far)\n",
      "21/12/25 20:27:26 WARN MemoryStore: Not enough space to cache rdd_851_165 in memory! (computed 2.5 MiB so far)\n",
      "21/12/25 20:27:26 WARN MemoryStore: Not enough space to cache rdd_851_166 in memory! (computed 4.4 MiB so far)\n",
      "21/12/25 20:27:26 WARN MemoryStore: Not enough space to cache rdd_851_167 in memory! (computed 24.3 MiB so far)\n",
      "21/12/25 20:27:26 WARN MemoryStore: Not enough space to cache rdd_851_170 in memory! (computed 1305.5 KiB so far)\n",
      "21/12/25 20:27:26 WARN MemoryStore: Not enough space to cache rdd_851_169 in memory! (computed 1305.5 KiB so far)\n",
      "21/12/25 20:27:26 WARN MemoryStore: Not enough space to cache rdd_851_171 in memory! (computed 2.5 MiB so far)\n",
      "21/12/25 20:27:26 WARN MemoryStore: Not enough space to cache rdd_851_168 in memory! (computed 24.3 MiB so far)\n",
      "21/12/25 20:27:26 WARN MemoryStore: Failed to reserve initial memory threshold of 1024.0 KiB for computing block rdd_851_172 in memory.\n",
      "21/12/25 20:27:26 WARN MemoryStore: Not enough space to cache rdd_851_172 in memory! (computed 384.0 B so far)\n",
      "21/12/25 20:27:26 WARN MemoryStore: Not enough space to cache rdd_851_173 in memory! (computed 2.5 MiB so far)\n",
      "21/12/25 20:27:26 WARN MemoryStore: Failed to reserve initial memory threshold of 1024.0 KiB for computing block rdd_851_174 in memory.\n",
      "21/12/25 20:27:26 WARN MemoryStore: Not enough space to cache rdd_851_174 in memory! (computed 384.0 B so far)\n",
      "21/12/25 20:27:26 WARN MemoryStore: Not enough space to cache rdd_851_175 in memory! (computed 2.5 MiB so far)\n",
      "21/12/25 20:27:27 WARN MemoryStore: Not enough space to cache rdd_851_176 in memory! (computed 16.2 MiB so far)\n",
      "21/12/25 20:27:27 WARN MemoryStore: Failed to reserve initial memory threshold of 1024.0 KiB for computing block rdd_851_180 in memory.\n",
      "21/12/25 20:27:27 WARN MemoryStore: Not enough space to cache rdd_851_180 in memory! (computed 384.0 B so far)\n",
      "21/12/25 20:27:27 WARN MemoryStore: Not enough space to cache rdd_851_177 in memory! (computed 10.5 MiB so far)\n",
      "21/12/25 20:27:27 WARN MemoryStore: Failed to reserve initial memory threshold of 1024.0 KiB for computing block rdd_851_181 in memory.\n",
      "21/12/25 20:27:27 WARN MemoryStore: Not enough space to cache rdd_851_181 in memory! (computed 384.0 B so far)\n",
      "21/12/25 20:27:27 WARN MemoryStore: Failed to reserve initial memory threshold of 1024.0 KiB for computing block rdd_851_182 in memory.\n",
      "21/12/25 20:27:27 WARN MemoryStore: Not enough space to cache rdd_851_182 in memory! (computed 384.0 B so far)\n",
      "21/12/25 20:27:27 WARN MemoryStore: Failed to reserve initial memory threshold of 1024.0 KiB for computing block rdd_851_183 in memory.\n",
      "21/12/25 20:27:27 WARN MemoryStore: Not enough space to cache rdd_851_183 in memory! (computed 384.0 B so far)\n",
      "21/12/25 20:27:28 WARN MemoryStore: Not enough space to cache rdd_851_184 in memory! (computed 16.2 MiB so far)\n",
      "21/12/25 20:27:28 WARN MemoryStore: Not enough space to cache rdd_851_185 in memory! (computed 6.8 MiB so far)\n",
      "21/12/25 20:27:28 WARN MemoryStore: Not enough space to cache rdd_851_186 in memory! (computed 4.4 MiB so far)\n",
      "21/12/25 20:27:28 WARN MemoryStore: Failed to reserve initial memory threshold of 1024.0 KiB for computing block rdd_851_187 in memory.\n",
      "21/12/25 20:27:28 WARN MemoryStore: Not enough space to cache rdd_851_187 in memory! (computed 384.0 B so far)\n",
      "21/12/25 20:27:28 WARN MemoryStore: Not enough space to cache rdd_851_188 in memory! (computed 6.8 MiB so far)\n",
      "21/12/25 20:27:28 WARN MemoryStore: Not enough space to cache rdd_851_189 in memory! (computed 24.3 MiB so far)\n",
      "21/12/25 20:27:28 WARN MemoryStore: Not enough space to cache rdd_851_192 in memory! (computed 16.2 MiB so far)\n",
      "21/12/25 20:27:28 WARN MemoryStore: Failed to reserve initial memory threshold of 1024.0 KiB for computing block rdd_851_196 in memory.\n",
      "21/12/25 20:27:28 WARN MemoryStore: Not enough space to cache rdd_851_196 in memory! (computed 384.0 B so far)\n",
      "21/12/25 20:27:28 WARN MemoryStore: Not enough space to cache rdd_851_193 in memory! (computed 10.5 MiB so far)\n",
      "21/12/25 20:27:28 WARN MemoryStore: Failed to reserve initial memory threshold of 1024.0 KiB for computing block rdd_851_197 in memory.\n",
      "21/12/25 20:27:28 WARN MemoryStore: Not enough space to cache rdd_851_197 in memory! (computed 384.0 B so far)\n",
      "21/12/25 20:27:29 WARN MemoryStore: Failed to reserve initial memory threshold of 1024.0 KiB for computing block rdd_851_198 in memory.\n",
      "21/12/25 20:27:29 WARN MemoryStore: Not enough space to cache rdd_851_198 in memory! (computed 384.0 B so far)\n",
      "21/12/25 20:27:29 WARN MemoryStore: Failed to reserve initial memory threshold of 1024.0 KiB for computing block rdd_851_199 in memory.\n",
      "21/12/25 20:27:29 WARN MemoryStore: Not enough space to cache rdd_851_199 in memory! (computed 384.0 B so far)\n",
      "21/12/25 20:27:33 WARN MemoryStore: Not enough space to cache rdd_851_1 in memory! (computed 4.4 MiB so far)\n",
      "21/12/25 20:27:33 WARN MemoryStore: Not enough space to cache rdd_851_5 in memory! (computed 2.5 MiB so far)\n",
      "21/12/25 20:27:33 WARN MemoryStore: Not enough space to cache rdd_851_0 in memory! (computed 4.4 MiB so far)\n",
      "21/12/25 20:27:33 WARN MemoryStore: Not enough space to cache rdd_851_2 in memory! (computed 4.4 MiB so far)\n",
      "21/12/25 20:27:33 WARN MemoryStore: Not enough space to cache rdd_851_4 in memory! (computed 4.4 MiB so far)\n",
      "21/12/25 20:27:33 WARN MemoryStore: Not enough space to cache rdd_851_7 in memory! (computed 4.4 MiB so far)\n",
      "21/12/25 20:27:33 WARN MemoryStore: Not enough space to cache rdd_851_6 in memory! (computed 4.4 MiB so far)\n",
      "21/12/25 20:27:34 WARN MemoryStore: Not enough space to cache rdd_851_8 in memory! (computed 24.3 MiB so far)\n",
      "21/12/25 20:27:34 WARN MemoryStore: Not enough space to cache rdd_851_9 in memory! (computed 1305.5 KiB so far)\n",
      "21/12/25 20:27:34 WARN MemoryStore: Not enough space to cache rdd_851_10 in memory! (computed 1305.5 KiB so far)\n",
      "21/12/25 20:27:34 WARN MemoryStore: Failed to reserve initial memory threshold of 1024.0 KiB for computing block rdd_851_11 in memory.\n",
      "21/12/25 20:27:34 WARN MemoryStore: Not enough space to cache rdd_851_11 in memory! (computed 384.0 B so far)\n",
      "21/12/25 20:27:34 WARN MemoryStore: Not enough space to cache rdd_851_12 in memory! (computed 1305.5 KiB so far)\n",
      "21/12/25 20:27:34 WARN MemoryStore: Failed to reserve initial memory threshold of 1024.0 KiB for computing block rdd_851_13 in memory.\n",
      "21/12/25 20:27:34 WARN MemoryStore: Not enough space to cache rdd_851_13 in memory! (computed 384.0 B so far)\n",
      "21/12/25 20:27:34 WARN MemoryStore: Not enough space to cache rdd_851_14 in memory! (computed 1305.5 KiB so far)\n",
      "21/12/25 20:27:34 WARN MemoryStore: Not enough space to cache rdd_851_15 in memory! (computed 1305.5 KiB so far)\n",
      "21/12/25 20:27:34 WARN MemoryStore: Not enough space to cache rdd_851_16 in memory! (computed 16.2 MiB so far)\n",
      "21/12/25 20:27:34 WARN MemoryStore: Not enough space to cache rdd_851_17 in memory! (computed 10.5 MiB so far)\n",
      "21/12/25 20:27:34 WARN MemoryStore: Failed to reserve initial memory threshold of 1024.0 KiB for computing block rdd_851_19 in memory.\n",
      "21/12/25 20:27:34 WARN MemoryStore: Failed to reserve initial memory threshold of 1024.0 KiB for computing block rdd_851_18 in memory.\n",
      "21/12/25 20:27:34 WARN MemoryStore: Not enough space to cache rdd_851_19 in memory! (computed 384.0 B so far)\n",
      "21/12/25 20:27:34 WARN MemoryStore: Not enough space to cache rdd_851_18 in memory! (computed 384.0 B so far)\n",
      "21/12/25 20:27:34 WARN MemoryStore: Not enough space to cache rdd_851_20 in memory! (computed 6.8 MiB so far)\n",
      "21/12/25 20:27:34 WARN MemoryStore: Not enough space to cache rdd_851_21 in memory! (computed 6.8 MiB so far)\n",
      "21/12/25 20:27:34 WARN MemoryStore: Not enough space to cache rdd_851_22 in memory! (computed 6.8 MiB so far)\n",
      "21/12/25 20:27:34 WARN MemoryStore: Not enough space to cache rdd_851_23 in memory! (computed 6.8 MiB so far)\n",
      "21/12/25 20:27:35 WARN MemoryStore: Not enough space to cache rdd_851_24 in memory! (computed 16.2 MiB so far)\n",
      "21/12/25 20:27:35 WARN MemoryStore: Failed to reserve initial memory threshold of 1024.0 KiB for computing block rdd_851_26 in memory.\n",
      "21/12/25 20:27:35 WARN MemoryStore: Not enough space to cache rdd_851_26 in memory! (computed 384.0 B so far)\n",
      "21/12/25 20:27:35 WARN MemoryStore: Not enough space to cache rdd_851_25 in memory! (computed 10.5 MiB so far)\n",
      "21/12/25 20:27:35 WARN MemoryStore: Failed to reserve initial memory threshold of 1024.0 KiB for computing block rdd_851_27 in memory.\n",
      "21/12/25 20:27:35 WARN MemoryStore: Not enough space to cache rdd_851_27 in memory! (computed 384.0 B so far)\n",
      "21/12/25 20:27:35 WARN MemoryStore: Not enough space to cache rdd_851_31 in memory! (computed 2.5 MiB so far)\n",
      "21/12/25 20:27:35 WARN MemoryStore: Not enough space to cache rdd_851_30 in memory! (computed 6.8 MiB so far)\n",
      "21/12/25 20:27:35 WARN MemoryStore: Not enough space to cache rdd_851_28 in memory! (computed 10.5 MiB so far)\n",
      "21/12/25 20:27:35 WARN MemoryStore: Not enough space to cache rdd_851_29 in memory! (computed 6.8 MiB so far)\n",
      "21/12/25 20:27:36 WARN MemoryStore: Not enough space to cache rdd_851_32 in memory! (computed 16.2 MiB so far)\n",
      "21/12/25 20:27:36 WARN MemoryStore: Not enough space to cache rdd_851_33 in memory! (computed 10.5 MiB so far)\n",
      "21/12/25 20:27:36 WARN MemoryStore: Failed to reserve initial memory threshold of 1024.0 KiB for computing block rdd_851_34 in memory.\n",
      "21/12/25 20:27:36 WARN MemoryStore: Not enough space to cache rdd_851_34 in memory! (computed 384.0 B so far)\n",
      "21/12/25 20:27:36 WARN MemoryStore: Failed to reserve initial memory threshold of 1024.0 KiB for computing block rdd_851_35 in memory.\n",
      "21/12/25 20:27:36 WARN MemoryStore: Not enough space to cache rdd_851_35 in memory! (computed 384.0 B so far)\n",
      "21/12/25 20:27:36 WARN MemoryStore: Failed to reserve initial memory threshold of 1024.0 KiB for computing block rdd_851_36 in memory.\n",
      "21/12/25 20:27:36 WARN MemoryStore: Not enough space to cache rdd_851_36 in memory! (computed 384.0 B so far)\n",
      "21/12/25 20:27:36 WARN MemoryStore: Failed to reserve initial memory threshold of 1024.0 KiB for computing block rdd_851_38 in memory.\n",
      "21/12/25 20:27:36 WARN MemoryStore: Not enough space to cache rdd_851_38 in memory! (computed 384.0 B so far)\n",
      "21/12/25 20:27:36 WARN MemoryStore: Failed to reserve initial memory threshold of 1024.0 KiB for computing block rdd_851_37 in memory.\n",
      "21/12/25 20:27:36 WARN MemoryStore: Not enough space to cache rdd_851_37 in memory! (computed 384.0 B so far)\n",
      "21/12/25 20:27:36 WARN MemoryStore: Failed to reserve initial memory threshold of 1024.0 KiB for computing block rdd_851_39 in memory.\n",
      "21/12/25 20:27:36 WARN MemoryStore: Not enough space to cache rdd_851_39 in memory! (computed 384.0 B so far)\n",
      "21/12/25 20:27:37 WARN MemoryStore: Failed to reserve initial memory threshold of 1024.0 KiB for computing block rdd_851_42 in memory.\n",
      "21/12/25 20:27:37 WARN MemoryStore: Not enough space to cache rdd_851_42 in memory! (computed 384.0 B so far)\n",
      "21/12/25 20:27:37 WARN MemoryStore: Not enough space to cache rdd_851_41 in memory! (computed 10.5 MiB so far)\n",
      "21/12/25 20:27:37 WARN MemoryStore: Not enough space to cache rdd_851_40 in memory! (computed 16.2 MiB so far)\n",
      "21/12/25 20:27:37 WARN MemoryStore: Failed to reserve initial memory threshold of 1024.0 KiB for computing block rdd_851_43 in memory.\n",
      "21/12/25 20:27:37 WARN MemoryStore: Not enough space to cache rdd_851_43 in memory! (computed 384.0 B so far)\n",
      "21/12/25 20:27:37 WARN MemoryStore: Failed to reserve initial memory threshold of 1024.0 KiB for computing block rdd_851_44 in memory.\n",
      "21/12/25 20:27:37 WARN MemoryStore: Not enough space to cache rdd_851_44 in memory! (computed 384.0 B so far)\n",
      "21/12/25 20:27:37 WARN MemoryStore: Failed to reserve initial memory threshold of 1024.0 KiB for computing block rdd_851_45 in memory.\n",
      "21/12/25 20:27:37 WARN MemoryStore: Not enough space to cache rdd_851_45 in memory! (computed 384.0 B so far)\n",
      "21/12/25 20:27:37 WARN MemoryStore: Failed to reserve initial memory threshold of 1024.0 KiB for computing block rdd_851_46 in memory.\n",
      "21/12/25 20:27:37 WARN MemoryStore: Not enough space to cache rdd_851_46 in memory! (computed 384.0 B so far)\n",
      "21/12/25 20:27:37 WARN MemoryStore: Not enough space to cache rdd_851_47 in memory! (computed 24.3 MiB so far)\n",
      "21/12/25 20:27:37 WARN MemoryStore: Failed to reserve initial memory threshold of 1024.0 KiB for computing block rdd_851_50 in memory.\n",
      "21/12/25 20:27:37 WARN MemoryStore: Not enough space to cache rdd_851_50 in memory! (computed 384.0 B so far)\n",
      "21/12/25 20:27:37 WARN MemoryStore: Not enough space to cache rdd_851_49 in memory! (computed 10.5 MiB so far)\n",
      "21/12/25 20:27:37 WARN MemoryStore: Not enough space to cache rdd_851_48 in memory! (computed 16.2 MiB so far)\n",
      "21/12/25 20:27:37 WARN MemoryStore: Failed to reserve initial memory threshold of 1024.0 KiB for computing block rdd_851_51 in memory.\n",
      "21/12/25 20:27:37 WARN MemoryStore: Not enough space to cache rdd_851_51 in memory! (computed 384.0 B so far)\n",
      "21/12/25 20:27:37 WARN MemoryStore: Failed to reserve initial memory threshold of 1024.0 KiB for computing block rdd_851_53 in memory.\n",
      "21/12/25 20:27:37 WARN MemoryStore: Not enough space to cache rdd_851_53 in memory! (computed 384.0 B so far)\n",
      "21/12/25 20:27:37 WARN MemoryStore: Failed to reserve initial memory threshold of 1024.0 KiB for computing block rdd_851_52 in memory.\n",
      "21/12/25 20:27:37 WARN MemoryStore: Not enough space to cache rdd_851_52 in memory! (computed 384.0 B so far)\n",
      "21/12/25 20:27:38 WARN MemoryStore: Not enough space to cache rdd_851_54 in memory! (computed 16.2 MiB so far)\n",
      "21/12/25 20:27:38 WARN MemoryStore: Not enough space to cache rdd_851_55 in memory! (computed 10.5 MiB so far)\n",
      "21/12/25 20:27:38 WARN MemoryStore: Not enough space to cache rdd_851_56 in memory! (computed 24.3 MiB so far)\n",
      "21/12/25 20:27:38 WARN MemoryStore: Not enough space to cache rdd_851_57 in memory! (computed 2.5 MiB so far)\n",
      "21/12/25 20:27:38 WARN MemoryStore: Failed to reserve initial memory threshold of 1024.0 KiB for computing block rdd_851_58 in memory.\n",
      "21/12/25 20:27:38 WARN MemoryStore: Not enough space to cache rdd_851_58 in memory! (computed 384.0 B so far)\n",
      "21/12/25 20:27:38 WARN MemoryStore: Failed to reserve initial memory threshold of 1024.0 KiB for computing block rdd_851_59 in memory.\n",
      "21/12/25 20:27:38 WARN MemoryStore: Not enough space to cache rdd_851_59 in memory! (computed 384.0 B so far)\n",
      "21/12/25 20:27:38 WARN MemoryStore: Failed to reserve initial memory threshold of 1024.0 KiB for computing block rdd_851_60 in memory.\n",
      "21/12/25 20:27:38 WARN MemoryStore: Not enough space to cache rdd_851_60 in memory! (computed 384.0 B so far)\n",
      "21/12/25 20:27:38 WARN MemoryStore: Not enough space to cache rdd_851_61 in memory! (computed 2.5 MiB so far)\n",
      "21/12/25 20:27:38 WARN MemoryStore: Not enough space to cache rdd_851_62 in memory! (computed 10.5 MiB so far)\n",
      "21/12/25 20:27:38 WARN MemoryStore: Not enough space to cache rdd_851_63 in memory! (computed 16.2 MiB so far)\n",
      "21/12/25 20:27:39 WARN MemoryStore: Not enough space to cache rdd_851_64 in memory! (computed 24.3 MiB so far)\n",
      "21/12/25 20:27:39 WARN MemoryStore: Not enough space to cache rdd_851_66 in memory! (computed 1305.5 KiB so far)\n",
      "21/12/25 20:27:39 WARN MemoryStore: Not enough space to cache rdd_851_65 in memory! (computed 1305.5 KiB so far)\n",
      "21/12/25 20:27:39 WARN MemoryStore: Not enough space to cache rdd_851_67 in memory! (computed 1305.5 KiB so far)\n",
      "21/12/25 20:27:39 WARN MemoryStore: Not enough space to cache rdd_851_69 in memory! (computed 6.8 MiB so far)\n",
      "21/12/25 20:27:39 WARN MemoryStore: Not enough space to cache rdd_851_68 in memory! (computed 16.2 MiB so far)\n",
      "21/12/25 20:27:39 WARN MemoryStore: Not enough space to cache rdd_851_70 in memory! (computed 4.4 MiB so far)\n",
      "21/12/25 20:27:39 WARN MemoryStore: Not enough space to cache rdd_851_71 in memory! (computed 10.5 MiB so far)\n",
      "21/12/25 20:27:40 WARN MemoryStore: Not enough space to cache rdd_851_72 in memory! (computed 24.3 MiB so far)\n",
      "21/12/25 20:27:40 WARN MemoryStore: Failed to reserve initial memory threshold of 1024.0 KiB for computing block rdd_851_74 in memory.\n",
      "21/12/25 20:27:40 WARN MemoryStore: Not enough space to cache rdd_851_74 in memory! (computed 384.0 B so far)\n",
      "21/12/25 20:27:40 WARN MemoryStore: Not enough space to cache rdd_851_73 in memory! (computed 2.5 MiB so far)\n",
      "21/12/25 20:27:40 WARN MemoryStore: Not enough space to cache rdd_851_77 in memory! (computed 4.4 MiB so far)\n",
      "21/12/25 20:27:40 WARN MemoryStore: Failed to reserve initial memory threshold of 1024.0 KiB for computing block rdd_851_78 in memory.\n",
      "21/12/25 20:27:40 WARN MemoryStore: Not enough space to cache rdd_851_78 in memory! (computed 384.0 B so far)\n",
      "21/12/25 20:27:40 WARN MemoryStore: Not enough space to cache rdd_851_76 in memory! (computed 6.8 MiB so far)\n",
      "21/12/25 20:27:40 WARN MemoryStore: Not enough space to cache rdd_851_75 in memory! (computed 16.2 MiB so far)\n",
      "21/12/25 20:27:40 WARN MemoryStore: Not enough space to cache rdd_851_79 in memory! (computed 10.5 MiB so far)\n",
      "21/12/25 20:27:40 WARN MemoryStore: Not enough space to cache rdd_851_80 in memory! (computed 24.3 MiB so far)\n",
      "21/12/25 20:27:41 WARN MemoryStore: Not enough space to cache rdd_851_81 in memory! (computed 2.5 MiB so far)\n",
      "21/12/25 20:27:41 WARN MemoryStore: Failed to reserve initial memory threshold of 1024.0 KiB for computing block rdd_851_82 in memory.\n",
      "21/12/25 20:27:41 WARN MemoryStore: Not enough space to cache rdd_851_82 in memory! (computed 384.0 B so far)\n",
      "21/12/25 20:27:41 WARN MemoryStore: Not enough space to cache rdd_851_83 in memory! (computed 10.5 MiB so far)\n",
      "21/12/25 20:27:41 WARN MemoryStore: Not enough space to cache rdd_851_86 in memory! (computed 2.5 MiB so far)\n",
      "21/12/25 20:27:41 WARN MemoryStore: Not enough space to cache rdd_851_85 in memory! (computed 4.4 MiB so far)\n",
      "21/12/25 20:27:41 WARN MemoryStore: Not enough space to cache rdd_851_84 in memory! (computed 10.5 MiB so far)\n",
      "21/12/25 20:27:41 WARN MemoryStore: Not enough space to cache rdd_851_87 in memory! (computed 24.3 MiB so far)\n",
      "21/12/25 20:27:41 WARN MemoryStore: Not enough space to cache rdd_851_88 in memory! (computed 24.3 MiB so far)\n",
      "21/12/25 20:27:41 WARN MemoryStore: Not enough space to cache rdd_851_89 in memory! (computed 2.5 MiB so far)\n",
      "21/12/25 20:27:41 WARN MemoryStore: Failed to reserve initial memory threshold of 1024.0 KiB for computing block rdd_851_90 in memory.\n",
      "21/12/25 20:27:41 WARN MemoryStore: Not enough space to cache rdd_851_90 in memory! (computed 384.0 B so far)\n",
      "21/12/25 20:27:41 WARN MemoryStore: Not enough space to cache rdd_851_91 in memory! (computed 2.5 MiB so far)\n",
      "21/12/25 20:27:41 WARN MemoryStore: Failed to reserve initial memory threshold of 1024.0 KiB for computing block rdd_851_92 in memory.\n",
      "21/12/25 20:27:41 WARN MemoryStore: Not enough space to cache rdd_851_92 in memory! (computed 384.0 B so far)\n",
      "21/12/25 20:27:42 WARN MemoryStore: Not enough space to cache rdd_851_93 in memory! (computed 16.2 MiB so far)\n",
      "21/12/25 20:27:42 WARN MemoryStore: Not enough space to cache rdd_851_94 in memory! (computed 10.5 MiB so far)\n",
      "21/12/25 20:27:42 WARN MemoryStore: Failed to reserve initial memory threshold of 1024.0 KiB for computing block rdd_851_95 in memory.\n",
      "21/12/25 20:27:42 WARN MemoryStore: Not enough space to cache rdd_851_95 in memory! (computed 384.0 B so far)\n",
      "21/12/25 20:27:42 WARN MemoryStore: Not enough space to cache rdd_851_96 in memory! (computed 24.3 MiB so far)\n",
      "21/12/25 20:27:42 WARN MemoryStore: Not enough space to cache rdd_851_97 in memory! (computed 2.5 MiB so far)\n",
      "21/12/25 20:27:42 WARN MemoryStore: Not enough space to cache rdd_851_98 in memory! (computed 2.5 MiB so far)\n",
      "21/12/25 20:27:42 WARN MemoryStore: Not enough space to cache rdd_851_99 in memory! (computed 2.5 MiB so far)\n",
      "21/12/25 20:27:42 WARN MemoryStore: Failed to reserve initial memory threshold of 1024.0 KiB for computing block rdd_851_100 in memory.\n",
      "21/12/25 20:27:42 WARN MemoryStore: Not enough space to cache rdd_851_100 in memory! (computed 384.0 B so far)\n",
      "21/12/25 20:27:43 WARN MemoryStore: Not enough space to cache rdd_851_101 in memory! (computed 10.5 MiB so far)\n",
      "21/12/25 20:27:43 WARN MemoryStore: Not enough space to cache rdd_851_102 in memory! (computed 16.2 MiB so far)\n",
      "21/12/25 20:27:43 WARN MemoryStore: Failed to reserve initial memory threshold of 1024.0 KiB for computing block rdd_851_103 in memory.\n",
      "21/12/25 20:27:43 WARN MemoryStore: Not enough space to cache rdd_851_103 in memory! (computed 384.0 B so far)\n",
      "21/12/25 20:27:43 WARN MemoryStore: Not enough space to cache rdd_851_104 in memory! (computed 24.3 MiB so far)\n",
      "21/12/25 20:27:43 WARN MemoryStore: Not enough space to cache rdd_851_105 in memory! (computed 2.5 MiB so far)\n",
      "21/12/25 20:27:43 WARN MemoryStore: Not enough space to cache rdd_851_106 in memory! (computed 2.5 MiB so far)\n",
      "21/12/25 20:27:43 WARN MemoryStore: Failed to reserve initial memory threshold of 1024.0 KiB for computing block rdd_851_107 in memory.\n",
      "21/12/25 20:27:43 WARN MemoryStore: Not enough space to cache rdd_851_107 in memory! (computed 384.0 B so far)\n",
      "21/12/25 20:27:43 WARN MemoryStore: Not enough space to cache rdd_851_108 in memory! (computed 2.5 MiB so far)\n",
      "21/12/25 20:27:43 WARN MemoryStore: Not enough space to cache rdd_851_109 in memory! (computed 16.2 MiB so far)\n",
      "21/12/25 20:27:43 WARN MemoryStore: Not enough space to cache rdd_851_110 in memory! (computed 10.5 MiB so far)\n",
      "21/12/25 20:27:43 WARN MemoryStore: Failed to reserve initial memory threshold of 1024.0 KiB for computing block rdd_851_111 in memory.\n",
      "21/12/25 20:27:43 WARN MemoryStore: Not enough space to cache rdd_851_111 in memory! (computed 384.0 B so far)\n",
      "21/12/25 20:27:44 WARN MemoryStore: Not enough space to cache rdd_851_112 in memory! (computed 16.2 MiB so far)\n",
      "21/12/25 20:27:44 WARN MemoryStore: Not enough space to cache rdd_851_113 in memory! (computed 10.5 MiB so far)\n",
      "21/12/25 20:27:44 WARN MemoryStore: Failed to reserve initial memory threshold of 1024.0 KiB for computing block rdd_851_114 in memory.\n",
      "21/12/25 20:27:44 WARN MemoryStore: Not enough space to cache rdd_851_114 in memory! (computed 384.0 B so far)\n",
      "21/12/25 20:27:44 WARN MemoryStore: Failed to reserve initial memory threshold of 1024.0 KiB for computing block rdd_851_115 in memory.\n",
      "21/12/25 20:27:44 WARN MemoryStore: Not enough space to cache rdd_851_115 in memory! (computed 384.0 B so far)\n",
      "21/12/25 20:27:44 WARN MemoryStore: Not enough space to cache rdd_851_117 in memory! (computed 2.5 MiB so far)\n",
      "21/12/25 20:27:44 WARN MemoryStore: Not enough space to cache rdd_851_116 in memory! (computed 24.3 MiB so far)\n",
      "21/12/25 20:27:44 WARN MemoryStore: Not enough space to cache rdd_851_118 in memory! (computed 2.5 MiB so far)\n",
      "21/12/25 20:27:44 WARN MemoryStore: Failed to reserve initial memory threshold of 1024.0 KiB for computing block rdd_851_119 in memory.\n",
      "21/12/25 20:27:44 WARN MemoryStore: Not enough space to cache rdd_851_119 in memory! (computed 384.0 B so far)\n",
      "21/12/25 20:27:44 WARN MemoryStore: Not enough space to cache rdd_851_120 in memory! (computed 16.2 MiB so far)\n",
      "21/12/25 20:27:44 WARN MemoryStore: Not enough space to cache rdd_851_121 in memory! (computed 10.5 MiB so far)\n",
      "21/12/25 20:27:44 WARN MemoryStore: Failed to reserve initial memory threshold of 1024.0 KiB for computing block rdd_851_122 in memory.\n",
      "21/12/25 20:27:44 WARN MemoryStore: Not enough space to cache rdd_851_122 in memory! (computed 384.0 B so far)\n",
      "21/12/25 20:27:44 WARN MemoryStore: Failed to reserve initial memory threshold of 1024.0 KiB for computing block rdd_851_123 in memory.\n",
      "21/12/25 20:27:44 WARN MemoryStore: Not enough space to cache rdd_851_123 in memory! (computed 384.0 B so far)\n",
      "21/12/25 20:27:45 WARN MemoryStore: Failed to reserve initial memory threshold of 1024.0 KiB for computing block rdd_851_126 in memory.\n",
      "21/12/25 20:27:45 WARN MemoryStore: Not enough space to cache rdd_851_126 in memory! (computed 384.0 B so far)\n",
      "21/12/25 20:27:45 WARN MemoryStore: Not enough space to cache rdd_851_125 in memory! (computed 10.5 MiB so far)\n",
      "21/12/25 20:27:45 WARN MemoryStore: Not enough space to cache rdd_851_124 in memory! (computed 16.2 MiB so far)\n",
      "21/12/25 20:27:45 WARN MemoryStore: Failed to reserve initial memory threshold of 1024.0 KiB for computing block rdd_851_127 in memory.\n",
      "21/12/25 20:27:45 WARN MemoryStore: Not enough space to cache rdd_851_127 in memory! (computed 384.0 B so far)\n",
      "21/12/25 20:27:45 WARN MemoryStore: Not enough space to cache rdd_851_129 in memory! (computed 16.2 MiB so far)\n",
      "21/12/25 20:27:45 WARN MemoryStore: Not enough space to cache rdd_851_128 in memory! (computed 10.5 MiB so far)\n",
      "21/12/25 20:27:45 WARN MemoryStore: Failed to reserve initial memory threshold of 1024.0 KiB for computing block rdd_851_131 in memory.\n",
      "21/12/25 20:27:45 WARN MemoryStore: Not enough space to cache rdd_851_131 in memory! (computed 384.0 B so far)\n",
      "21/12/25 20:27:45 WARN MemoryStore: Failed to reserve initial memory threshold of 1024.0 KiB for computing block rdd_851_130 in memory.\n",
      "21/12/25 20:27:45 WARN MemoryStore: Not enough space to cache rdd_851_130 in memory! (computed 384.0 B so far)\n",
      "21/12/25 20:27:46 WARN MemoryStore: Not enough space to cache rdd_851_134 in memory! (computed 4.4 MiB so far)\n",
      "21/12/25 20:27:46 WARN MemoryStore: Not enough space to cache rdd_851_132 in memory! (computed 16.2 MiB so far)\n",
      "21/12/25 20:27:46 WARN MemoryStore: Not enough space to cache rdd_851_133 in memory! (computed 6.8 MiB so far)\n",
      "21/12/25 20:27:46 WARN MemoryStore: Failed to reserve initial memory threshold of 1024.0 KiB for computing block rdd_851_135 in memory.\n",
      "21/12/25 20:27:46 WARN MemoryStore: Not enough space to cache rdd_851_135 in memory! (computed 384.0 B so far)\n",
      "21/12/25 20:27:46 WARN MemoryStore: Not enough space to cache rdd_851_136 in memory! (computed 24.3 MiB so far)\n",
      "21/12/25 20:27:46 WARN MemoryStore: Not enough space to cache rdd_851_137 in memory! (computed 2.5 MiB so far)\n",
      "21/12/25 20:27:46 WARN MemoryStore: Failed to reserve initial memory threshold of 1024.0 KiB for computing block rdd_851_138 in memory.\n",
      "21/12/25 20:27:46 WARN MemoryStore: Not enough space to cache rdd_851_138 in memory! (computed 384.0 B so far)\n",
      "21/12/25 20:27:46 WARN MemoryStore: Not enough space to cache rdd_851_139 in memory! (computed 2.5 MiB so far)\n",
      "21/12/25 20:27:46 WARN MemoryStore: Not enough space to cache rdd_851_141 in memory! (computed 6.8 MiB so far)\n",
      "21/12/25 20:27:46 WARN MemoryStore: Not enough space to cache rdd_851_142 in memory! (computed 6.8 MiB so far)\n",
      "21/12/25 20:27:46 WARN MemoryStore: Not enough space to cache rdd_851_140 in memory! (computed 10.5 MiB so far)\n",
      "21/12/25 20:27:46 WARN MemoryStore: Not enough space to cache rdd_851_143 in memory! (computed 2.5 MiB so far)\n",
      "21/12/25 20:27:47 WARN MemoryStore: Not enough space to cache rdd_851_145 in memory! (computed 2.5 MiB so far)\n",
      "21/12/25 20:27:47 WARN MemoryStore: Not enough space to cache rdd_851_144 in memory! (computed 24.3 MiB so far)\n",
      "21/12/25 20:27:47 WARN MemoryStore: Failed to reserve initial memory threshold of 1024.0 KiB for computing block rdd_851_147 in memory.\n",
      "21/12/25 20:27:47 WARN MemoryStore: Not enough space to cache rdd_851_147 in memory! (computed 384.0 B so far)\n",
      "21/12/25 20:27:47 WARN MemoryStore: Not enough space to cache rdd_851_146 in memory! (computed 2.5 MiB so far)\n",
      "21/12/25 20:27:47 WARN MemoryStore: Failed to reserve initial memory threshold of 1024.0 KiB for computing block rdd_851_150 in memory.\n",
      "21/12/25 20:27:47 WARN MemoryStore: Not enough space to cache rdd_851_150 in memory! (computed 384.0 B so far)\n",
      "21/12/25 20:27:47 WARN MemoryStore: Not enough space to cache rdd_851_149 in memory! (computed 2.5 MiB so far)\n",
      "21/12/25 20:27:47 WARN MemoryStore: Failed to reserve initial memory threshold of 1024.0 KiB for computing block rdd_851_151 in memory.\n",
      "21/12/25 20:27:47 WARN MemoryStore: Not enough space to cache rdd_851_151 in memory! (computed 384.0 B so far)\n",
      "21/12/25 20:27:47 WARN MemoryStore: Not enough space to cache rdd_851_148 in memory! (computed 24.3 MiB so far)\n",
      "21/12/25 20:27:48 WARN MemoryStore: Not enough space to cache rdd_851_153 in memory! (computed 2.5 MiB so far)\n",
      "21/12/25 20:27:48 WARN MemoryStore: Failed to reserve initial memory threshold of 1024.0 KiB for computing block rdd_851_154 in memory.\n",
      "21/12/25 20:27:48 WARN MemoryStore: Not enough space to cache rdd_851_154 in memory! (computed 384.0 B so far)\n",
      "21/12/25 20:27:48 WARN MemoryStore: Not enough space to cache rdd_851_152 in memory! (computed 24.3 MiB so far)\n",
      "21/12/25 20:27:48 WARN MemoryStore: Not enough space to cache rdd_851_155 in memory! (computed 2.5 MiB so far)\n",
      "21/12/25 20:27:48 WARN MemoryStore: Not enough space to cache rdd_851_158 in memory! (computed 6.8 MiB so far)\n",
      "21/12/25 20:27:48 WARN MemoryStore: Not enough space to cache rdd_851_157 in memory! (computed 6.8 MiB so far)\n",
      "21/12/25 20:27:48 WARN MemoryStore: Not enough space to cache rdd_851_156 in memory! (computed 10.5 MiB so far)\n",
      "21/12/25 20:27:48 WARN MemoryStore: Not enough space to cache rdd_851_159 in memory! (computed 2.5 MiB so far)\n",
      "21/12/25 20:27:48 WARN MemoryStore: Not enough space to cache rdd_851_161 in memory! (computed 6.8 MiB so far)\n",
      "21/12/25 20:27:48 WARN MemoryStore: Not enough space to cache rdd_851_160 in memory! (computed 6.8 MiB so far)\n",
      "21/12/25 20:27:48 WARN MemoryStore: Not enough space to cache rdd_851_162 in memory! (computed 10.5 MiB so far)\n",
      "21/12/25 20:27:48 WARN MemoryStore: Not enough space to cache rdd_851_163 in memory! (computed 2.5 MiB so far)\n",
      "21/12/25 20:27:49 WARN MemoryStore: Not enough space to cache rdd_851_166 in memory! (computed 4.4 MiB so far)\n",
      "21/12/25 20:27:49 WARN MemoryStore: Not enough space to cache rdd_851_167 in memory! (computed 4.4 MiB so far)\n",
      "21/12/25 20:27:49 WARN MemoryStore: Not enough space to cache rdd_851_165 in memory! (computed 6.8 MiB so far)\n",
      "21/12/25 20:27:49 WARN MemoryStore: Not enough space to cache rdd_851_164 in memory! (computed 10.5 MiB so far)\n",
      "21/12/25 20:27:49 WARN MemoryStore: Not enough space to cache rdd_851_168 in memory! (computed 10.5 MiB so far)\n",
      "21/12/25 20:27:49 WARN MemoryStore: Not enough space to cache rdd_851_169 in memory! (computed 10.5 MiB so far)\n",
      "21/12/25 20:27:49 WARN MemoryStore: Not enough space to cache rdd_851_170 in memory! (computed 4.4 MiB so far)\n",
      "21/12/25 20:27:49 WARN MemoryStore: Not enough space to cache rdd_851_171 in memory! (computed 2.5 MiB so far)\n",
      "21/12/25 20:27:49 WARN MemoryStore: Not enough space to cache rdd_851_172 in memory! (computed 10.5 MiB so far)\n",
      "21/12/25 20:27:49 WARN MemoryStore: Not enough space to cache rdd_851_174 in memory! (computed 10.5 MiB so far)\n",
      "21/12/25 20:27:49 WARN MemoryStore: Not enough space to cache rdd_851_173 in memory! (computed 4.4 MiB so far)\n",
      "21/12/25 20:27:49 WARN MemoryStore: Not enough space to cache rdd_851_175 in memory! (computed 2.5 MiB so far)\n",
      "21/12/25 20:27:50 WARN MemoryStore: Not enough space to cache rdd_851_177 in memory! (computed 10.5 MiB so far)\n",
      "21/12/25 20:27:50 WARN MemoryStore: Not enough space to cache rdd_851_176 in memory! (computed 16.2 MiB so far)\n",
      "21/12/25 20:27:50 WARN MemoryStore: Failed to reserve initial memory threshold of 1024.0 KiB for computing block rdd_851_180 in memory.\n",
      "21/12/25 20:27:50 WARN MemoryStore: Not enough space to cache rdd_851_180 in memory! (computed 384.0 B so far)\n",
      "21/12/25 20:27:50 WARN MemoryStore: Not enough space to cache rdd_851_181 in memory! (computed 16.2 MiB so far)\n",
      "21/12/25 20:27:50 WARN MemoryStore: Failed to reserve initial memory threshold of 1024.0 KiB for computing block rdd_851_183 in memory.\n",
      "21/12/25 20:27:50 WARN MemoryStore: Not enough space to cache rdd_851_183 in memory! (computed 384.0 B so far)\n",
      "21/12/25 20:27:50 WARN MemoryStore: Not enough space to cache rdd_851_182 in memory! (computed 10.5 MiB so far)\n",
      "21/12/25 20:27:51 WARN MemoryStore: Not enough space to cache rdd_851_184 in memory! (computed 24.3 MiB so far)\n",
      "21/12/25 20:27:51 WARN MemoryStore: Not enough space to cache rdd_851_185 in memory! (computed 2.5 MiB so far)\n",
      "21/12/25 20:27:51 WARN MemoryStore: Not enough space to cache rdd_851_187 in memory! (computed 16.2 MiB so far)\n",
      "21/12/25 20:27:51 WARN MemoryStore: Not enough space to cache rdd_851_186 in memory! (computed 10.5 MiB so far)\n",
      "21/12/25 20:27:51 WARN MemoryStore: Not enough space to cache rdd_851_188 in memory! (computed 24.3 MiB so far)\n",
      "21/12/25 20:27:51 WARN MemoryStore: Not enough space to cache rdd_851_189 in memory! (computed 2.5 MiB so far)\n",
      "21/12/25 20:27:51 WARN MemoryStore: Not enough space to cache rdd_851_192 in memory! (computed 24.3 MiB so far)\n",
      "21/12/25 20:27:51 WARN MemoryStore: Not enough space to cache rdd_851_193 in memory! (computed 2.5 MiB so far)\n",
      "21/12/25 20:27:52 WARN MemoryStore: Not enough space to cache rdd_851_196 in memory! (computed 16.2 MiB so far)\n",
      "21/12/25 20:27:52 WARN MemoryStore: Not enough space to cache rdd_851_197 in memory! (computed 10.5 MiB so far)\n",
      "21/12/25 20:27:52 WARN MemoryStore: Failed to reserve initial memory threshold of 1024.0 KiB for computing block rdd_851_198 in memory.\n",
      "21/12/25 20:27:52 WARN MemoryStore: Not enough space to cache rdd_851_198 in memory! (computed 384.0 B so far)\n",
      "21/12/25 20:27:52 WARN MemoryStore: Failed to reserve initial memory threshold of 1024.0 KiB for computing block rdd_851_199 in memory.\n",
      "21/12/25 20:27:52 WARN MemoryStore: Not enough space to cache rdd_851_199 in memory! (computed 384.0 B so far)\n",
      "                                                                                \r"
     ]
    },
    {
     "name": "stdout",
     "output_type": "stream",
     "text": [
      "Random Forest model with countVec Accuracy: \n",
      "0.5374366721410685\n"
     ]
    },
    {
     "name": "stderr",
     "output_type": "stream",
     "text": [
      "                                                                                \r"
     ]
    },
    {
     "name": "stdout",
     "output_type": "stream",
     "text": [
      "Random Forest model with countVec Recall score: 0.9997124821934995\n",
      "Random Forest model with countVec Precision score: 0.6661528681279445\n"
     ]
    }
   ],
   "source": [
    "# build Random Forest Model with countVec pipeline\n",
    "rf_model = rf.fit(train_data)\n",
    "# test Random Forest Model with countVec pipeline\n",
    "rf_predictions = rf_model.transform(test_data)\n",
    "\n",
    "# evaluate Random Forest Model with countVec\n",
    "rf_ev = evaluator.evaluate(rf_predictions)\n",
    "\n",
    "print(\"Random Forest model with countVec Accuracy: \\n\" + str(rf_ev))\n",
    "\n",
    "# calculate recall and percision\n",
    "y_true = np.array(rf_predictions.select(\"label\").collect())\n",
    "y_pred = np.array(rf_predictions.select(\"prediction\").collect())\n",
    "\n",
    "print(\"Random Forest model with countVec Recall score: {}\".format(recall_score(y_true,y_pred)))\n",
    "print(\"Random Forest model with countVec Precision score: {}\".format(precision_score(y_true,y_pred)))"
   ]
  }
 ],
 "metadata": {
  "kernelspec": {
   "display_name": "Python 3 (ipykernel)",
   "language": "python",
   "name": "python3"
  },
  "language_info": {
   "codemirror_mode": {
    "name": "ipython",
    "version": 3
   },
   "file_extension": ".py",
   "mimetype": "text/x-python",
   "name": "python",
   "nbconvert_exporter": "python",
   "pygments_lexer": "ipython3",
   "version": "3.9.6"
  }
 },
 "nbformat": 4,
 "nbformat_minor": 5
}
